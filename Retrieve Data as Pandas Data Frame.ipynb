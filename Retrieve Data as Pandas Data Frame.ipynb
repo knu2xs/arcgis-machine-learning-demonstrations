{
 "cells": [
  {
   "cell_type": "markdown",
   "metadata": {},
   "source": [
    "# Import the Python API module and Instantiate the GIS object\n",
    "\n",
    "Import the Python API"
   ]
  },
  {
   "cell_type": "code",
   "execution_count": 1,
   "metadata": {
    "collapsed": true
   },
   "outputs": [],
   "source": [
    "import arcgis"
   ]
  },
  {
   "cell_type": "markdown",
   "metadata": {},
   "source": [
    "Create an GIS object instance using the [account currently logged in through ArcGIS Pro](https://developers.arcgis.com/python/guide/working-with-different-authentication-schemes/#ArcGIS-Pro-user-connecting-to-the-active-portal-in-the-Pro-app)"
   ]
  },
  {
   "cell_type": "code",
   "execution_count": 44,
   "metadata": {},
   "outputs": [],
   "source": [
    "gis_retail = arcgis.gis.GIS('Pro')"
   ]
  },
  {
   "cell_type": "markdown",
   "metadata": {},
   "source": [
    "# Get a Feature Set, data to work with, from the Web GIS Item ID\n",
    "\n",
    "Create a [Web GIS Item](http://esri.github.io/arcgis-python-api/apidoc/html/arcgis.gis.toc.html#item) instance using the Item ID"
   ]
  },
  {
   "cell_type": "code",
   "execution_count": 47,
   "metadata": {},
   "outputs": [
    {
     "data": {
      "text/html": [
       "<div class=\"item_container\" style=\"height: auto; overflow: hidden; border: 1px solid #cfcfcf; border-radius: 2px; background: #f6fafa; line-height: 1.21429em; padding: 10px;\">\n",
       "                    <div class=\"item_left\" style=\"width: 210px; float: left;\">\n",
       "                       <a href='https://www.arcgis.com//home/item.html?id=bf361f9081fd43a7ba57357e74ccc373' target='_blank'>\n",
       "                        <img src='data:image/png;base64,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' width='200' height='133' class=\"itemThumbnail\">\n",
       "                       </a>\n",
       "                    </div>\n",
       "\n",
       "                    <div class=\"item_right\"     style=\"float: none; width: auto; overflow: hidden;\">\n",
       "                        <a href='https://www.arcgis.com//home/item.html?id=bf361f9081fd43a7ba57357e74ccc373' target='_blank'><b>Drive_Time_Trade_Areas</b>\n",
       "                        </a>\n",
       "                        <br/>Drive time trade areas with significant data attached for analyzing through machine learning.<img src='https://www.arcgis.com//home/js/jsapi/esri/css/images/item_type_icons/featureshosted16.png' style=\"vertical-align:middle;\">Feature Layer Collection by joel5174@esri.com_commteamretail\n",
       "                        <br/>Last Modified: August 02, 2017\n",
       "                        <br/>0 comments, 3 views\n",
       "                    </div>\n",
       "                </div>\n",
       "                "
      ],
      "text/plain": [
       "<Item title:\"Drive_Time_Trade_Areas\" type:Feature Service owner:joel5174@esri.com_commteamretail>"
      ]
     },
     "execution_count": 47,
     "metadata": {},
     "output_type": "execute_result"
    }
   ],
   "source": [
    "trade_area_itemid = 'bf361f9081fd43a7ba57357e74ccc373'\n",
    "\n",
    "item = arcgis.gis.Item(gis=gis_retail, itemid=trade_area_itemid)\n",
    "item"
   ]
  },
  {
   "cell_type": "markdown",
   "metadata": {},
   "source": [
    "Since the item only contains one feature layer, get the first layer in the item, the [Feature Layer](http://esri.github.io/arcgis-python-api/apidoc/html/arcgis.features.toc.html#featurelayer) we need to work with."
   ]
  },
  {
   "cell_type": "code",
   "execution_count": 38,
   "metadata": {},
   "outputs": [
    {
     "data": {
      "text/plain": [
       "<FeatureLayer url:\"https://services.arcgis.com/PMTtzuTB6WiPuNSv/arcgis/rest/services/Drive_Time_Trade_Areas/FeatureServer/0\">"
      ]
     },
     "execution_count": 38,
     "metadata": {},
     "output_type": "execute_result"
    }
   ],
   "source": [
    "feature_layer = item.layers[0]\n",
    "feature_layer"
   ]
  },
  {
   "cell_type": "markdown",
   "metadata": {},
   "source": [
    "Now, for this initial analysis, [query](http://esri.github.io/arcgis-python-api/apidoc/html/arcgis.features.toc.html#arcgis.features.FeatureLayer.query) to return just the attributes for the eight minute trade areas as a [Feature Set](http://esri.github.io/arcgis-python-api/apidoc/html/arcgis.features.toc.html#featureset)."
   ]
  },
  {
   "cell_type": "code",
   "execution_count": 42,
   "metadata": {},
   "outputs": [],
   "source": [
    "feature_set = feature_layer.query(where=\"AREA_DESC = '0 - 8 minutes'\", returnGeometry=False)"
   ]
  },
  {
   "cell_type": "markdown",
   "metadata": {},
   "source": [
    "# Convert the Data into a Pandas Data Frame\n",
    "\n",
    "Take advantage of the [`df` function](http://esri.github.io/arcgis-python-api/apidoc/html/arcgis.features.toc.html#arcgis.features.FeatureSet.df) on the Feature set object returned from the query to convert the data to a [Pandas Data Frame](https://pandas.pydata.org/pandas-docs/stable/generated/pandas.DataFrame.html)."
   ]
  },
  {
   "cell_type": "code",
   "execution_count": 41,
   "metadata": {
    "scrolled": true
   },
   "outputs": [
    {
     "data": {
      "text/html": [
       "<div>\n",
       "<style>\n",
       "    .dataframe thead tr:only-child th {\n",
       "        text-align: right;\n",
       "    }\n",
       "\n",
       "    .dataframe thead th {\n",
       "        text-align: left;\n",
       "    }\n",
       "\n",
       "    .dataframe tbody tr th {\n",
       "        vertical-align: top;\n",
       "    }\n",
       "</style>\n",
       "<table border=\"1\" class=\"dataframe\">\n",
       "  <thead>\n",
       "    <tr style=\"text-align: right;\">\n",
       "      <th></th>\n",
       "      <th>AGGDI_CY</th>\n",
       "      <th>AGGNW_CY</th>\n",
       "      <th>AMERIND_CY</th>\n",
       "      <th>AREA_DESC</th>\n",
       "      <th>AREA_ID</th>\n",
       "      <th>ASIAN_CY</th>\n",
       "      <th>ASSCDEG_CY</th>\n",
       "      <th>AVGDI_CY</th>\n",
       "      <th>AVGFMSZ_CY</th>\n",
       "      <th>AVGHHSZ_CY</th>\n",
       "      <th>...</th>\n",
       "      <th>VAL1M_CY</th>\n",
       "      <th>VAL200K_CY</th>\n",
       "      <th>VAL250K_CY</th>\n",
       "      <th>VAL300K_CY</th>\n",
       "      <th>VAL400K_CY</th>\n",
       "      <th>VAL500K_CY</th>\n",
       "      <th>VAL50K_CY</th>\n",
       "      <th>VAL750K_CY</th>\n",
       "      <th>WHITE_CY</th>\n",
       "      <th>WIDOWED_CY</th>\n",
       "    </tr>\n",
       "    <tr>\n",
       "      <th>OBJECTID</th>\n",
       "      <th></th>\n",
       "      <th></th>\n",
       "      <th></th>\n",
       "      <th></th>\n",
       "      <th></th>\n",
       "      <th></th>\n",
       "      <th></th>\n",
       "      <th></th>\n",
       "      <th></th>\n",
       "      <th></th>\n",
       "      <th></th>\n",
       "      <th></th>\n",
       "      <th></th>\n",
       "      <th></th>\n",
       "      <th></th>\n",
       "      <th></th>\n",
       "      <th></th>\n",
       "      <th></th>\n",
       "      <th></th>\n",
       "      <th></th>\n",
       "      <th></th>\n",
       "    </tr>\n",
       "  </thead>\n",
       "  <tbody>\n",
       "    <tr>\n",
       "      <th>3</th>\n",
       "      <td>551906518</td>\n",
       "      <td>2390086587</td>\n",
       "      <td>594</td>\n",
       "      <td>0 - 8 minutes</td>\n",
       "      <td>897225868_1</td>\n",
       "      <td>1432</td>\n",
       "      <td>1669</td>\n",
       "      <td>51008</td>\n",
       "      <td>4.33</td>\n",
       "      <td>3.96</td>\n",
       "      <td>...</td>\n",
       "      <td>157</td>\n",
       "      <td>487</td>\n",
       "      <td>514</td>\n",
       "      <td>1015</td>\n",
       "      <td>938</td>\n",
       "      <td>1290</td>\n",
       "      <td>186</td>\n",
       "      <td>223</td>\n",
       "      <td>19872</td>\n",
       "      <td>1377</td>\n",
       "    </tr>\n",
       "    <tr>\n",
       "      <th>6</th>\n",
       "      <td>6247270524</td>\n",
       "      <td>70627761591</td>\n",
       "      <td>1412</td>\n",
       "      <td>0 - 8 minutes</td>\n",
       "      <td>404768898_1</td>\n",
       "      <td>42842</td>\n",
       "      <td>11671</td>\n",
       "      <td>92202</td>\n",
       "      <td>3.30</td>\n",
       "      <td>2.87</td>\n",
       "      <td>...</td>\n",
       "      <td>4720</td>\n",
       "      <td>472</td>\n",
       "      <td>723</td>\n",
       "      <td>2195</td>\n",
       "      <td>4173</td>\n",
       "      <td>19341</td>\n",
       "      <td>543</td>\n",
       "      <td>11822</td>\n",
       "      <td>113028</td>\n",
       "      <td>7292</td>\n",
       "    </tr>\n",
       "    <tr>\n",
       "      <th>9</th>\n",
       "      <td>3033117454</td>\n",
       "      <td>26795808683</td>\n",
       "      <td>1132</td>\n",
       "      <td>0 - 8 minutes</td>\n",
       "      <td>705003717_1</td>\n",
       "      <td>36384</td>\n",
       "      <td>6982</td>\n",
       "      <td>83499</td>\n",
       "      <td>3.65</td>\n",
       "      <td>3.31</td>\n",
       "      <td>...</td>\n",
       "      <td>871</td>\n",
       "      <td>343</td>\n",
       "      <td>653</td>\n",
       "      <td>2295</td>\n",
       "      <td>4218</td>\n",
       "      <td>11458</td>\n",
       "      <td>733</td>\n",
       "      <td>2607</td>\n",
       "      <td>51285</td>\n",
       "      <td>3382</td>\n",
       "    </tr>\n",
       "    <tr>\n",
       "      <th>12</th>\n",
       "      <td>2954490789</td>\n",
       "      <td>12560995634</td>\n",
       "      <td>1413</td>\n",
       "      <td>0 - 8 minutes</td>\n",
       "      <td>427515311_1</td>\n",
       "      <td>22184</td>\n",
       "      <td>4944</td>\n",
       "      <td>66758</td>\n",
       "      <td>3.25</td>\n",
       "      <td>2.52</td>\n",
       "      <td>...</td>\n",
       "      <td>1117</td>\n",
       "      <td>227</td>\n",
       "      <td>334</td>\n",
       "      <td>1598</td>\n",
       "      <td>2642</td>\n",
       "      <td>5951</td>\n",
       "      <td>137</td>\n",
       "      <td>2150</td>\n",
       "      <td>58040</td>\n",
       "      <td>3501</td>\n",
       "    </tr>\n",
       "    <tr>\n",
       "      <th>15</th>\n",
       "      <td>2048112658</td>\n",
       "      <td>7503591356</td>\n",
       "      <td>1168</td>\n",
       "      <td>0 - 8 minutes</td>\n",
       "      <td>435682132_1</td>\n",
       "      <td>17313</td>\n",
       "      <td>3624</td>\n",
       "      <td>62439</td>\n",
       "      <td>3.42</td>\n",
       "      <td>2.65</td>\n",
       "      <td>...</td>\n",
       "      <td>587</td>\n",
       "      <td>178</td>\n",
       "      <td>314</td>\n",
       "      <td>1410</td>\n",
       "      <td>1888</td>\n",
       "      <td>3907</td>\n",
       "      <td>78</td>\n",
       "      <td>1312</td>\n",
       "      <td>42363</td>\n",
       "      <td>2523</td>\n",
       "    </tr>\n",
       "  </tbody>\n",
       "</table>\n",
       "<p>5 rows × 162 columns</p>\n",
       "</div>"
      ],
      "text/plain": [
       "            AGGDI_CY     AGGNW_CY  AMERIND_CY      AREA_DESC      AREA_ID  \\\n",
       "OBJECTID                                                                    \n",
       "3          551906518   2390086587         594  0 - 8 minutes  897225868_1   \n",
       "6         6247270524  70627761591        1412  0 - 8 minutes  404768898_1   \n",
       "9         3033117454  26795808683        1132  0 - 8 minutes  705003717_1   \n",
       "12        2954490789  12560995634        1413  0 - 8 minutes  427515311_1   \n",
       "15        2048112658   7503591356        1168  0 - 8 minutes  435682132_1   \n",
       "\n",
       "          ASIAN_CY  ASSCDEG_CY  AVGDI_CY  AVGFMSZ_CY  AVGHHSZ_CY     ...      \\\n",
       "OBJECTID                                                             ...       \n",
       "3             1432        1669     51008        4.33        3.96     ...       \n",
       "6            42842       11671     92202        3.30        2.87     ...       \n",
       "9            36384        6982     83499        3.65        3.31     ...       \n",
       "12           22184        4944     66758        3.25        2.52     ...       \n",
       "15           17313        3624     62439        3.42        2.65     ...       \n",
       "\n",
       "          VAL1M_CY  VAL200K_CY  VAL250K_CY  VAL300K_CY  VAL400K_CY  \\\n",
       "OBJECTID                                                             \n",
       "3              157         487         514        1015         938   \n",
       "6             4720         472         723        2195        4173   \n",
       "9              871         343         653        2295        4218   \n",
       "12            1117         227         334        1598        2642   \n",
       "15             587         178         314        1410        1888   \n",
       "\n",
       "          VAL500K_CY VAL50K_CY  VAL750K_CY  WHITE_CY  WIDOWED_CY  \n",
       "OBJECTID                                                          \n",
       "3               1290       186         223     19872        1377  \n",
       "6              19341       543       11822    113028        7292  \n",
       "9              11458       733        2607     51285        3382  \n",
       "12              5951       137        2150     58040        3501  \n",
       "15              3907        78        1312     42363        2523  \n",
       "\n",
       "[5 rows x 162 columns]"
      ]
     },
     "execution_count": 41,
     "metadata": {},
     "output_type": "execute_result"
    }
   ],
   "source": [
    "data_frame = feature_set.df\n",
    "data_frame.head()"
   ]
  },
  {
   "cell_type": "markdown",
   "metadata": {},
   "source": [
    "# Save dependent and independent variable names as Python variables\n",
    "\n",
    "Use a quick list comprehension to create a list of field names to be used as independent variables."
   ]
  },
  {
   "cell_type": "code",
   "execution_count": 45,
   "metadata": {},
   "outputs": [
    {
     "name": "stdout",
     "output_type": "stream",
     "text": [
      "['TOTPOP_CY', 'HHPOP_CY', 'FAMPOP_CY', 'GQPOP_CY', 'POPDENS_CY', 'TOTHH_CY', 'AVGHHSZ_CY', 'FAMHH_CY', 'AVGFMSZ_CY', 'TOTHU_CY', 'OWNER_CY', 'RENTER_CY', 'VACANT_CY', 'POPGRW10CY', 'HHGRW10CY', 'FAMGRW10CY', 'NOHS_CY', 'SOMEHS_CY', 'HSGRAD_CY', 'GED_CY', 'SMCOLL_CY', 'ASSCDEG_CY', 'BACHDEG_CY', 'GRADDEG_CY', 'NEVMARR_CY', 'MARRIED_CY', 'WIDOWED_CY', 'DIVORCD_CY', 'WHITE_CY', 'BLACK_CY', 'AMERIND_CY', 'ASIAN_CY', 'PACIFIC_CY', 'OTHRACE_CY', 'RACE2UP_CY', 'HISPPOP_CY', 'HISPWHT_CY', 'HISPBLK_CY', 'HISPAI_CY', 'HISPASN_CY', 'HISPPI_CY', 'HISPOTH_CY', 'HISPMLT_CY', 'NONHISP_CY', 'NHSPWHT_CY', 'NHSPBLK_CY', 'NHSPAI_CY', 'NHSPASN_CY', 'NHSPPI_CY', 'NHSPOTH_CY', 'NHSPMLT_CY', 'MINORITYCY', 'DIVINDX_CY', 'HINC0_CY', 'HINC15_CY', 'HINC25_CY', 'HINC35_CY', 'HINC50_CY', 'HINC75_CY', 'HINC100_CY', 'HINC150_CY', 'HINC200_CY', 'MEDHINC_CY', 'AVGHINC_CY', 'PCI_CY', 'DI0_CY', 'DI15_CY', 'DI25_CY', 'DI35_CY', 'DI50_CY', 'DI75_CY', 'DI100_CY', 'DI150_CY', 'DI200_CY', 'AGGDI_CY', 'MEDDI_CY', 'AVGDI_CY', 'NW0_CY', 'NW15_CY', 'NW35_CY', 'NW50_CY', 'NW75_CY', 'NW100_CY', 'NW150_CY', 'NW250_CY', 'NW500_CY', 'AGGNW_CY', 'MEDNW_CY', 'AVGNW_CY', 'VAL0_CY', 'VAL50K_CY', 'VAL100K_CY', 'VAL150K_CY', 'VAL200K_CY', 'VAL250K_CY', 'VAL300K_CY', 'VAL400K_CY', 'VAL500K_CY', 'VAL750K_CY', 'VAL1M_CY', 'MEDVAL_CY', 'AVGVAL_CY', 'CIVLBFR_CY', 'EMP_CY', 'INDAGRI_CY', 'INDMIN_CY', 'INDCONS_CY', 'INDMANU_CY', 'INDWHTR_CY', 'INDRTTR_CY', 'INDTRAN_CY', 'INDUTIL_CY', 'INDINFO_CY', 'INDFIN_CY', 'INDRE_CY', 'INDTECH_CY', 'INDMGMT_CY', 'INDADMN_CY', 'INDEDUC_CY', 'INDHLTH_CY', 'INDARTS_CY', 'INDFOOD_CY', 'INDOTSV_CY', 'INDPUBL_CY', 'UNEMP_CY', 'UNEMPRT_CY', 'OCCMGMT_CY', 'OCCBUS_CY', 'OCCCOMP_CY', 'OCCARCH_CY', 'OCCSSCI_CY', 'OCCSSRV_CY', 'OCCLEGL_CY', 'OCCEDUC_CY', 'OCCENT_CY', 'OCCHTCH_CY', 'OCCHLTH_CY', 'OCCPROT_CY', 'OCCFOOD_CY', 'OCCBLDG_CY', 'OCCPERS_CY', 'OCCSALE_CY', 'OCCADMN_CY', 'OCCFARM_CY', 'OCCCONS_CY', 'OCCMAIN_CY', 'OCCPROD_CY', 'OCCTRAN_CY']\n"
     ]
    }
   ],
   "source": [
    "field_name_independent_list = [field['name'] for field in feature_set.fields if \n",
    "    field['type'] != 'esriFieldTypeOID' and  # we don't need the Esri object identifier field\n",
    "    field['name'].startswith('Shape_') == False and  # exclude the Esri shape fields\n",
    "    field['type'] == 'esriFieldTypeDouble' and  # ensure numeric, quantatative, fields are the only fields used\n",
    "    field['name'] != 'STORE_LAT' and  # while numeric, the fields describing the location are not independent varaibles\n",
    "    field['name'] != 'STORE_LONG' and  # while numeric, the fields describing the location are not independent varaibles\n",
    "    field['name'] != 'SALESVOL'  # exclude the dependent variable\n",
    "]\n",
    "print(field_name_independent_list)"
   ]
  },
  {
   "cell_type": "markdown",
   "metadata": {},
   "source": [
    "Also, save the name of the dependent variable field as well."
   ]
  },
  {
   "cell_type": "code",
   "execution_count": 37,
   "metadata": {},
   "outputs": [],
   "source": [
    "field_name_dependent = 'SALESVOL'"
   ]
  },
  {
   "cell_type": "markdown",
   "metadata": {},
   "source": [
    "# Now What?\n",
    "\n",
    "This is where I am now in over my head. Initially, my thought for this first stab is to create four to six store segments using SciKit learn, and identifying the defining attributes of each. This addresses the need of stores to identify store segments for customized assortment planning. Hence, although I do not know exactly how to accomplish this, I can discuss the business case quite easily."
   ]
  },
  {
   "cell_type": "code",
   "execution_count": null,
   "metadata": {
    "collapsed": true
   },
   "outputs": [],
   "source": []
  }
 ],
 "metadata": {
  "kernelspec": {
   "display_name": "Python 3",
   "language": "python",
   "name": "python3"
  },
  "language_info": {
   "codemirror_mode": {
    "name": "ipython",
    "version": 3
   },
   "file_extension": ".py",
   "mimetype": "text/x-python",
   "name": "python",
   "nbconvert_exporter": "python",
   "pygments_lexer": "ipython3",
   "version": "3.5.3"
  }
 },
 "nbformat": 4,
 "nbformat_minor": 2
}

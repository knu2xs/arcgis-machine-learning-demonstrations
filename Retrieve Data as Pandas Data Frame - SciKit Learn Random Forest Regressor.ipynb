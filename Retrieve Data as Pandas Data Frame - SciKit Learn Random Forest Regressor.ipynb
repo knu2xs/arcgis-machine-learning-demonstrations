{
 "cells": [
  {
   "cell_type": "markdown",
   "metadata": {},
   "source": [
    "# Import the Python API module and Instantiate the GIS object\n",
    "\n",
    "Import the Python API"
   ]
  },
  {
   "cell_type": "code",
   "execution_count": 1,
   "metadata": {
    "collapsed": true
   },
   "outputs": [],
   "source": [
    "import arcgis\n",
    "from getpass import getpass"
   ]
  },
  {
   "cell_type": "markdown",
   "metadata": {},
   "source": [
    "Create an GIS object instance using the [account currently logged in through ArcGIS Pro](https://developers.arcgis.com/python/guide/working-with-different-authentication-schemes/#ArcGIS-Pro-user-connecting-to-the-active-portal-in-the-Pro-app)"
   ]
  },
  {
   "cell_type": "code",
   "execution_count": 2,
   "metadata": {},
   "outputs": [
    {
     "name": "stdout",
     "output_type": "stream",
     "text": [
      "Please enter your password: ········\n"
     ]
    }
   ],
   "source": [
    "#gis_retail = arcgis.gis.GIS('Pro')  # optional, use if can use ArcGIS Pro authentication\n",
    "gis_retail = arcgis.gis.GIS(\n",
    "    username='jmccune_retail',  # change this to your username \n",
    "    password=getpass('Please enter your password: ')\n",
    ")"
   ]
  },
  {
   "cell_type": "markdown",
   "metadata": {},
   "source": [
    "# Get a Feature Set, data to work with, from the Web GIS Item ID\n",
    "\n",
    "Create a [Web GIS Item](http://esri.github.io/arcgis-python-api/apidoc/html/arcgis.gis.toc.html#item) instance using the Item ID"
   ]
  },
  {
   "cell_type": "code",
   "execution_count": 3,
   "metadata": {},
   "outputs": [
    {
     "data": {
      "text/html": [
       "<div class=\"item_container\" style=\"height: auto; overflow: hidden; border: 1px solid #cfcfcf; border-radius: 2px; background: #f6fafa; line-height: 1.21429em; padding: 10px;\">\n",
       "                    <div class=\"item_left\" style=\"width: 210px; float: left;\">\n",
       "                       <a href='http://www.arcgis.com/home/item.html?id=bf361f9081fd43a7ba57357e74ccc373' target='_blank'>\n",
       "                        <img src='http://static.arcgis.com/images/desktopapp.png' class=\"itemThumbnail\">\n",
       "                       </a>\n",
       "                    </div>\n",
       "\n",
       "                    <div class=\"item_right\"     style=\"float: none; width: auto; overflow: hidden;\">\n",
       "                        <a href='http://www.arcgis.com/home/item.html?id=bf361f9081fd43a7ba57357e74ccc373' target='_blank'><b>Drive_Time_Trade_Areas</b>\n",
       "                        </a>\n",
       "                        <br/>Drive time trade areas with significant data attached for analyzing through machine learning.<img src='http://www.arcgis.com/home/js/jsapi/esri/css/images/item_type_icons/featureshosted16.png' style=\"vertical-align:middle;\">Feature Layer Collection by joel5174@esri.com_commteamretail\n",
       "                        <br/>Last Modified: August 02, 2017\n",
       "                        <br/>0 comments, 9 views\n",
       "                    </div>\n",
       "                </div>\n",
       "                "
      ],
      "text/plain": [
       "<Item title:\"Drive_Time_Trade_Areas\" type:Feature Service owner:joel5174@esri.com_commteamretail>"
      ]
     },
     "execution_count": 3,
     "metadata": {},
     "output_type": "execute_result"
    }
   ],
   "source": [
    "trade_area_itemid = 'bf361f9081fd43a7ba57357e74ccc373'\n",
    "item = arcgis.gis.Item(gis=gis_retail, itemid=trade_area_itemid)\n",
    "item"
   ]
  },
  {
   "cell_type": "markdown",
   "metadata": {},
   "source": [
    "Since the item only contains one feature layer, get the first layer in the item, the [Feature Layer](http://esri.github.io/arcgis-python-api/apidoc/html/arcgis.features.toc.html#featurelayer) we need to work with."
   ]
  },
  {
   "cell_type": "code",
   "execution_count": 4,
   "metadata": {},
   "outputs": [
    {
     "data": {
      "text/plain": [
       "<FeatureLayer url:\"https://services.arcgis.com/PMTtzuTB6WiPuNSv/arcgis/rest/services/Drive_Time_Trade_Areas/FeatureServer/0\">"
      ]
     },
     "execution_count": 4,
     "metadata": {},
     "output_type": "execute_result"
    }
   ],
   "source": [
    "feature_layer = item.layers[0]\n",
    "feature_layer"
   ]
  },
  {
   "cell_type": "markdown",
   "metadata": {},
   "source": [
    "Now, for this initial analysis, [query](http://esri.github.io/arcgis-python-api/apidoc/html/arcgis.features.toc.html#arcgis.features.FeatureLayer.query) to return just the attributes for the eight minute trade areas as a [Feature Set](http://esri.github.io/arcgis-python-api/apidoc/html/arcgis.features.toc.html#featureset)."
   ]
  },
  {
   "cell_type": "code",
   "execution_count": 5,
   "metadata": {
    "collapsed": true
   },
   "outputs": [],
   "source": [
    "feature_set = feature_layer.query(where=\"AREA_DESC = '0 - 8 minutes'\", returnGeometry=False)"
   ]
  },
  {
   "cell_type": "markdown",
   "metadata": {},
   "source": [
    "# Convert the Data into a Pandas Data Frame\n",
    "\n",
    "Take advantage of the [`df` function](http://esri.github.io/arcgis-python-api/apidoc/html/arcgis.features.toc.html#arcgis.features.FeatureSet.df) on the Feature set object returned from the query to convert the data to a [Pandas Data Frame](https://pandas.pydata.org/pandas-docs/stable/generated/pandas.DataFrame.html)."
   ]
  },
  {
   "cell_type": "code",
   "execution_count": 6,
   "metadata": {
    "scrolled": true
   },
   "outputs": [
    {
     "data": {
      "text/html": [
       "<div>\n",
       "<style>\n",
       "    .dataframe thead tr:only-child th {\n",
       "        text-align: right;\n",
       "    }\n",
       "\n",
       "    .dataframe thead th {\n",
       "        text-align: left;\n",
       "    }\n",
       "\n",
       "    .dataframe tbody tr th {\n",
       "        vertical-align: top;\n",
       "    }\n",
       "</style>\n",
       "<table border=\"1\" class=\"dataframe\">\n",
       "  <thead>\n",
       "    <tr style=\"text-align: right;\">\n",
       "      <th></th>\n",
       "      <th>AGGDI_CY</th>\n",
       "      <th>AGGNW_CY</th>\n",
       "      <th>AMERIND_CY</th>\n",
       "      <th>AREA_DESC</th>\n",
       "      <th>AREA_ID</th>\n",
       "      <th>ASIAN_CY</th>\n",
       "      <th>ASSCDEG_CY</th>\n",
       "      <th>AVGDI_CY</th>\n",
       "      <th>AVGFMSZ_CY</th>\n",
       "      <th>AVGHHSZ_CY</th>\n",
       "      <th>...</th>\n",
       "      <th>VAL1M_CY</th>\n",
       "      <th>VAL200K_CY</th>\n",
       "      <th>VAL250K_CY</th>\n",
       "      <th>VAL300K_CY</th>\n",
       "      <th>VAL400K_CY</th>\n",
       "      <th>VAL500K_CY</th>\n",
       "      <th>VAL50K_CY</th>\n",
       "      <th>VAL750K_CY</th>\n",
       "      <th>WHITE_CY</th>\n",
       "      <th>WIDOWED_CY</th>\n",
       "    </tr>\n",
       "    <tr>\n",
       "      <th>OBJECTID</th>\n",
       "      <th></th>\n",
       "      <th></th>\n",
       "      <th></th>\n",
       "      <th></th>\n",
       "      <th></th>\n",
       "      <th></th>\n",
       "      <th></th>\n",
       "      <th></th>\n",
       "      <th></th>\n",
       "      <th></th>\n",
       "      <th></th>\n",
       "      <th></th>\n",
       "      <th></th>\n",
       "      <th></th>\n",
       "      <th></th>\n",
       "      <th></th>\n",
       "      <th></th>\n",
       "      <th></th>\n",
       "      <th></th>\n",
       "      <th></th>\n",
       "      <th></th>\n",
       "    </tr>\n",
       "  </thead>\n",
       "  <tbody>\n",
       "    <tr>\n",
       "      <th>3</th>\n",
       "      <td>551906518</td>\n",
       "      <td>2390086587</td>\n",
       "      <td>594</td>\n",
       "      <td>0 - 8 minutes</td>\n",
       "      <td>897225868_1</td>\n",
       "      <td>1432</td>\n",
       "      <td>1669</td>\n",
       "      <td>51008</td>\n",
       "      <td>4.33</td>\n",
       "      <td>3.96</td>\n",
       "      <td>...</td>\n",
       "      <td>157</td>\n",
       "      <td>487</td>\n",
       "      <td>514</td>\n",
       "      <td>1015</td>\n",
       "      <td>938</td>\n",
       "      <td>1290</td>\n",
       "      <td>186</td>\n",
       "      <td>223</td>\n",
       "      <td>19872</td>\n",
       "      <td>1377</td>\n",
       "    </tr>\n",
       "    <tr>\n",
       "      <th>6</th>\n",
       "      <td>6247270524</td>\n",
       "      <td>70627761591</td>\n",
       "      <td>1412</td>\n",
       "      <td>0 - 8 minutes</td>\n",
       "      <td>404768898_1</td>\n",
       "      <td>42842</td>\n",
       "      <td>11671</td>\n",
       "      <td>92202</td>\n",
       "      <td>3.30</td>\n",
       "      <td>2.87</td>\n",
       "      <td>...</td>\n",
       "      <td>4720</td>\n",
       "      <td>472</td>\n",
       "      <td>723</td>\n",
       "      <td>2195</td>\n",
       "      <td>4173</td>\n",
       "      <td>19341</td>\n",
       "      <td>543</td>\n",
       "      <td>11822</td>\n",
       "      <td>113028</td>\n",
       "      <td>7292</td>\n",
       "    </tr>\n",
       "    <tr>\n",
       "      <th>9</th>\n",
       "      <td>3033117454</td>\n",
       "      <td>26795808683</td>\n",
       "      <td>1132</td>\n",
       "      <td>0 - 8 minutes</td>\n",
       "      <td>705003717_1</td>\n",
       "      <td>36384</td>\n",
       "      <td>6982</td>\n",
       "      <td>83499</td>\n",
       "      <td>3.65</td>\n",
       "      <td>3.31</td>\n",
       "      <td>...</td>\n",
       "      <td>871</td>\n",
       "      <td>343</td>\n",
       "      <td>653</td>\n",
       "      <td>2295</td>\n",
       "      <td>4218</td>\n",
       "      <td>11458</td>\n",
       "      <td>733</td>\n",
       "      <td>2607</td>\n",
       "      <td>51285</td>\n",
       "      <td>3382</td>\n",
       "    </tr>\n",
       "    <tr>\n",
       "      <th>12</th>\n",
       "      <td>2954490789</td>\n",
       "      <td>12560995634</td>\n",
       "      <td>1413</td>\n",
       "      <td>0 - 8 minutes</td>\n",
       "      <td>427515311_1</td>\n",
       "      <td>22184</td>\n",
       "      <td>4944</td>\n",
       "      <td>66758</td>\n",
       "      <td>3.25</td>\n",
       "      <td>2.52</td>\n",
       "      <td>...</td>\n",
       "      <td>1117</td>\n",
       "      <td>227</td>\n",
       "      <td>334</td>\n",
       "      <td>1598</td>\n",
       "      <td>2642</td>\n",
       "      <td>5951</td>\n",
       "      <td>137</td>\n",
       "      <td>2150</td>\n",
       "      <td>58040</td>\n",
       "      <td>3501</td>\n",
       "    </tr>\n",
       "    <tr>\n",
       "      <th>15</th>\n",
       "      <td>2048112658</td>\n",
       "      <td>7503591356</td>\n",
       "      <td>1168</td>\n",
       "      <td>0 - 8 minutes</td>\n",
       "      <td>435682132_1</td>\n",
       "      <td>17313</td>\n",
       "      <td>3624</td>\n",
       "      <td>62439</td>\n",
       "      <td>3.42</td>\n",
       "      <td>2.65</td>\n",
       "      <td>...</td>\n",
       "      <td>587</td>\n",
       "      <td>178</td>\n",
       "      <td>314</td>\n",
       "      <td>1410</td>\n",
       "      <td>1888</td>\n",
       "      <td>3907</td>\n",
       "      <td>78</td>\n",
       "      <td>1312</td>\n",
       "      <td>42363</td>\n",
       "      <td>2523</td>\n",
       "    </tr>\n",
       "  </tbody>\n",
       "</table>\n",
       "<p>5 rows × 162 columns</p>\n",
       "</div>"
      ],
      "text/plain": [
       "            AGGDI_CY     AGGNW_CY  AMERIND_CY      AREA_DESC      AREA_ID  \\\n",
       "OBJECTID                                                                    \n",
       "3          551906518   2390086587         594  0 - 8 minutes  897225868_1   \n",
       "6         6247270524  70627761591        1412  0 - 8 minutes  404768898_1   \n",
       "9         3033117454  26795808683        1132  0 - 8 minutes  705003717_1   \n",
       "12        2954490789  12560995634        1413  0 - 8 minutes  427515311_1   \n",
       "15        2048112658   7503591356        1168  0 - 8 minutes  435682132_1   \n",
       "\n",
       "          ASIAN_CY  ASSCDEG_CY  AVGDI_CY  AVGFMSZ_CY  AVGHHSZ_CY     ...      \\\n",
       "OBJECTID                                                             ...       \n",
       "3             1432        1669     51008        4.33        3.96     ...       \n",
       "6            42842       11671     92202        3.30        2.87     ...       \n",
       "9            36384        6982     83499        3.65        3.31     ...       \n",
       "12           22184        4944     66758        3.25        2.52     ...       \n",
       "15           17313        3624     62439        3.42        2.65     ...       \n",
       "\n",
       "          VAL1M_CY  VAL200K_CY  VAL250K_CY  VAL300K_CY  VAL400K_CY  \\\n",
       "OBJECTID                                                             \n",
       "3              157         487         514        1015         938   \n",
       "6             4720         472         723        2195        4173   \n",
       "9              871         343         653        2295        4218   \n",
       "12            1117         227         334        1598        2642   \n",
       "15             587         178         314        1410        1888   \n",
       "\n",
       "          VAL500K_CY VAL50K_CY  VAL750K_CY  WHITE_CY  WIDOWED_CY  \n",
       "OBJECTID                                                          \n",
       "3               1290       186         223     19872        1377  \n",
       "6              19341       543       11822    113028        7292  \n",
       "9              11458       733        2607     51285        3382  \n",
       "12              5951       137        2150     58040        3501  \n",
       "15              3907        78        1312     42363        2523  \n",
       "\n",
       "[5 rows x 162 columns]"
      ]
     },
     "execution_count": 6,
     "metadata": {},
     "output_type": "execute_result"
    }
   ],
   "source": [
    "data_frame = feature_set.df\n",
    "data_frame.head()"
   ]
  },
  {
   "cell_type": "markdown",
   "metadata": {},
   "source": [
    "# Save dependent and independent variable names as Python variables\n",
    "\n",
    "Use a quick list comprehension to create a list of field names to be used as independent variables."
   ]
  },
  {
   "cell_type": "code",
   "execution_count": 7,
   "metadata": {},
   "outputs": [
    {
     "name": "stdout",
     "output_type": "stream",
     "text": [
      "['TOTPOP_CY', 'HHPOP_CY', 'FAMPOP_CY', 'GQPOP_CY', 'POPDENS_CY', 'TOTHH_CY', 'AVGHHSZ_CY', 'FAMHH_CY', 'AVGFMSZ_CY', 'TOTHU_CY', 'OWNER_CY', 'RENTER_CY', 'VACANT_CY', 'POPGRW10CY', 'HHGRW10CY', 'FAMGRW10CY', 'NOHS_CY', 'SOMEHS_CY', 'HSGRAD_CY', 'GED_CY', 'SMCOLL_CY', 'ASSCDEG_CY', 'BACHDEG_CY', 'GRADDEG_CY', 'NEVMARR_CY', 'MARRIED_CY', 'WIDOWED_CY', 'DIVORCD_CY', 'WHITE_CY', 'BLACK_CY', 'AMERIND_CY', 'ASIAN_CY', 'PACIFIC_CY', 'OTHRACE_CY', 'RACE2UP_CY', 'HISPPOP_CY', 'HISPWHT_CY', 'HISPBLK_CY', 'HISPAI_CY', 'HISPASN_CY', 'HISPPI_CY', 'HISPOTH_CY', 'HISPMLT_CY', 'NONHISP_CY', 'NHSPWHT_CY', 'NHSPBLK_CY', 'NHSPAI_CY', 'NHSPASN_CY', 'NHSPPI_CY', 'NHSPOTH_CY', 'NHSPMLT_CY', 'MINORITYCY', 'DIVINDX_CY', 'HINC0_CY', 'HINC15_CY', 'HINC25_CY', 'HINC35_CY', 'HINC50_CY', 'HINC75_CY', 'HINC100_CY', 'HINC150_CY', 'HINC200_CY', 'MEDHINC_CY', 'AVGHINC_CY', 'PCI_CY', 'DI0_CY', 'DI15_CY', 'DI25_CY', 'DI35_CY', 'DI50_CY', 'DI75_CY', 'DI100_CY', 'DI150_CY', 'DI200_CY', 'AGGDI_CY', 'MEDDI_CY', 'AVGDI_CY', 'NW0_CY', 'NW15_CY', 'NW35_CY', 'NW50_CY', 'NW75_CY', 'NW100_CY', 'NW150_CY', 'NW250_CY', 'NW500_CY', 'AGGNW_CY', 'MEDNW_CY', 'AVGNW_CY', 'VAL0_CY', 'VAL50K_CY', 'VAL100K_CY', 'VAL150K_CY', 'VAL200K_CY', 'VAL250K_CY', 'VAL300K_CY', 'VAL400K_CY', 'VAL500K_CY', 'VAL750K_CY', 'VAL1M_CY', 'MEDVAL_CY', 'AVGVAL_CY', 'CIVLBFR_CY', 'EMP_CY', 'INDAGRI_CY', 'INDMIN_CY', 'INDCONS_CY', 'INDMANU_CY', 'INDWHTR_CY', 'INDRTTR_CY', 'INDTRAN_CY', 'INDUTIL_CY', 'INDINFO_CY', 'INDFIN_CY', 'INDRE_CY', 'INDTECH_CY', 'INDMGMT_CY', 'INDADMN_CY', 'INDEDUC_CY', 'INDHLTH_CY', 'INDARTS_CY', 'INDFOOD_CY', 'INDOTSV_CY', 'INDPUBL_CY', 'UNEMP_CY', 'UNEMPRT_CY', 'OCCMGMT_CY', 'OCCBUS_CY', 'OCCCOMP_CY', 'OCCARCH_CY', 'OCCSSCI_CY', 'OCCSSRV_CY', 'OCCLEGL_CY', 'OCCEDUC_CY', 'OCCENT_CY', 'OCCHTCH_CY', 'OCCHLTH_CY', 'OCCPROT_CY', 'OCCFOOD_CY', 'OCCBLDG_CY', 'OCCPERS_CY', 'OCCSALE_CY', 'OCCADMN_CY', 'OCCFARM_CY', 'OCCCONS_CY', 'OCCMAIN_CY', 'OCCPROD_CY', 'OCCTRAN_CY']\n"
     ]
    }
   ],
   "source": [
    "field_name_independent_list = [field['name'] for field in feature_set.fields if \n",
    "    field['type'] != 'esriFieldTypeOID' and  # we don't need the Esri object identifier field\n",
    "    field['name'].startswith('Shape_') == False and  # exclude the Esri shape fields\n",
    "    field['type'] == 'esriFieldTypeDouble' and  # ensure numeric, quantatative, fields are the only fields used\n",
    "    field['name'] != 'STORE_LAT' and  # while numeric, the fields describing the location are not independent varaibles\n",
    "    field['name'] != 'STORE_LONG' and  # while numeric, the fields describing the location are not independent varaibles\n",
    "    field['name'] != 'SALESVOL'  # exclude the dependent variable\n",
    "]\n",
    "print(field_name_independent_list)"
   ]
  },
  {
   "cell_type": "markdown",
   "metadata": {},
   "source": [
    "Also, save the name of the dependent variable field as well."
   ]
  },
  {
   "cell_type": "code",
   "execution_count": 8,
   "metadata": {
    "collapsed": true
   },
   "outputs": [],
   "source": [
    "field_name_dependent = 'SALESVOL'"
   ]
  },
  {
   "cell_type": "markdown",
   "metadata": {},
   "source": [
    "# Random Forest Regressor"
   ]
  },
  {
   "cell_type": "code",
   "execution_count": 9,
   "metadata": {
    "collapsed": true
   },
   "outputs": [],
   "source": [
    "from sklearn.ensemble import RandomForestRegressor"
   ]
  },
  {
   "cell_type": "code",
   "execution_count": null,
   "metadata": {
    "collapsed": true
   },
   "outputs": [],
   "source": [
    "rfr = RandomForestRegressor()"
   ]
  }
 ],
 "metadata": {
  "kernelspec": {
   "display_name": "Python 3",
   "language": "python",
   "name": "python3"
  },
  "language_info": {
   "codemirror_mode": {
    "name": "ipython",
    "version": 3
   },
   "file_extension": ".py",
   "mimetype": "text/x-python",
   "name": "python",
   "nbconvert_exporter": "python",
   "pygments_lexer": "ipython3",
   "version": "3.5.3"
  }
 },
 "nbformat": 4,
 "nbformat_minor": 2
}

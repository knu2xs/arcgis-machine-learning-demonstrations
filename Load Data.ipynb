{
 "cells": [
  {
   "cell_type": "code",
   "execution_count": 1,
   "metadata": {
    "collapsed": true
   },
   "outputs": [],
   "source": [
    "import pandas as pd\n",
    "import arcgis"
   ]
  },
  {
   "cell_type": "markdown",
   "metadata": {},
   "source": [
    "# Load Data into a SpatialDataFrame\n",
    "\n",
    "Load the data into a Pandas DataFrame from a CSV file."
   ]
  },
  {
   "cell_type": "code",
   "execution_count": 12,
   "metadata": {},
   "outputs": [
    {
     "data": {
      "text/html": [
       "<div>\n",
       "<style>\n",
       "    .dataframe thead tr:only-child th {\n",
       "        text-align: right;\n",
       "    }\n",
       "\n",
       "    .dataframe thead th {\n",
       "        text-align: left;\n",
       "    }\n",
       "\n",
       "    .dataframe tbody tr th {\n",
       "        vertical-align: top;\n",
       "    }\n",
       "</style>\n",
       "<table border=\"1\" class=\"dataframe\">\n",
       "  <thead>\n",
       "    <tr style=\"text-align: right;\">\n",
       "      <th></th>\n",
       "      <th>LOCNUM</th>\n",
       "      <th>SALESVOL</th>\n",
       "      <th>X</th>\n",
       "      <th>Y</th>\n",
       "    </tr>\n",
       "    <tr>\n",
       "      <th>OBJECTID</th>\n",
       "      <th></th>\n",
       "      <th></th>\n",
       "      <th></th>\n",
       "      <th></th>\n",
       "    </tr>\n",
       "  </thead>\n",
       "  <tbody>\n",
       "    <tr>\n",
       "      <th>1</th>\n",
       "      <td>666990510</td>\n",
       "      <td>35495</td>\n",
       "      <td>-121.8430</td>\n",
       "      <td>36.6210</td>\n",
       "    </tr>\n",
       "    <tr>\n",
       "      <th>2</th>\n",
       "      <td>653371815</td>\n",
       "      <td>35495</td>\n",
       "      <td>-121.8112</td>\n",
       "      <td>36.6676</td>\n",
       "    </tr>\n",
       "    <tr>\n",
       "      <th>3</th>\n",
       "      <td>423468472</td>\n",
       "      <td>35495</td>\n",
       "      <td>-121.9651</td>\n",
       "      <td>36.9753</td>\n",
       "    </tr>\n",
       "    <tr>\n",
       "      <th>4</th>\n",
       "      <td>511743478</td>\n",
       "      <td>35495</td>\n",
       "      <td>-121.7740</td>\n",
       "      <td>36.9154</td>\n",
       "    </tr>\n",
       "    <tr>\n",
       "      <th>5</th>\n",
       "      <td>404459478</td>\n",
       "      <td>52059</td>\n",
       "      <td>-122.0362</td>\n",
       "      <td>37.3231</td>\n",
       "    </tr>\n",
       "  </tbody>\n",
       "</table>\n",
       "</div>"
      ],
      "text/plain": [
       "             LOCNUM  SALESVOL         X        Y\n",
       "OBJECTID                                        \n",
       "1         666990510     35495 -121.8430  36.6210\n",
       "2         653371815     35495 -121.8112  36.6676\n",
       "3         423468472     35495 -121.9651  36.9753\n",
       "4         511743478     35495 -121.7740  36.9154\n",
       "5         404459478     52059 -122.0362  37.3231"
      ]
     },
     "execution_count": 12,
     "metadata": {},
     "output_type": "execute_result"
    }
   ],
   "source": [
    "df = pd.read_csv('./store_locations.csv', index_col='OBJECTID')\n",
    "df.head()"
   ]
  },
  {
   "cell_type": "markdown",
   "metadata": {},
   "source": [
    "While the coordinates for each store are contained in an X (longitude) and Y (latitude) field, the data is not yet able to be recognized spatially. We need to create a point geometry for each location in a new field so the data will be recognized as spatial. Once this is done, we also can get rid of the explicity X and Y fields, since the location is now stored in the SHAPE field."
   ]
  },
  {
   "cell_type": "code",
   "execution_count": 13,
   "metadata": {},
   "outputs": [
    {
     "data": {
      "text/html": [
       "<div>\n",
       "<style>\n",
       "    .dataframe thead tr:only-child th {\n",
       "        text-align: right;\n",
       "    }\n",
       "\n",
       "    .dataframe thead th {\n",
       "        text-align: left;\n",
       "    }\n",
       "\n",
       "    .dataframe tbody tr th {\n",
       "        vertical-align: top;\n",
       "    }\n",
       "</style>\n",
       "<table border=\"1\" class=\"dataframe\">\n",
       "  <thead>\n",
       "    <tr style=\"text-align: right;\">\n",
       "      <th></th>\n",
       "      <th>LOCNUM</th>\n",
       "      <th>SALESVOL</th>\n",
       "      <th>SHAPE</th>\n",
       "    </tr>\n",
       "    <tr>\n",
       "      <th>OBJECTID</th>\n",
       "      <th></th>\n",
       "      <th></th>\n",
       "      <th></th>\n",
       "    </tr>\n",
       "  </thead>\n",
       "  <tbody>\n",
       "    <tr>\n",
       "      <th>1</th>\n",
       "      <td>666990510</td>\n",
       "      <td>35495</td>\n",
       "      <td>{'y': 36.621, 'spatialReference': {'wkid': 432...</td>\n",
       "    </tr>\n",
       "    <tr>\n",
       "      <th>2</th>\n",
       "      <td>653371815</td>\n",
       "      <td>35495</td>\n",
       "      <td>{'y': 36.6676, 'spatialReference': {'wkid': 43...</td>\n",
       "    </tr>\n",
       "    <tr>\n",
       "      <th>3</th>\n",
       "      <td>423468472</td>\n",
       "      <td>35495</td>\n",
       "      <td>{'y': 36.9753, 'spatialReference': {'wkid': 43...</td>\n",
       "    </tr>\n",
       "    <tr>\n",
       "      <th>4</th>\n",
       "      <td>511743478</td>\n",
       "      <td>35495</td>\n",
       "      <td>{'y': 36.9154, 'spatialReference': {'wkid': 43...</td>\n",
       "    </tr>\n",
       "    <tr>\n",
       "      <th>5</th>\n",
       "      <td>404459478</td>\n",
       "      <td>52059</td>\n",
       "      <td>{'y': 37.3231, 'spatialReference': {'wkid': 43...</td>\n",
       "    </tr>\n",
       "  </tbody>\n",
       "</table>\n",
       "</div>"
      ],
      "text/plain": [
       "             LOCNUM  SALESVOL  \\\n",
       "OBJECTID                        \n",
       "1         666990510     35495   \n",
       "2         653371815     35495   \n",
       "3         423468472     35495   \n",
       "4         511743478     35495   \n",
       "5         404459478     52059   \n",
       "\n",
       "                                                      SHAPE  \n",
       "OBJECTID                                                     \n",
       "1         {'y': 36.621, 'spatialReference': {'wkid': 432...  \n",
       "2         {'y': 36.6676, 'spatialReference': {'wkid': 43...  \n",
       "3         {'y': 36.9753, 'spatialReference': {'wkid': 43...  \n",
       "4         {'y': 36.9154, 'spatialReference': {'wkid': 43...  \n",
       "5         {'y': 37.3231, 'spatialReference': {'wkid': 43...  "
      ]
     },
     "execution_count": 13,
     "metadata": {},
     "output_type": "execute_result"
    }
   ],
   "source": [
    "df['SHAPE'] = df.apply(lambda row: arcgis.geometry.Point(\n",
    "    {'x': row.X, 'y': row.Y, 'spatialReference': arcgis.geometry.SpatialReference({'wkid': 4326})}\n",
    "), axis=1)\n",
    "df = df.drop(['X', 'Y'], axis=1)\n",
    "df.head()"
   ]
  },
  {
   "cell_type": "markdown",
   "metadata": {},
   "source": [
    "Now, with the location data stored as point geometry, we can create a SpatialDataFrame with the store locations so the data will now be recognized as a spatial table."
   ]
  },
  {
   "cell_type": "code",
   "execution_count": 14,
   "metadata": {},
   "outputs": [
    {
     "data": {
      "text/html": [
       "<div>\n",
       "<style>\n",
       "    .dataframe thead tr:only-child th {\n",
       "        text-align: right;\n",
       "    }\n",
       "\n",
       "    .dataframe thead th {\n",
       "        text-align: left;\n",
       "    }\n",
       "\n",
       "    .dataframe tbody tr th {\n",
       "        vertical-align: top;\n",
       "    }\n",
       "</style>\n",
       "<table border=\"1\" class=\"dataframe\">\n",
       "  <thead>\n",
       "    <tr style=\"text-align: right;\">\n",
       "      <th></th>\n",
       "      <th>LOCNUM</th>\n",
       "      <th>SALESVOL</th>\n",
       "      <th>SHAPE</th>\n",
       "    </tr>\n",
       "    <tr>\n",
       "      <th>OBJECTID</th>\n",
       "      <th></th>\n",
       "      <th></th>\n",
       "      <th></th>\n",
       "    </tr>\n",
       "  </thead>\n",
       "  <tbody>\n",
       "    <tr>\n",
       "      <th>1</th>\n",
       "      <td>666990510</td>\n",
       "      <td>35495</td>\n",
       "      <td>{'y': 36.621, 'spatialReference': {'wkid': 432...</td>\n",
       "    </tr>\n",
       "    <tr>\n",
       "      <th>2</th>\n",
       "      <td>653371815</td>\n",
       "      <td>35495</td>\n",
       "      <td>{'y': 36.6676, 'spatialReference': {'wkid': 43...</td>\n",
       "    </tr>\n",
       "    <tr>\n",
       "      <th>3</th>\n",
       "      <td>423468472</td>\n",
       "      <td>35495</td>\n",
       "      <td>{'y': 36.9753, 'spatialReference': {'wkid': 43...</td>\n",
       "    </tr>\n",
       "    <tr>\n",
       "      <th>4</th>\n",
       "      <td>511743478</td>\n",
       "      <td>35495</td>\n",
       "      <td>{'y': 36.9154, 'spatialReference': {'wkid': 43...</td>\n",
       "    </tr>\n",
       "    <tr>\n",
       "      <th>5</th>\n",
       "      <td>404459478</td>\n",
       "      <td>52059</td>\n",
       "      <td>{'y': 37.3231, 'spatialReference': {'wkid': 43...</td>\n",
       "    </tr>\n",
       "  </tbody>\n",
       "</table>\n",
       "</div>"
      ],
      "text/plain": [
       "             LOCNUM  SALESVOL  \\\n",
       "OBJECTID                        \n",
       "1         666990510     35495   \n",
       "2         653371815     35495   \n",
       "3         423468472     35495   \n",
       "4         511743478     35495   \n",
       "5         404459478     52059   \n",
       "\n",
       "                                                      SHAPE  \n",
       "OBJECTID                                                     \n",
       "1         {'y': 36.621, 'spatialReference': {'wkid': 432...  \n",
       "2         {'y': 36.6676, 'spatialReference': {'wkid': 43...  \n",
       "3         {'y': 36.9753, 'spatialReference': {'wkid': 43...  \n",
       "4         {'y': 36.9154, 'spatialReference': {'wkid': 43...  \n",
       "5         {'y': 37.3231, 'spatialReference': {'wkid': 43...  "
      ]
     },
     "execution_count": 14,
     "metadata": {},
     "output_type": "execute_result"
    }
   ],
   "source": [
    "sdf = arcgis.features.SpatialDataFrame(df)\n",
    "sdf.head()"
   ]
  },
  {
   "cell_type": "markdown",
   "metadata": {},
   "source": [
    "Convert the SpatailDataFrame to a FeatureSet to use as input for creating drive time trade areas."
   ]
  },
  {
   "cell_type": "code",
   "execution_count": 15,
   "metadata": {},
   "outputs": [
    {
     "data": {
      "text/plain": [
       "<bound method SpatialDataFrame.to_featureset of              LOCNUM  SALESVOL  \\\n",
       "OBJECTID                        \n",
       "1         666990510     35495   \n",
       "2         653371815     35495   \n",
       "3         423468472     35495   \n",
       "4         511743478     35495   \n",
       "5         404459478     52059   \n",
       "\n",
       "                                                      SHAPE  \n",
       "OBJECTID                                                     \n",
       "1         {'y': 36.621, 'spatialReference': {'wkid': 432...  \n",
       "2         {'y': 36.6676, 'spatialReference': {'wkid': 43...  \n",
       "3         {'y': 36.9753, 'spatialReference': {'wkid': 43...  \n",
       "4         {'y': 36.9154, 'spatialReference': {'wkid': 43...  \n",
       "5         {'y': 37.3231, 'spatialReference': {'wkid': 43...  >"
      ]
     },
     "execution_count": 15,
     "metadata": {},
     "output_type": "execute_result"
    }
   ],
   "source": [
    "#fs = arcgis.features.SpatialDataFrame(df).to_featureset  # chaining all in one line\n",
    "fs = sdf.head().to_featureset  # for now, just testing with first five records\n",
    "fs"
   ]
  },
  {
   "cell_type": "markdown",
   "metadata": {},
   "source": [
    "# Create GIS Instance"
   ]
  },
  {
   "cell_type": "code",
   "execution_count": 6,
   "metadata": {},
   "outputs": [
    {
     "name": "stdout",
     "output_type": "stream",
     "text": [
      "Please enter the headless password: ········\n"
     ]
    }
   ],
   "source": [
    "from getpass import getpass\n",
    "\n",
    "gis_coldbrew = arcgis.gis.GIS(\n",
    "    url='http://portal.coldbrew.esri.com/portal',\n",
    "    username='headless', \n",
    "    password=getpass('Please enter the headless password: ')\n",
    ")"
   ]
  },
  {
   "cell_type": "code",
   "execution_count": 7,
   "metadata": {},
   "outputs": [],
   "source": [
    "service_area_layer = arcgis.network.ServiceAreaLayer(\n",
    "    url=gis_coldbrew.properties.helperServices.serviceArea.url, \n",
    "    gis=gis_coldbrew\n",
    ")"
   ]
  },
  {
   "cell_type": "code",
   "execution_count": 9,
   "metadata": {},
   "outputs": [
    {
     "data": {
      "text/plain": [
       "{'attributeParameterValues': [{'attributeName': 'Avoid Unpaved Roads',\n",
       "   'parameterName': 'Restriction Usage',\n",
       "   'value': 'AVOID_HIGH'},\n",
       "  {'attributeName': 'Avoid Private Roads',\n",
       "   'parameterName': 'Restriction Usage',\n",
       "   'value': 'AVOID_MEDIUM'},\n",
       "  {'attributeName': 'Driving an Automobile',\n",
       "   'parameterName': 'Restriction Usage',\n",
       "   'value': 'PROHIBITED'},\n",
       "  {'attributeName': 'Through Traffic Prohibited',\n",
       "   'parameterName': 'Restriction Usage',\n",
       "   'value': 'AVOID_HIGH'},\n",
       "  {'attributeName': 'Roads Under Construction Prohibited',\n",
       "   'parameterName': 'Restriction Usage',\n",
       "   'value': 'PROHIBITED'},\n",
       "  {'attributeName': 'Avoid Gates',\n",
       "   'parameterName': 'Restriction Usage',\n",
       "   'value': 'AVOID_MEDIUM'},\n",
       "  {'attributeName': 'Avoid Express Lanes',\n",
       "   'parameterName': 'Restriction Usage',\n",
       "   'value': 'PROHIBITED'},\n",
       "  {'attributeName': 'Avoid Carpool Roads',\n",
       "   'parameterName': 'Restriction Usage',\n",
       "   'value': 'PROHIBITED'}],\n",
       " 'description': '',\n",
       " 'distanceAttributeName': 'Kilometers',\n",
       " 'id': 'FEgifRtFndKNcJMJ',\n",
       " 'impedanceAttributeName': 'TravelTime',\n",
       " 'name': 'Driving Time',\n",
       " 'restrictionAttributeNames': ['Avoid Unpaved Roads',\n",
       "  'Avoid Private Roads',\n",
       "  'Driving an Automobile',\n",
       "  'Through Traffic Prohibited',\n",
       "  'Roads Under Construction Prohibited',\n",
       "  'Avoid Gates',\n",
       "  'Avoid Express Lanes',\n",
       "  'Avoid Carpool Roads'],\n",
       " 'simplificationTolerance': 10,\n",
       " 'simplificationToleranceUnits': 'esriMeters',\n",
       " 'timeAttributeName': 'TravelTime',\n",
       " 'type': 'OTHER',\n",
       " 'useHierarchy': True,\n",
       " 'uturnAtJunctions': 'esriNFSBAtDeadEndsAndIntersections'}"
      ]
     },
     "execution_count": 9,
     "metadata": {},
     "output_type": "execute_result"
    }
   ],
   "source": [
    "travel_modes = service_area_layer.retrieve_travel_modes()\n",
    "travel_mode_drive = [t for t in travel_modes['supportedTravelModes'] if t['name'] == 'Driving Time'][0]\n",
    "travel_mode_drive"
   ]
  },
  {
   "cell_type": "code",
   "execution_count": 10,
   "metadata": {},
   "outputs": [
    {
     "name": "stderr",
     "output_type": "stream",
     "text": [
      "Invalid or missing input parameters.\n"
     ]
    },
    {
     "ename": "RuntimeError",
     "evalue": "Invalid or missing input parameters.\n(Error Code: 400)",
     "output_type": "error",
     "traceback": [
      "\u001b[0;31m---------------------------------------------------------------------------\u001b[0m",
      "\u001b[0;31mRuntimeError\u001b[0m                              Traceback (most recent call last)",
      "\u001b[0;32m<ipython-input-10-ce67924c8306>\u001b[0m in \u001b[0;36m<module>\u001b[0;34m()\u001b[0m\n\u001b[0;32m----> 1\u001b[0;31m \u001b[0mresult\u001b[0m \u001b[0;34m=\u001b[0m \u001b[0mservice_area_layer\u001b[0m\u001b[0;34m.\u001b[0m\u001b[0msolve_service_area\u001b[0m\u001b[0;34m(\u001b[0m\u001b[0mfs\u001b[0m\u001b[0;34m,\u001b[0m \u001b[0mdefault_breaks\u001b[0m\u001b[0;34m=\u001b[0m\u001b[0;34m[\u001b[0m\u001b[0;36m8\u001b[0m\u001b[0;34m]\u001b[0m\u001b[0;34m)\u001b[0m\u001b[0;34m\u001b[0m\u001b[0m\n\u001b[0m",
      "\u001b[0;32m~/miniconda3/lib/python3.5/site-packages/arcgis/network/_layer.py\u001b[0m in \u001b[0;36msolve_service_area\u001b[0;34m(self, facilities, barriers, polyline_barriers, polygon_barriers, travel_mode, attribute_parameter_values, default_breaks, exclude_sources_from_polygons, merge_similar_polygon_ranges, output_lines, output_polygons, overlap_lines, overlap_polygons, split_lines_at_breaks, split_polygons_at_breaks, trim_outer_polygon, trim_polygon_distance, trim_polygon_distance_units, return_facilities, return_barriers, return_polyline_barriers, return_polygon_barriers, out_sr, accumulate_attribute_names, impedance_attribute_name, restriction_attribute_names, restrict_u_turns, output_geometry_precision, output_geometry_precision_units, use_hierarchy, time_of_day, time_of_day_is_utc, travel_direction, return_z)\u001b[0m\n\u001b[1;32m    535\u001b[0m \u001b[0;34m\u001b[0m\u001b[0m\n\u001b[1;32m    536\u001b[0m         return self._con.post(path=url,\n\u001b[0;32m--> 537\u001b[0;31m                               postdata=params, token=self._token)\n\u001b[0m\u001b[1;32m    538\u001b[0m \u001b[0;34m\u001b[0m\u001b[0m\n\u001b[1;32m    539\u001b[0m \u001b[0;34m\u001b[0m\u001b[0m\n",
      "\u001b[0;32m~/miniconda3/lib/python3.5/site-packages/arcgis/_impl/connection.py\u001b[0m in \u001b[0;36mpost\u001b[0;34m(self, path, postdata, files, ssl, compress, is_retry, use_ordered_dict, add_token, verify_cert, token, try_json, out_folder, file_name, force_bytes, add_headers)\u001b[0m\n\u001b[1;32m   1081\u001b[0m                 \u001b[0;32melif\u001b[0m \u001b[0merrorcode\u001b[0m \u001b[0;34m==\u001b[0m \u001b[0;36m498\u001b[0m\u001b[0;34m:\u001b[0m\u001b[0;34m\u001b[0m\u001b[0m\n\u001b[1;32m   1082\u001b[0m                     \u001b[0;32mraise\u001b[0m \u001b[0mRuntimeError\u001b[0m\u001b[0;34m(\u001b[0m\u001b[0;34m'Invalid token'\u001b[0m\u001b[0;34m)\u001b[0m\u001b[0;34m\u001b[0m\u001b[0m\n\u001b[0;32m-> 1083\u001b[0;31m                 \u001b[0mself\u001b[0m\u001b[0;34m.\u001b[0m\u001b[0m_handle_json_error\u001b[0m\u001b[0;34m(\u001b[0m\u001b[0mresp_json\u001b[0m\u001b[0;34m[\u001b[0m\u001b[0;34m'error'\u001b[0m\u001b[0;34m]\u001b[0m\u001b[0;34m,\u001b[0m \u001b[0merrorcode\u001b[0m\u001b[0;34m)\u001b[0m\u001b[0;34m\u001b[0m\u001b[0m\n\u001b[0m\u001b[1;32m   1084\u001b[0m                 \u001b[0;32mreturn\u001b[0m \u001b[0;32mNone\u001b[0m\u001b[0;34m\u001b[0m\u001b[0m\n\u001b[1;32m   1085\u001b[0m         \u001b[0;32mexcept\u001b[0m \u001b[0mAttributeError\u001b[0m\u001b[0;34m:\u001b[0m\u001b[0;34m\u001b[0m\u001b[0m\n",
      "\u001b[0;32m~/miniconda3/lib/python3.5/site-packages/arcgis/_impl/connection.py\u001b[0m in \u001b[0;36m_handle_json_error\u001b[0;34m(self, error, errorcode)\u001b[0m\n\u001b[1;32m   1101\u001b[0m \u001b[0;34m\u001b[0m\u001b[0m\n\u001b[1;32m   1102\u001b[0m         \u001b[0merrormessage\u001b[0m \u001b[0;34m=\u001b[0m \u001b[0merrormessage\u001b[0m \u001b[0;34m+\u001b[0m \u001b[0;34m\"\\n(Error Code: \"\u001b[0m \u001b[0;34m+\u001b[0m \u001b[0mstr\u001b[0m\u001b[0;34m(\u001b[0m\u001b[0merrorcode\u001b[0m\u001b[0;34m)\u001b[0m \u001b[0;34m+\u001b[0m\u001b[0;34m\")\"\u001b[0m\u001b[0;34m\u001b[0m\u001b[0m\n\u001b[0;32m-> 1103\u001b[0;31m         \u001b[0;32mraise\u001b[0m \u001b[0mRuntimeError\u001b[0m\u001b[0;34m(\u001b[0m\u001b[0merrormessage\u001b[0m\u001b[0;34m)\u001b[0m\u001b[0;34m\u001b[0m\u001b[0m\n\u001b[0m\u001b[1;32m   1104\u001b[0m \u001b[0;34m\u001b[0m\u001b[0m\n\u001b[1;32m   1105\u001b[0m \u001b[0;32mclass\u001b[0m \u001b[0m_StrictURLopener\u001b[0m\u001b[0;34m(\u001b[0m\u001b[0mrequest\u001b[0m\u001b[0;34m.\u001b[0m\u001b[0mFancyURLopener\u001b[0m\u001b[0;34m)\u001b[0m\u001b[0;34m:\u001b[0m\u001b[0;34m\u001b[0m\u001b[0m\n",
      "\u001b[0;31mRuntimeError\u001b[0m: Invalid or missing input parameters.\n(Error Code: 400)"
     ]
    }
   ],
   "source": [
    "result = service_area_layer.solve_service_area(fs, default_breaks=[8])"
   ]
  },
  {
   "cell_type": "code",
   "execution_count": null,
   "metadata": {
    "collapsed": true
   },
   "outputs": [],
   "source": []
  }
 ],
 "metadata": {
  "kernelspec": {
   "display_name": "Python 3",
   "language": "python",
   "name": "python3"
  },
  "language_info": {
   "codemirror_mode": {
    "name": "ipython",
    "version": 3
   },
   "file_extension": ".py",
   "mimetype": "text/x-python",
   "name": "python",
   "nbconvert_exporter": "python",
   "pygments_lexer": "ipython3",
   "version": "3.5.3"
  },
  "widgets": {
   "application/vnd.jupyter.widget-state+json": {
    "state": {},
    "version_major": 1,
    "version_minor": 0
   }
  }
 },
 "nbformat": 4,
 "nbformat_minor": 2
}

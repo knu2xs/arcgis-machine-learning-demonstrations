{
 "cells": [
  {
   "cell_type": "code",
   "execution_count": 1,
   "metadata": {
    "collapsed": true
   },
   "outputs": [],
   "source": [
    "import arcgis\n",
    "from getpass import getpass\n",
    "import pandas as pd"
   ]
  },
  {
   "cell_type": "code",
   "execution_count": 2,
   "metadata": {},
   "outputs": [
    {
     "name": "stdout",
     "output_type": "stream",
     "text": [
      "Please enter the headless password: ········\n"
     ]
    }
   ],
   "source": [
    "gis_coldbrew = arcgis.gis.GIS(\n",
    "    url='http://portal.coldbrew.esri.com/portal',\n",
    "    username='headless', \n",
    "    password=getpass('Please enter the headless password: ')\n",
    ")"
   ]
  },
  {
   "cell_type": "code",
   "execution_count": 13,
   "metadata": {},
   "outputs": [
    {
     "data": {
      "text/html": [
       "<div>\n",
       "<style>\n",
       "    .dataframe thead tr:only-child th {\n",
       "        text-align: right;\n",
       "    }\n",
       "\n",
       "    .dataframe thead th {\n",
       "        text-align: left;\n",
       "    }\n",
       "\n",
       "    .dataframe tbody tr th {\n",
       "        vertical-align: top;\n",
       "    }\n",
       "</style>\n",
       "<table border=\"1\" class=\"dataframe\">\n",
       "  <thead>\n",
       "    <tr style=\"text-align: right;\">\n",
       "      <th></th>\n",
       "      <th>Target_Locations_LOCNUM</th>\n",
       "      <th>Target_Locations_SALESVOL</th>\n",
       "      <th>SHAPE</th>\n",
       "    </tr>\n",
       "    <tr>\n",
       "      <th>OBJECTID</th>\n",
       "      <th></th>\n",
       "      <th></th>\n",
       "      <th></th>\n",
       "    </tr>\n",
       "  </thead>\n",
       "  <tbody>\n",
       "    <tr>\n",
       "      <th>1</th>\n",
       "      <td>666990510</td>\n",
       "      <td>35495</td>\n",
       "      <td>{'x': -121.84299999999993, 'y': 36.62100000000...</td>\n",
       "    </tr>\n",
       "    <tr>\n",
       "      <th>2</th>\n",
       "      <td>653371815</td>\n",
       "      <td>35495</td>\n",
       "      <td>{'x': -121.81120000000001, 'y': 36.66760000000...</td>\n",
       "    </tr>\n",
       "    <tr>\n",
       "      <th>3</th>\n",
       "      <td>423468472</td>\n",
       "      <td>35495</td>\n",
       "      <td>{'x': -121.96509999999991, 'y': 36.9753000000001}</td>\n",
       "    </tr>\n",
       "    <tr>\n",
       "      <th>4</th>\n",
       "      <td>511743478</td>\n",
       "      <td>35495</td>\n",
       "      <td>{'x': -121.77399999999992, 'y': 36.91540000000...</td>\n",
       "    </tr>\n",
       "    <tr>\n",
       "      <th>5</th>\n",
       "      <td>404459478</td>\n",
       "      <td>52059</td>\n",
       "      <td>{'x': -122.03619999999995, 'y': 37.32310000000...</td>\n",
       "    </tr>\n",
       "  </tbody>\n",
       "</table>\n",
       "</div>"
      ],
      "text/plain": [
       "         Target_Locations_LOCNUM  Target_Locations_SALESVOL  \\\n",
       "OBJECTID                                                      \n",
       "1                      666990510                      35495   \n",
       "2                      653371815                      35495   \n",
       "3                      423468472                      35495   \n",
       "4                      511743478                      35495   \n",
       "5                      404459478                      52059   \n",
       "\n",
       "                                                      SHAPE  \n",
       "OBJECTID                                                     \n",
       "1         {'x': -121.84299999999993, 'y': 36.62100000000...  \n",
       "2         {'x': -121.81120000000001, 'y': 36.66760000000...  \n",
       "3         {'x': -121.96509999999991, 'y': 36.9753000000001}  \n",
       "4         {'x': -121.77399999999992, 'y': 36.91540000000...  \n",
       "5         {'x': -122.03619999999995, 'y': 37.32310000000...  "
      ]
     },
     "execution_count": 13,
     "metadata": {},
     "output_type": "execute_result"
    }
   ],
   "source": [
    "store_item_id = 'beb8077b083448b5b2c69fc3bdfa3126'\n",
    "sdf = arcgis.gis.Item(gis_coldbrew, store_item_id).layers[0].query(\n",
    "    out_fields='OBJECTID, Target_Locations_LOCNUM, Target_Locations_SALESVOL, SHAPE').df.set_index('OBJECTID')\n",
    "sdf.head()"
   ]
  },
  {
   "cell_type": "code",
   "execution_count": 14,
   "metadata": {},
   "outputs": [
    {
     "data": {
      "text/html": [
       "<div>\n",
       "<style>\n",
       "    .dataframe thead tr:only-child th {\n",
       "        text-align: right;\n",
       "    }\n",
       "\n",
       "    .dataframe thead th {\n",
       "        text-align: left;\n",
       "    }\n",
       "\n",
       "    .dataframe tbody tr th {\n",
       "        vertical-align: top;\n",
       "    }\n",
       "</style>\n",
       "<table border=\"1\" class=\"dataframe\">\n",
       "  <thead>\n",
       "    <tr style=\"text-align: right;\">\n",
       "      <th></th>\n",
       "      <th>LOCNUM</th>\n",
       "      <th>SALESVOL</th>\n",
       "      <th>SHAPE</th>\n",
       "    </tr>\n",
       "    <tr>\n",
       "      <th>OBJECTID</th>\n",
       "      <th></th>\n",
       "      <th></th>\n",
       "      <th></th>\n",
       "    </tr>\n",
       "  </thead>\n",
       "  <tbody>\n",
       "    <tr>\n",
       "      <th>1</th>\n",
       "      <td>666990510</td>\n",
       "      <td>35495</td>\n",
       "      <td>{'x': -121.84299999999993, 'y': 36.62100000000...</td>\n",
       "    </tr>\n",
       "    <tr>\n",
       "      <th>2</th>\n",
       "      <td>653371815</td>\n",
       "      <td>35495</td>\n",
       "      <td>{'x': -121.81120000000001, 'y': 36.66760000000...</td>\n",
       "    </tr>\n",
       "    <tr>\n",
       "      <th>3</th>\n",
       "      <td>423468472</td>\n",
       "      <td>35495</td>\n",
       "      <td>{'x': -121.96509999999991, 'y': 36.9753000000001}</td>\n",
       "    </tr>\n",
       "    <tr>\n",
       "      <th>4</th>\n",
       "      <td>511743478</td>\n",
       "      <td>35495</td>\n",
       "      <td>{'x': -121.77399999999992, 'y': 36.91540000000...</td>\n",
       "    </tr>\n",
       "    <tr>\n",
       "      <th>5</th>\n",
       "      <td>404459478</td>\n",
       "      <td>52059</td>\n",
       "      <td>{'x': -122.03619999999995, 'y': 37.32310000000...</td>\n",
       "    </tr>\n",
       "  </tbody>\n",
       "</table>\n",
       "</div>"
      ],
      "text/plain": [
       "             LOCNUM  SALESVOL  \\\n",
       "OBJECTID                        \n",
       "1         666990510     35495   \n",
       "2         653371815     35495   \n",
       "3         423468472     35495   \n",
       "4         511743478     35495   \n",
       "5         404459478     52059   \n",
       "\n",
       "                                                      SHAPE  \n",
       "OBJECTID                                                     \n",
       "1         {'x': -121.84299999999993, 'y': 36.62100000000...  \n",
       "2         {'x': -121.81120000000001, 'y': 36.66760000000...  \n",
       "3         {'x': -121.96509999999991, 'y': 36.9753000000001}  \n",
       "4         {'x': -121.77399999999992, 'y': 36.91540000000...  \n",
       "5         {'x': -122.03619999999995, 'y': 37.32310000000...  "
      ]
     },
     "execution_count": 14,
     "metadata": {},
     "output_type": "execute_result"
    }
   ],
   "source": [
    "sdf = sdf.rename(columns={'Target_Locations_LOCNUM': 'LOCNUM', 'Target_Locations_SALESVOL': 'SALESVOL'})\n",
    "sdf.head()"
   ]
  },
  {
   "cell_type": "code",
   "execution_count": 20,
   "metadata": {
    "collapsed": true
   },
   "outputs": [],
   "source": [
    "sdf.to_csv('./test_output.csv')"
   ]
  },
  {
   "cell_type": "code",
   "execution_count": null,
   "metadata": {
    "collapsed": true
   },
   "outputs": [],
   "source": []
  }
 ],
 "metadata": {
  "kernelspec": {
   "display_name": "Python 3",
   "language": "python",
   "name": "python3"
  },
  "language_info": {
   "codemirror_mode": {
    "name": "ipython",
    "version": 3
   },
   "file_extension": ".py",
   "mimetype": "text/x-python",
   "name": "python",
   "nbconvert_exporter": "python",
   "pygments_lexer": "ipython3",
   "version": "3.5.3"
  }
 },
 "nbformat": 4,
 "nbformat_minor": 2
}

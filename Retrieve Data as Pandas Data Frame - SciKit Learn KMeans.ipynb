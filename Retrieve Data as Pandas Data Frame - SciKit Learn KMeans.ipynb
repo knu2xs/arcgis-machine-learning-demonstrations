{
 "cells": [
  {
   "cell_type": "markdown",
   "metadata": {},
   "source": [
    "## Note: Increased IOPub\n",
    "For visualization, if you did not start this notebook with an increased data rate limit, stop the notebook, go back to the command line, and start Jupyter Notebook using the following command.\n",
    "\n",
    "`jupyter notebook --NotebookApp.iopub_data_rate_limit=10000000000`"
   ]
  },
  {
   "cell_type": "markdown",
   "metadata": {},
   "source": [
    "# Import the Python API module and Instantiate the GIS object\n",
    "\n",
    "Import the Python API"
   ]
  },
  {
   "cell_type": "code",
   "execution_count": 1,
   "metadata": {},
   "outputs": [
    {
     "ename": "ImportError",
     "evalue": "No module named 'arcgis'",
     "output_type": "error",
     "traceback": [
      "\u001b[1;31m---------------------------------------------------------------------------\u001b[0m",
      "\u001b[1;31mImportError\u001b[0m                               Traceback (most recent call last)",
      "\u001b[1;32m<ipython-input-1-d5c8cc5010e9>\u001b[0m in \u001b[0;36m<module>\u001b[1;34m()\u001b[0m\n\u001b[1;32m----> 1\u001b[1;33m \u001b[1;32mimport\u001b[0m \u001b[0marcgis\u001b[0m\u001b[1;33m\u001b[0m\u001b[0m\n\u001b[0m\u001b[0;32m      2\u001b[0m \u001b[1;32mfrom\u001b[0m \u001b[0mgetpass\u001b[0m \u001b[1;32mimport\u001b[0m \u001b[0mgetpass\u001b[0m\u001b[1;33m\u001b[0m\u001b[0m\n\u001b[0;32m      3\u001b[0m \u001b[1;32mimport\u001b[0m \u001b[0mpandas\u001b[0m \u001b[1;32mas\u001b[0m \u001b[0mpd\u001b[0m\u001b[1;33m\u001b[0m\u001b[0m\n",
      "\u001b[1;31mImportError\u001b[0m: No module named 'arcgis'"
     ]
    }
   ],
   "source": [
    "import arcgis\n",
    "from getpass import getpass\n",
    "import pandas as pd"
   ]
  },
  {
   "cell_type": "markdown",
   "metadata": {},
   "source": [
    "Create an GIS object instance using the [account currently logged in through ArcGIS Pro](https://developers.arcgis.com/python/guide/working-with-different-authentication-schemes/#ArcGIS-Pro-user-connecting-to-the-active-portal-in-the-Pro-app)"
   ]
  },
  {
   "cell_type": "code",
   "execution_count": 10,
   "metadata": {},
   "outputs": [
    {
     "name": "stdout",
     "output_type": "stream",
     "text": [
      "Please enter the headless password: ········\n"
     ]
    }
   ],
   "source": [
    "gis_retail = arcgis.gis.GIS('Pro')  # optional, use if can use ArcGIS Pro authentication\n",
    "# gis = arcgis.gis.GIS(\n",
    "#     username='jmccune_retail', \n",
    "#     password=getpass('Please enter the headless password: ')\n",
    "# )"
   ]
  },
  {
   "cell_type": "markdown",
   "metadata": {},
   "source": [
    "# Get a Data Frame, data to work with, from the Web GIS Item ID\n",
    "\n",
    "Create a [Web GIS Item](http://esri.github.io/arcgis-python-api/apidoc/html/arcgis.gis.toc.html#item) instance using the Item ID"
   ]
  },
  {
   "cell_type": "code",
   "execution_count": 11,
   "metadata": {},
   "outputs": [
    {
     "data": {
      "text/html": [
       "<div class=\"item_container\" style=\"height: auto; overflow: hidden; border: 1px solid #cfcfcf; border-radius: 2px; background: #f6fafa; line-height: 1.21429em; padding: 10px;\">\n",
       "                    <div class=\"item_left\" style=\"width: 210px; float: left;\">\n",
       "                       <a href='http://commteamretail.maps.arcgis.com/home/item.html?id=44c0b666404c41b8a14e04c34d09be1e' target='_blank'>\n",
       "                        <img src='data:image/png;base64,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' width='200' height='133' class=\"itemThumbnail\">\n",
       "                       </a>\n",
       "                    </div>\n",
       "\n",
       "                    <div class=\"item_right\"     style=\"float: none; width: auto; overflow: hidden;\">\n",
       "                        <a href='http://commteamretail.maps.arcgis.com/home/item.html?id=44c0b666404c41b8a14e04c34d09be1e' target='_blank'><b>targetWithDemographics</b>\n",
       "                        </a>\n",
       "                        <br/>All same stores with huge variety of demographics associated with the locations.<img src='http://commteamretail.maps.arcgis.com/home/js/jsapi/esri/css/images/item_type_icons/featureshosted16.png' style=\"vertical-align:middle;\">Feature Layer Collection by joel5174@esri.com_commteamretail\n",
       "                        <br/>Last Modified: August 15, 2017\n",
       "                        <br/>0 comments, 14 views\n",
       "                    </div>\n",
       "                </div>\n",
       "                "
      ],
      "text/plain": [
       "<Item title:\"targetWithDemographics\" type:Feature Layer Collection owner:joel5174@esri.com_commteamretail>"
      ]
     },
     "execution_count": 11,
     "metadata": {},
     "output_type": "execute_result"
    }
   ],
   "source": [
    "trade_area_itemid = '44c0b666404c41b8a14e04c34d09be1e'\n",
    "item = arcgis.gis.Item(gis=gis, itemid=trade_area_itemid)\n",
    "item"
   ]
  },
  {
   "cell_type": "markdown",
   "metadata": {},
   "source": [
    "Since the item only contains one feature layer, get the first layer in the item, the [Feature Layer](http://esri.github.io/arcgis-python-api/apidoc/html/arcgis.features.toc.html#featurelayer) we need to work with."
   ]
  },
  {
   "cell_type": "code",
   "execution_count": 7,
   "metadata": {},
   "outputs": [
    {
     "data": {
      "text/plain": [
       "<FeatureLayer url:\"https://portal.coldbrew.esri.com/portal/sharing/servers/beb8077b083448b5b2c69fc3bdfa3126/rest/services/targetWithDemographics/FeatureServer/0\">"
      ]
     },
     "execution_count": 7,
     "metadata": {},
     "output_type": "execute_result"
    }
   ],
   "source": [
    "feature_layer = item.layers[0]\n",
    "feature_layer"
   ]
  },
  {
   "cell_type": "markdown",
   "metadata": {},
   "source": [
    "Use [query](http://esri.github.io/arcgis-python-api/apidoc/html/arcgis.features.toc.html#arcgis.features.FeatureLayer.query) to return the data as a [Feature Set](http://esri.github.io/arcgis-python-api/apidoc/html/arcgis.features.toc.html#featureset)."
   ]
  },
  {
   "cell_type": "code",
   "execution_count": 8,
   "metadata": {
    "collapsed": true
   },
   "outputs": [],
   "source": [
    "feature_set = feature_layer.query()"
   ]
  },
  {
   "cell_type": "code",
   "execution_count": 9,
   "metadata": {
    "scrolled": true
   },
   "outputs": [
    {
     "data": {
      "text/html": [
       "<div>\n",
       "<style>\n",
       "    .dataframe thead tr:only-child th {\n",
       "        text-align: right;\n",
       "    }\n",
       "\n",
       "    .dataframe thead th {\n",
       "        text-align: left;\n",
       "    }\n",
       "\n",
       "    .dataframe tbody tr th {\n",
       "        vertical-align: top;\n",
       "    }\n",
       "</style>\n",
       "<table border=\"1\" class=\"dataframe\">\n",
       "  <thead>\n",
       "    <tr style=\"text-align: right;\">\n",
       "      <th></th>\n",
       "      <th>NAME</th>\n",
       "      <th>ALIAS</th>\n",
       "    </tr>\n",
       "  </thead>\n",
       "  <tbody>\n",
       "    <tr>\n",
       "      <th>0</th>\n",
       "      <td>Target_Locations_CONAME</td>\n",
       "      <td>CONAME</td>\n",
       "    </tr>\n",
       "  </tbody>\n",
       "</table>\n",
       "</div>"
      ],
      "text/plain": [
       "                      NAME   ALIAS\n",
       "0  Target_Locations_CONAME  CONAME"
      ]
     },
     "execution_count": 9,
     "metadata": {},
     "output_type": "execute_result"
    }
   ],
   "source": [
    "df_fields = pd.DataFrame([(field['name'], field['alias']) for field in feature_set.fields], columns=['NAME', 'ALIAS'])\n",
    "df_fields"
   ]
  },
  {
   "cell_type": "markdown",
   "metadata": {},
   "source": [
    "Take advantage of the [`df` function](http://esri.github.io/arcgis-python-api/apidoc/html/arcgis.features.toc.html#arcgis.features.FeatureSet.df) on the Feature set object returned from the query to convert the data to a [Pandas Data Frame](https://pandas.pydata.org/pandas-docs/stable/generated/pandas.DataFrame.html)."
   ]
  },
  {
   "cell_type": "code",
   "execution_count": 8,
   "metadata": {
    "scrolled": true
   },
   "outputs": [
    {
     "data": {
      "text/html": [
       "<div>\n",
       "<style>\n",
       "    .dataframe thead tr:only-child th {\n",
       "        text-align: right;\n",
       "    }\n",
       "\n",
       "    .dataframe thead th {\n",
       "        text-align: left;\n",
       "    }\n",
       "\n",
       "    .dataframe tbody tr th {\n",
       "        vertical-align: top;\n",
       "    }\n",
       "</style>\n",
       "<table border=\"1\" class=\"dataframe\">\n",
       "  <thead>\n",
       "    <tr style=\"text-align: right;\">\n",
       "      <th></th>\n",
       "      <th>OBJECTID</th>\n",
       "      <th>Target_Locations_CITY</th>\n",
       "      <th>Target_Locations_CONAME</th>\n",
       "      <th>Target_Locations_LOCNUM</th>\n",
       "      <th>Target_Locations_NAICS</th>\n",
       "      <th>Target_Locations_SALESVOL</th>\n",
       "      <th>Target_Locations_SIC</th>\n",
       "      <th>Target_Locations_SQFTCODE</th>\n",
       "      <th>Target_Locations_STATE</th>\n",
       "      <th>Target_Locations_STREET</th>\n",
       "      <th>...</th>\n",
       "      <th>overlayTemplate_VAL200K_CY</th>\n",
       "      <th>overlayTemplate_VAL250K_CY</th>\n",
       "      <th>overlayTemplate_VAL300K_CY</th>\n",
       "      <th>overlayTemplate_VAL400K_CY</th>\n",
       "      <th>overlayTemplate_VAL500K_CY</th>\n",
       "      <th>overlayTemplate_VAL50K_CY</th>\n",
       "      <th>overlayTemplate_VAL750K_CY</th>\n",
       "      <th>overlayTemplate_WHITE_CY</th>\n",
       "      <th>overlayTemplate_WIDOWED_CY</th>\n",
       "      <th>SHAPE</th>\n",
       "    </tr>\n",
       "  </thead>\n",
       "  <tbody>\n",
       "    <tr>\n",
       "      <th>0</th>\n",
       "      <td>1</td>\n",
       "      <td>SEASIDE</td>\n",
       "      <td>TARGET</td>\n",
       "      <td>666990510</td>\n",
       "      <td>45211101</td>\n",
       "      <td>35495</td>\n",
       "      <td>531102</td>\n",
       "      <td>D</td>\n",
       "      <td>CA</td>\n",
       "      <td>CALIFORNIA AVE</td>\n",
       "      <td>...</td>\n",
       "      <td>200</td>\n",
       "      <td>354</td>\n",
       "      <td>934</td>\n",
       "      <td>693</td>\n",
       "      <td>1976</td>\n",
       "      <td>81</td>\n",
       "      <td>1012</td>\n",
       "      <td>23576</td>\n",
       "      <td>1902</td>\n",
       "      <td>{'y': 36.62100000000007, 'x': -121.84299999999...</td>\n",
       "    </tr>\n",
       "    <tr>\n",
       "      <th>1</th>\n",
       "      <td>2</td>\n",
       "      <td>MARINA</td>\n",
       "      <td>TARGET</td>\n",
       "      <td>653371815</td>\n",
       "      <td>45211101</td>\n",
       "      <td>35495</td>\n",
       "      <td>531102</td>\n",
       "      <td>D</td>\n",
       "      <td>CA</td>\n",
       "      <td>GENERAL STILLWELL DR</td>\n",
       "      <td>...</td>\n",
       "      <td>137</td>\n",
       "      <td>270</td>\n",
       "      <td>1043</td>\n",
       "      <td>742</td>\n",
       "      <td>1612</td>\n",
       "      <td>81</td>\n",
       "      <td>588</td>\n",
       "      <td>21068</td>\n",
       "      <td>1500</td>\n",
       "      <td>{'y': 36.66760000000007, 'x': -121.81120000000...</td>\n",
       "    </tr>\n",
       "    <tr>\n",
       "      <th>2</th>\n",
       "      <td>3</td>\n",
       "      <td>CAPITOLA</td>\n",
       "      <td>TARGET</td>\n",
       "      <td>423468472</td>\n",
       "      <td>45211101</td>\n",
       "      <td>35495</td>\n",
       "      <td>531102</td>\n",
       "      <td>D</td>\n",
       "      <td>CA</td>\n",
       "      <td>41ST AVE</td>\n",
       "      <td>...</td>\n",
       "      <td>372</td>\n",
       "      <td>405</td>\n",
       "      <td>1015</td>\n",
       "      <td>1271</td>\n",
       "      <td>4018</td>\n",
       "      <td>261</td>\n",
       "      <td>2452</td>\n",
       "      <td>41050</td>\n",
       "      <td>2524</td>\n",
       "      <td>{'y': 36.9753000000001, 'x': -121.96509999999991}</td>\n",
       "    </tr>\n",
       "    <tr>\n",
       "      <th>3</th>\n",
       "      <td>4</td>\n",
       "      <td>WATSONVILLE</td>\n",
       "      <td>TARGET</td>\n",
       "      <td>511743478</td>\n",
       "      <td>45211101</td>\n",
       "      <td>35495</td>\n",
       "      <td>531102</td>\n",
       "      <td>D</td>\n",
       "      <td>CA</td>\n",
       "      <td>MAIN ST</td>\n",
       "      <td>...</td>\n",
       "      <td>456</td>\n",
       "      <td>449</td>\n",
       "      <td>870</td>\n",
       "      <td>982</td>\n",
       "      <td>1211</td>\n",
       "      <td>197</td>\n",
       "      <td>293</td>\n",
       "      <td>19905</td>\n",
       "      <td>1323</td>\n",
       "      <td>{'y': 36.91540000000002, 'x': -121.77399999999...</td>\n",
       "    </tr>\n",
       "    <tr>\n",
       "      <th>4</th>\n",
       "      <td>5</td>\n",
       "      <td>CUPERTINO</td>\n",
       "      <td>TARGET</td>\n",
       "      <td>404459478</td>\n",
       "      <td>45211101</td>\n",
       "      <td>52059</td>\n",
       "      <td>531102</td>\n",
       "      <td>D</td>\n",
       "      <td>CA</td>\n",
       "      <td>STEVENS CREEK BLVD</td>\n",
       "      <td>...</td>\n",
       "      <td>43</td>\n",
       "      <td>49</td>\n",
       "      <td>211</td>\n",
       "      <td>519</td>\n",
       "      <td>2823</td>\n",
       "      <td>110</td>\n",
       "      <td>7694</td>\n",
       "      <td>41689</td>\n",
       "      <td>5226</td>\n",
       "      <td>{'y': 37.32310000000005, 'x': -122.03619999999...</td>\n",
       "    </tr>\n",
       "  </tbody>\n",
       "</table>\n",
       "<p>5 rows × 161 columns</p>\n",
       "</div>"
      ],
      "text/plain": [
       "   OBJECTID Target_Locations_CITY Target_Locations_CONAME  \\\n",
       "0         1               SEASIDE                  TARGET   \n",
       "1         2                MARINA                  TARGET   \n",
       "2         3              CAPITOLA                  TARGET   \n",
       "3         4           WATSONVILLE                  TARGET   \n",
       "4         5             CUPERTINO                  TARGET   \n",
       "\n",
       "  Target_Locations_LOCNUM Target_Locations_NAICS  Target_Locations_SALESVOL  \\\n",
       "0               666990510               45211101                      35495   \n",
       "1               653371815               45211101                      35495   \n",
       "2               423468472               45211101                      35495   \n",
       "3               511743478               45211101                      35495   \n",
       "4               404459478               45211101                      52059   \n",
       "\n",
       "  Target_Locations_SIC Target_Locations_SQFTCODE Target_Locations_STATE  \\\n",
       "0               531102                         D                     CA   \n",
       "1               531102                         D                     CA   \n",
       "2               531102                         D                     CA   \n",
       "3               531102                         D                     CA   \n",
       "4               531102                         D                     CA   \n",
       "\n",
       "  Target_Locations_STREET                        ...                          \\\n",
       "0          CALIFORNIA AVE                        ...                           \n",
       "1    GENERAL STILLWELL DR                        ...                           \n",
       "2                41ST AVE                        ...                           \n",
       "3                 MAIN ST                        ...                           \n",
       "4      STEVENS CREEK BLVD                        ...                           \n",
       "\n",
       "  overlayTemplate_VAL200K_CY overlayTemplate_VAL250K_CY  \\\n",
       "0                        200                        354   \n",
       "1                        137                        270   \n",
       "2                        372                        405   \n",
       "3                        456                        449   \n",
       "4                         43                         49   \n",
       "\n",
       "   overlayTemplate_VAL300K_CY  overlayTemplate_VAL400K_CY  \\\n",
       "0                         934                         693   \n",
       "1                        1043                         742   \n",
       "2                        1015                        1271   \n",
       "3                         870                         982   \n",
       "4                         211                         519   \n",
       "\n",
       "   overlayTemplate_VAL500K_CY  overlayTemplate_VAL50K_CY  \\\n",
       "0                        1976                         81   \n",
       "1                        1612                         81   \n",
       "2                        4018                        261   \n",
       "3                        1211                        197   \n",
       "4                        2823                        110   \n",
       "\n",
       "   overlayTemplate_VAL750K_CY  overlayTemplate_WHITE_CY  \\\n",
       "0                        1012                     23576   \n",
       "1                         588                     21068   \n",
       "2                        2452                     41050   \n",
       "3                         293                     19905   \n",
       "4                        7694                     41689   \n",
       "\n",
       "   overlayTemplate_WIDOWED_CY  \\\n",
       "0                        1902   \n",
       "1                        1500   \n",
       "2                        2524   \n",
       "3                        1323   \n",
       "4                        5226   \n",
       "\n",
       "                                               SHAPE  \n",
       "0  {'y': 36.62100000000007, 'x': -121.84299999999...  \n",
       "1  {'y': 36.66760000000007, 'x': -121.81120000000...  \n",
       "2  {'y': 36.9753000000001, 'x': -121.96509999999991}  \n",
       "3  {'y': 36.91540000000002, 'x': -121.77399999999...  \n",
       "4  {'y': 37.32310000000005, 'x': -122.03619999999...  \n",
       "\n",
       "[5 rows x 161 columns]"
      ]
     },
     "execution_count": 8,
     "metadata": {},
     "output_type": "execute_result"
    }
   ],
   "source": [
    "df = feature_set.df\n",
    "df.head()"
   ]
  },
  {
   "cell_type": "markdown",
   "metadata": {},
   "source": [
    "Because I am neurotic, and hate the prefixes added to the field names from the join when preparing the data in ArcMap, we are cleaning them up a little here."
   ]
  },
  {
   "cell_type": "code",
   "execution_count": 9,
   "metadata": {},
   "outputs": [
    {
     "data": {
      "text/html": [
       "<div>\n",
       "<style>\n",
       "    .dataframe thead tr:only-child th {\n",
       "        text-align: right;\n",
       "    }\n",
       "\n",
       "    .dataframe thead th {\n",
       "        text-align: left;\n",
       "    }\n",
       "\n",
       "    .dataframe tbody tr th {\n",
       "        vertical-align: top;\n",
       "    }\n",
       "</style>\n",
       "<table border=\"1\" class=\"dataframe\">\n",
       "  <thead>\n",
       "    <tr style=\"text-align: right;\">\n",
       "      <th></th>\n",
       "      <th>OBJECTID</th>\n",
       "      <th>CITY</th>\n",
       "      <th>CONAME</th>\n",
       "      <th>LOCNUM</th>\n",
       "      <th>NAICS</th>\n",
       "      <th>SALESVOL</th>\n",
       "      <th>SIC</th>\n",
       "      <th>SQFTCODE</th>\n",
       "      <th>STATE</th>\n",
       "      <th>STREET</th>\n",
       "      <th>...</th>\n",
       "      <th>VAL200K_CY</th>\n",
       "      <th>VAL250K_CY</th>\n",
       "      <th>VAL300K_CY</th>\n",
       "      <th>VAL400K_CY</th>\n",
       "      <th>VAL500K_CY</th>\n",
       "      <th>VAL50K_CY</th>\n",
       "      <th>VAL750K_CY</th>\n",
       "      <th>WHITE_CY</th>\n",
       "      <th>WIDOWED_CY</th>\n",
       "      <th>SHAPE</th>\n",
       "    </tr>\n",
       "  </thead>\n",
       "  <tbody>\n",
       "    <tr>\n",
       "      <th>0</th>\n",
       "      <td>1</td>\n",
       "      <td>SEASIDE</td>\n",
       "      <td>TARGET</td>\n",
       "      <td>666990510</td>\n",
       "      <td>45211101</td>\n",
       "      <td>35495</td>\n",
       "      <td>531102</td>\n",
       "      <td>D</td>\n",
       "      <td>CA</td>\n",
       "      <td>CALIFORNIA AVE</td>\n",
       "      <td>...</td>\n",
       "      <td>200</td>\n",
       "      <td>354</td>\n",
       "      <td>934</td>\n",
       "      <td>693</td>\n",
       "      <td>1976</td>\n",
       "      <td>81</td>\n",
       "      <td>1012</td>\n",
       "      <td>23576</td>\n",
       "      <td>1902</td>\n",
       "      <td>{'y': 36.62100000000007, 'x': -121.84299999999...</td>\n",
       "    </tr>\n",
       "    <tr>\n",
       "      <th>1</th>\n",
       "      <td>2</td>\n",
       "      <td>MARINA</td>\n",
       "      <td>TARGET</td>\n",
       "      <td>653371815</td>\n",
       "      <td>45211101</td>\n",
       "      <td>35495</td>\n",
       "      <td>531102</td>\n",
       "      <td>D</td>\n",
       "      <td>CA</td>\n",
       "      <td>GENERAL STILLWELL DR</td>\n",
       "      <td>...</td>\n",
       "      <td>137</td>\n",
       "      <td>270</td>\n",
       "      <td>1043</td>\n",
       "      <td>742</td>\n",
       "      <td>1612</td>\n",
       "      <td>81</td>\n",
       "      <td>588</td>\n",
       "      <td>21068</td>\n",
       "      <td>1500</td>\n",
       "      <td>{'y': 36.66760000000007, 'x': -121.81120000000...</td>\n",
       "    </tr>\n",
       "    <tr>\n",
       "      <th>2</th>\n",
       "      <td>3</td>\n",
       "      <td>CAPITOLA</td>\n",
       "      <td>TARGET</td>\n",
       "      <td>423468472</td>\n",
       "      <td>45211101</td>\n",
       "      <td>35495</td>\n",
       "      <td>531102</td>\n",
       "      <td>D</td>\n",
       "      <td>CA</td>\n",
       "      <td>41ST AVE</td>\n",
       "      <td>...</td>\n",
       "      <td>372</td>\n",
       "      <td>405</td>\n",
       "      <td>1015</td>\n",
       "      <td>1271</td>\n",
       "      <td>4018</td>\n",
       "      <td>261</td>\n",
       "      <td>2452</td>\n",
       "      <td>41050</td>\n",
       "      <td>2524</td>\n",
       "      <td>{'y': 36.9753000000001, 'x': -121.96509999999991}</td>\n",
       "    </tr>\n",
       "    <tr>\n",
       "      <th>3</th>\n",
       "      <td>4</td>\n",
       "      <td>WATSONVILLE</td>\n",
       "      <td>TARGET</td>\n",
       "      <td>511743478</td>\n",
       "      <td>45211101</td>\n",
       "      <td>35495</td>\n",
       "      <td>531102</td>\n",
       "      <td>D</td>\n",
       "      <td>CA</td>\n",
       "      <td>MAIN ST</td>\n",
       "      <td>...</td>\n",
       "      <td>456</td>\n",
       "      <td>449</td>\n",
       "      <td>870</td>\n",
       "      <td>982</td>\n",
       "      <td>1211</td>\n",
       "      <td>197</td>\n",
       "      <td>293</td>\n",
       "      <td>19905</td>\n",
       "      <td>1323</td>\n",
       "      <td>{'y': 36.91540000000002, 'x': -121.77399999999...</td>\n",
       "    </tr>\n",
       "    <tr>\n",
       "      <th>4</th>\n",
       "      <td>5</td>\n",
       "      <td>CUPERTINO</td>\n",
       "      <td>TARGET</td>\n",
       "      <td>404459478</td>\n",
       "      <td>45211101</td>\n",
       "      <td>52059</td>\n",
       "      <td>531102</td>\n",
       "      <td>D</td>\n",
       "      <td>CA</td>\n",
       "      <td>STEVENS CREEK BLVD</td>\n",
       "      <td>...</td>\n",
       "      <td>43</td>\n",
       "      <td>49</td>\n",
       "      <td>211</td>\n",
       "      <td>519</td>\n",
       "      <td>2823</td>\n",
       "      <td>110</td>\n",
       "      <td>7694</td>\n",
       "      <td>41689</td>\n",
       "      <td>5226</td>\n",
       "      <td>{'y': 37.32310000000005, 'x': -122.03619999999...</td>\n",
       "    </tr>\n",
       "  </tbody>\n",
       "</table>\n",
       "<p>5 rows × 161 columns</p>\n",
       "</div>"
      ],
      "text/plain": [
       "   OBJECTID         CITY  CONAME     LOCNUM     NAICS  SALESVOL     SIC  \\\n",
       "0         1      SEASIDE  TARGET  666990510  45211101     35495  531102   \n",
       "1         2       MARINA  TARGET  653371815  45211101     35495  531102   \n",
       "2         3     CAPITOLA  TARGET  423468472  45211101     35495  531102   \n",
       "3         4  WATSONVILLE  TARGET  511743478  45211101     35495  531102   \n",
       "4         5    CUPERTINO  TARGET  404459478  45211101     52059  531102   \n",
       "\n",
       "  SQFTCODE STATE                STREET  \\\n",
       "0        D    CA        CALIFORNIA AVE   \n",
       "1        D    CA  GENERAL STILLWELL DR   \n",
       "2        D    CA              41ST AVE   \n",
       "3        D    CA               MAIN ST   \n",
       "4        D    CA    STEVENS CREEK BLVD   \n",
       "\n",
       "                         ...                         VAL200K_CY VAL250K_CY  \\\n",
       "0                        ...                                200        354   \n",
       "1                        ...                                137        270   \n",
       "2                        ...                                372        405   \n",
       "3                        ...                                456        449   \n",
       "4                        ...                                 43         49   \n",
       "\n",
       "   VAL300K_CY  VAL400K_CY  VAL500K_CY  VAL50K_CY  VAL750K_CY  WHITE_CY  \\\n",
       "0         934         693        1976         81        1012     23576   \n",
       "1        1043         742        1612         81         588     21068   \n",
       "2        1015        1271        4018        261        2452     41050   \n",
       "3         870         982        1211        197         293     19905   \n",
       "4         211         519        2823        110        7694     41689   \n",
       "\n",
       "   WIDOWED_CY                                              SHAPE  \n",
       "0        1902  {'y': 36.62100000000007, 'x': -121.84299999999...  \n",
       "1        1500  {'y': 36.66760000000007, 'x': -121.81120000000...  \n",
       "2        2524  {'y': 36.9753000000001, 'x': -121.96509999999991}  \n",
       "3        1323  {'y': 36.91540000000002, 'x': -121.77399999999...  \n",
       "4        5226  {'y': 37.32310000000005, 'x': -122.03619999999...  \n",
       "\n",
       "[5 rows x 161 columns]"
      ]
     },
     "execution_count": 9,
     "metadata": {},
     "output_type": "execute_result"
    }
   ],
   "source": [
    "df.columns = [field.replace('Target_Locations_', '').replace('overlayTemplate_', '') for field in df.columns]\n",
    "df.head()"
   ]
  },
  {
   "cell_type": "markdown",
   "metadata": {},
   "source": [
    "# Store Segmentation Using KMeans Clustering"
   ]
  },
  {
   "cell_type": "markdown",
   "metadata": {},
   "source": [
    "Use KMeans cluster analysis from the Sci-Kit Learn package to segment the demographically similar stores together."
   ]
  },
  {
   "cell_type": "code",
   "execution_count": 10,
   "metadata": {
    "collapsed": true
   },
   "outputs": [],
   "source": [
    "from sklearn.cluster import KMeans\n",
    "import pandas as pd\n",
    "import numpy as np\n",
    "\n",
    "%matplotlib inline"
   ]
  },
  {
   "cell_type": "markdown",
   "metadata": {},
   "source": [
    "Create the KMeans clusterer, specifying it to create five clusters, or segments."
   ]
  },
  {
   "cell_type": "code",
   "execution_count": 11,
   "metadata": {
    "collapsed": true
   },
   "outputs": [],
   "source": [
    "km = KMeans(n_clusters=5)"
   ]
  },
  {
   "cell_type": "markdown",
   "metadata": {},
   "source": [
    "Use the `fit_predict` method to create the clusters using just the numeric fields - not including the OID and sales fields."
   ]
  },
  {
   "cell_type": "code",
   "execution_count": 12,
   "metadata": {
    "collapsed": true
   },
   "outputs": [],
   "source": [
    "df_independent = df.select_dtypes(include=[np.number]).drop(['OBJECTID', 'SALESVOL'], axis=1)\n",
    "fields_independent = df_independent.columns  # save for later\n",
    "field_name_dependent = 'SALESVOL' # keep track of this as well"
   ]
  },
  {
   "cell_type": "code",
   "execution_count": 13,
   "metadata": {
    "collapsed": true
   },
   "outputs": [],
   "source": [
    "df['segment'] = km.fit_predict(df_independent)"
   ]
  },
  {
   "cell_type": "code",
   "execution_count": 14,
   "metadata": {},
   "outputs": [
    {
     "data": {
      "text/html": [
       "<div>\n",
       "<style>\n",
       "    .dataframe thead tr:only-child th {\n",
       "        text-align: right;\n",
       "    }\n",
       "\n",
       "    .dataframe thead th {\n",
       "        text-align: left;\n",
       "    }\n",
       "\n",
       "    .dataframe tbody tr th {\n",
       "        vertical-align: top;\n",
       "    }\n",
       "</style>\n",
       "<table border=\"1\" class=\"dataframe\">\n",
       "  <thead>\n",
       "    <tr style=\"text-align: right;\">\n",
       "      <th></th>\n",
       "      <th>OBJECTID</th>\n",
       "      <th>CITY</th>\n",
       "      <th>CONAME</th>\n",
       "      <th>LOCNUM</th>\n",
       "      <th>NAICS</th>\n",
       "      <th>SALESVOL</th>\n",
       "      <th>SIC</th>\n",
       "      <th>SQFTCODE</th>\n",
       "      <th>STATE</th>\n",
       "      <th>STREET</th>\n",
       "      <th>...</th>\n",
       "      <th>VAL250K_CY</th>\n",
       "      <th>VAL300K_CY</th>\n",
       "      <th>VAL400K_CY</th>\n",
       "      <th>VAL500K_CY</th>\n",
       "      <th>VAL50K_CY</th>\n",
       "      <th>VAL750K_CY</th>\n",
       "      <th>WHITE_CY</th>\n",
       "      <th>WIDOWED_CY</th>\n",
       "      <th>SHAPE</th>\n",
       "      <th>segment</th>\n",
       "    </tr>\n",
       "  </thead>\n",
       "  <tbody>\n",
       "    <tr>\n",
       "      <th>0</th>\n",
       "      <td>1</td>\n",
       "      <td>SEASIDE</td>\n",
       "      <td>TARGET</td>\n",
       "      <td>666990510</td>\n",
       "      <td>45211101</td>\n",
       "      <td>35495</td>\n",
       "      <td>531102</td>\n",
       "      <td>D</td>\n",
       "      <td>CA</td>\n",
       "      <td>CALIFORNIA AVE</td>\n",
       "      <td>...</td>\n",
       "      <td>354</td>\n",
       "      <td>934</td>\n",
       "      <td>693</td>\n",
       "      <td>1976</td>\n",
       "      <td>81</td>\n",
       "      <td>1012</td>\n",
       "      <td>23576</td>\n",
       "      <td>1902</td>\n",
       "      <td>{'y': 36.62100000000007, 'x': -121.84299999999...</td>\n",
       "      <td>0</td>\n",
       "    </tr>\n",
       "    <tr>\n",
       "      <th>1</th>\n",
       "      <td>2</td>\n",
       "      <td>MARINA</td>\n",
       "      <td>TARGET</td>\n",
       "      <td>653371815</td>\n",
       "      <td>45211101</td>\n",
       "      <td>35495</td>\n",
       "      <td>531102</td>\n",
       "      <td>D</td>\n",
       "      <td>CA</td>\n",
       "      <td>GENERAL STILLWELL DR</td>\n",
       "      <td>...</td>\n",
       "      <td>270</td>\n",
       "      <td>1043</td>\n",
       "      <td>742</td>\n",
       "      <td>1612</td>\n",
       "      <td>81</td>\n",
       "      <td>588</td>\n",
       "      <td>21068</td>\n",
       "      <td>1500</td>\n",
       "      <td>{'y': 36.66760000000007, 'x': -121.81120000000...</td>\n",
       "      <td>0</td>\n",
       "    </tr>\n",
       "    <tr>\n",
       "      <th>2</th>\n",
       "      <td>3</td>\n",
       "      <td>CAPITOLA</td>\n",
       "      <td>TARGET</td>\n",
       "      <td>423468472</td>\n",
       "      <td>45211101</td>\n",
       "      <td>35495</td>\n",
       "      <td>531102</td>\n",
       "      <td>D</td>\n",
       "      <td>CA</td>\n",
       "      <td>41ST AVE</td>\n",
       "      <td>...</td>\n",
       "      <td>405</td>\n",
       "      <td>1015</td>\n",
       "      <td>1271</td>\n",
       "      <td>4018</td>\n",
       "      <td>261</td>\n",
       "      <td>2452</td>\n",
       "      <td>41050</td>\n",
       "      <td>2524</td>\n",
       "      <td>{'y': 36.9753000000001, 'x': -121.96509999999991}</td>\n",
       "      <td>3</td>\n",
       "    </tr>\n",
       "    <tr>\n",
       "      <th>3</th>\n",
       "      <td>4</td>\n",
       "      <td>WATSONVILLE</td>\n",
       "      <td>TARGET</td>\n",
       "      <td>511743478</td>\n",
       "      <td>45211101</td>\n",
       "      <td>35495</td>\n",
       "      <td>531102</td>\n",
       "      <td>D</td>\n",
       "      <td>CA</td>\n",
       "      <td>MAIN ST</td>\n",
       "      <td>...</td>\n",
       "      <td>449</td>\n",
       "      <td>870</td>\n",
       "      <td>982</td>\n",
       "      <td>1211</td>\n",
       "      <td>197</td>\n",
       "      <td>293</td>\n",
       "      <td>19905</td>\n",
       "      <td>1323</td>\n",
       "      <td>{'y': 36.91540000000002, 'x': -121.77399999999...</td>\n",
       "      <td>0</td>\n",
       "    </tr>\n",
       "    <tr>\n",
       "      <th>4</th>\n",
       "      <td>5</td>\n",
       "      <td>CUPERTINO</td>\n",
       "      <td>TARGET</td>\n",
       "      <td>404459478</td>\n",
       "      <td>45211101</td>\n",
       "      <td>52059</td>\n",
       "      <td>531102</td>\n",
       "      <td>D</td>\n",
       "      <td>CA</td>\n",
       "      <td>STEVENS CREEK BLVD</td>\n",
       "      <td>...</td>\n",
       "      <td>49</td>\n",
       "      <td>211</td>\n",
       "      <td>519</td>\n",
       "      <td>2823</td>\n",
       "      <td>110</td>\n",
       "      <td>7694</td>\n",
       "      <td>41689</td>\n",
       "      <td>5226</td>\n",
       "      <td>{'y': 37.32310000000005, 'x': -122.03619999999...</td>\n",
       "      <td>2</td>\n",
       "    </tr>\n",
       "  </tbody>\n",
       "</table>\n",
       "<p>5 rows × 162 columns</p>\n",
       "</div>"
      ],
      "text/plain": [
       "   OBJECTID         CITY  CONAME     LOCNUM     NAICS  SALESVOL     SIC  \\\n",
       "0         1      SEASIDE  TARGET  666990510  45211101     35495  531102   \n",
       "1         2       MARINA  TARGET  653371815  45211101     35495  531102   \n",
       "2         3     CAPITOLA  TARGET  423468472  45211101     35495  531102   \n",
       "3         4  WATSONVILLE  TARGET  511743478  45211101     35495  531102   \n",
       "4         5    CUPERTINO  TARGET  404459478  45211101     52059  531102   \n",
       "\n",
       "  SQFTCODE STATE                STREET   ...    VAL250K_CY VAL300K_CY  \\\n",
       "0        D    CA        CALIFORNIA AVE   ...           354        934   \n",
       "1        D    CA  GENERAL STILLWELL DR   ...           270       1043   \n",
       "2        D    CA              41ST AVE   ...           405       1015   \n",
       "3        D    CA               MAIN ST   ...           449        870   \n",
       "4        D    CA    STEVENS CREEK BLVD   ...            49        211   \n",
       "\n",
       "   VAL400K_CY  VAL500K_CY  VAL50K_CY  VAL750K_CY  WHITE_CY  WIDOWED_CY  \\\n",
       "0         693        1976         81        1012     23576        1902   \n",
       "1         742        1612         81         588     21068        1500   \n",
       "2        1271        4018        261        2452     41050        2524   \n",
       "3         982        1211        197         293     19905        1323   \n",
       "4         519        2823        110        7694     41689        5226   \n",
       "\n",
       "                                               SHAPE  segment  \n",
       "0  {'y': 36.62100000000007, 'x': -121.84299999999...        0  \n",
       "1  {'y': 36.66760000000007, 'x': -121.81120000000...        0  \n",
       "2  {'y': 36.9753000000001, 'x': -121.96509999999991}        3  \n",
       "3  {'y': 36.91540000000002, 'x': -121.77399999999...        0  \n",
       "4  {'y': 37.32310000000005, 'x': -122.03619999999...        2  \n",
       "\n",
       "[5 rows x 162 columns]"
      ]
     },
     "execution_count": 14,
     "metadata": {},
     "output_type": "execute_result"
    }
   ],
   "source": [
    "df.head()"
   ]
  },
  {
   "cell_type": "markdown",
   "metadata": {},
   "source": [
    "# Investigate the Results\n",
    "\n",
    "Now, take a look at a few descriptive metrics to begin to understand the results - initially by creating a data frame with the segments, mean sales for each segment, median sales for each segment, and the median sales for each segment."
   ]
  },
  {
   "cell_type": "code",
   "execution_count": 15,
   "metadata": {
    "collapsed": true
   },
   "outputs": [],
   "source": [
    "df_count = df.segment.value_counts().reset_index().rename(columns={'index': 'segment', 'segment': 'count'})\n",
    "df_mean = df.groupby('segment').mean()[field_name_dependent].reset_index().rename(\n",
    "    columns={'segment': 'segment', field_name_dependent: 'mean_sales'})\n",
    "df_median = df.groupby('segment').median()[field_name_dependent].reset_index().rename(\n",
    "    columns={'segment': 'segment', field_name_dependent: 'median_sales'})"
   ]
  },
  {
   "cell_type": "code",
   "execution_count": 16,
   "metadata": {},
   "outputs": [
    {
     "name": "stdout",
     "output_type": "stream",
     "text": [
      "Sales Mean: 35147.10\n",
      "Sales Standard Deviation: 17891.99\n"
     ]
    },
    {
     "data": {
      "text/html": [
       "<div>\n",
       "<style>\n",
       "    .dataframe thead tr:only-child th {\n",
       "        text-align: right;\n",
       "    }\n",
       "\n",
       "    .dataframe thead th {\n",
       "        text-align: left;\n",
       "    }\n",
       "\n",
       "    .dataframe tbody tr th {\n",
       "        vertical-align: top;\n",
       "    }\n",
       "</style>\n",
       "<table border=\"1\" class=\"dataframe\">\n",
       "  <thead>\n",
       "    <tr style=\"text-align: right;\">\n",
       "      <th></th>\n",
       "      <th>segment</th>\n",
       "      <th>count</th>\n",
       "      <th>mean_sales</th>\n",
       "      <th>median_sales</th>\n",
       "      <th>mean_sales_zscore</th>\n",
       "    </tr>\n",
       "  </thead>\n",
       "  <tbody>\n",
       "    <tr>\n",
       "      <th>4</th>\n",
       "      <td>2</td>\n",
       "      <td>51</td>\n",
       "      <td>45933.235294</td>\n",
       "      <td>44033.0</td>\n",
       "      <td>0.603014</td>\n",
       "    </tr>\n",
       "    <tr>\n",
       "      <th>3</th>\n",
       "      <td>4</td>\n",
       "      <td>209</td>\n",
       "      <td>40632.416268</td>\n",
       "      <td>35495.0</td>\n",
       "      <td>0.306664</td>\n",
       "    </tr>\n",
       "    <tr>\n",
       "      <th>2</th>\n",
       "      <td>1</td>\n",
       "      <td>359</td>\n",
       "      <td>38073.933148</td>\n",
       "      <td>35495.0</td>\n",
       "      <td>0.163629</td>\n",
       "    </tr>\n",
       "    <tr>\n",
       "      <th>1</th>\n",
       "      <td>3</td>\n",
       "      <td>532</td>\n",
       "      <td>34614.334586</td>\n",
       "      <td>33800.5</td>\n",
       "      <td>-0.029785</td>\n",
       "    </tr>\n",
       "    <tr>\n",
       "      <th>0</th>\n",
       "      <td>0</td>\n",
       "      <td>657</td>\n",
       "      <td>31396.975647</td>\n",
       "      <td>32245.0</td>\n",
       "      <td>-0.209656</td>\n",
       "    </tr>\n",
       "  </tbody>\n",
       "</table>\n",
       "</div>"
      ],
      "text/plain": [
       "   segment  count    mean_sales  median_sales  mean_sales_zscore\n",
       "4        2     51  45933.235294       44033.0           0.603014\n",
       "3        4    209  40632.416268       35495.0           0.306664\n",
       "2        1    359  38073.933148       35495.0           0.163629\n",
       "1        3    532  34614.334586       33800.5          -0.029785\n",
       "0        0    657  31396.975647       32245.0          -0.209656"
      ]
     },
     "execution_count": 16,
     "metadata": {},
     "output_type": "execute_result"
    }
   ],
   "source": [
    "df_summary = pd.merge(df_count, df_mean)\n",
    "df_summary = pd.merge(df_summary, df_median)\n",
    "df_summary = df_summary.sort_values('mean_sales', ascending=False)\n",
    "df_summary['mean_sales_zscore'] = df_summary.apply(lambda row: (row.mean_sales - df.SALESVOL.mean()) / df.SALESVOL.std(ddof=0), axis=1)\n",
    "print('Sales Mean: {:.2f}\\nSales Standard Deviation: {:.2f}'.format(df.SALESVOL.mean(), df.SALESVOL.std()))\n",
    "df_summary"
   ]
  },
  {
   "cell_type": "markdown",
   "metadata": {},
   "source": [
    "Now, using data from this data frame, visualize the means of each segment against the mean, and one-half standard deviation above and below the mean."
   ]
  },
  {
   "cell_type": "code",
   "execution_count": 17,
   "metadata": {},
   "outputs": [
    {
     "data": {
      "text/plain": [
       "<matplotlib.lines.Line2D at 0x1168a25f8>"
      ]
     },
     "execution_count": 17,
     "metadata": {},
     "output_type": "execute_result"
    },
    {
     "data": {
      "image/png": "[encoded data removed]",
      "text/plain": [
       "<matplotlib.figure.Figure at 0x119c23898>"
      ]
     },
     "metadata": {},
     "output_type": "display_data"
    }
   ],
   "source": [
    "ax = df_summary.sort_values('mean_sales').plot.bar(y='mean_sales', x='segment', figsize=(15, 8))\n",
    "ax.set_ylabel('mean sales')\n",
    "ax.set_title('Mean Sales by KMeans Segment')\n",
    "\n",
    "ax.axhline(y=df.SALESVOL.mean(), color='r') # add the mean for reference\n",
    "ax.axhline(y=df.SALESVOL.mean() - df.SALESVOL.std() * 0.5, color='g')\n",
    "ax.axhline(y=df.SALESVOL.mean() + df.SALESVOL.std() * 0.5, color='g')"
   ]
  },
  {
   "cell_type": "code",
   "execution_count": 28,
   "metadata": {},
   "outputs": [
    {
     "name": "stdout",
     "output_type": "stream",
     "text": [
      "['AGGDI_CY', 'AGGNW_CY', 'AMERIND_CY', 'ASIAN_CY', 'ASSCDEG_CY', 'AVGDI_CY', 'AVGFMSZ_CY', 'AVGHHSZ_CY', 'AVGHINC_CY', 'AVGNW_CY', 'AVGVAL_CY', 'BACHDEG_CY', 'BLACK_CY', 'CIVLBFR_CY', 'DI0_CY', 'DI100_CY', 'DI150_CY', 'DI15_CY', 'DI200_CY', 'DI25_CY', 'DI35_CY', 'DI50_CY', 'DI75_CY', 'DIVINDX_CY', 'DIVORCD_CY', 'EMP_CY', 'FAMGRW10CY', 'FAMHH_CY', 'FAMPOP_CY', 'GED_CY', 'GQPOP_CY', 'GRADDEG_CY', 'HHGRW10CY', 'HHPOP_CY', 'HINC0_CY', 'HINC100_CY', 'HINC150_CY', 'HINC15_CY', 'HINC200_CY', 'HINC25_CY', 'HINC35_CY', 'HINC50_CY', 'HINC75_CY', 'HISPAI_CY', 'HISPASN_CY', 'HISPBLK_CY', 'HISPMLT_CY', 'HISPOTH_CY', 'HISPPI_CY', 'HISPPOP_CY', 'HISPWHT_CY', 'HSGRAD_CY', 'INDADMN_CY', 'INDAGRI_CY', 'INDARTS_CY', 'INDCONS_CY', 'INDEDUC_CY', 'INDFIN_CY', 'INDFOOD_CY', 'INDHLTH_CY', 'INDINFO_CY', 'INDMANU_CY', 'INDMGMT_CY', 'INDMIN_CY', 'INDOTSV_CY', 'INDPUBL_CY', 'INDRE_CY', 'INDRTTR_CY', 'INDTECH_CY', 'INDTRAN_CY', 'INDUTIL_CY', 'INDWHTR_CY', 'MARRIED_CY', 'MEDDI_CY', 'MEDHINC_CY', 'MEDNW_CY', 'MEDVAL_CY', 'MINORITYCY', 'NEVMARR_CY', 'NHSPAI_CY', 'NHSPASN_CY', 'NHSPBLK_CY', 'NHSPMLT_CY', 'NHSPOTH_CY', 'NHSPPI_CY', 'NHSPWHT_CY', 'NOHS_CY', 'NONHISP_CY', 'NW0_CY', 'NW100_CY', 'NW150_CY', 'NW15_CY', 'NW250_CY', 'NW35_CY', 'NW500_CY', 'NW50_CY', 'NW75_CY', 'OCCADMN_CY', 'OCCARCH_CY', 'OCCBLDG_CY', 'OCCBUS_CY', 'OCCCOMP_CY', 'OCCCONS_CY', 'OCCEDUC_CY', 'OCCENT_CY', 'OCCFARM_CY', 'OCCFOOD_CY', 'OCCHLTH_CY', 'OCCHTCH_CY', 'OCCLEGL_CY', 'OCCMAIN_CY', 'OCCMGMT_CY', 'OCCPERS_CY', 'OCCPROD_CY', 'OCCPROT_CY', 'OCCSALE_CY', 'OCCSSCI_CY', 'OCCSSRV_CY', 'OCCTRAN_CY', 'OTHRACE_CY', 'OWNER_CY', 'PACIFIC_CY', 'PCI_CY', 'POPDENS_CY', 'POPGRW10CY', 'RACE2UP_CY', 'RENTER_CY', 'SMCOLL_CY', 'SOMEHS_CY', 'TOTHH_CY', 'TOTHU_CY', 'TOTPOP_CY', 'UNEMPRT_CY', 'UNEMP_CY', 'VACANT_CY', 'VAL0_CY', 'VAL100K_CY', 'VAL150K_CY', 'VAL1M_CY', 'VAL200K_CY', 'VAL250K_CY', 'VAL300K_CY', 'VAL400K_CY', 'VAL500K_CY', 'VAL50K_CY', 'VAL750K_CY', 'WHITE_CY', 'WIDOWED_CY']\n"
     ]
    }
   ],
   "source": [
    "print(df_independent.columns.values.tolist())"
   ]
  },
  {
   "cell_type": "markdown",
   "metadata": {},
   "source": [
    "# Map Results"
   ]
  },
  {
   "cell_type": "markdown",
   "metadata": {},
   "source": [
    "After doing this analysis, we are going to begin by showing the locations of the top performing stores on the map relative to the rest of the stores."
   ]
  },
  {
   "cell_type": "code",
   "execution_count": 18,
   "metadata": {},
   "outputs": [
    {
     "data": {
      "text/plain": [
       "2.0"
      ]
     },
     "execution_count": 18,
     "metadata": {},
     "output_type": "execute_result"
    }
   ],
   "source": [
    "top_segment = df_summary.iloc[0].segment\n",
    "top_segment"
   ]
  },
  {
   "cell_type": "markdown",
   "metadata": {},
   "source": [
    "This is a first stab at mapping the data just using the draw method, which plots the data on the map much like just using a sharpie. The data is not organized into a layer per say, so it is not very useful. Still, it is interesting at a coursory level, just seeing the rest of the stores, and the top performers."
   ]
  },
  {
   "cell_type": "code",
   "execution_count": 19,
   "metadata": {},
   "outputs": [
    {
     "data": {
      "application/vnd.jupyter.widget-view+json": {
       "model_id": "08a5aae3c04146cf8f0e8b8a3c99c4ab"
      }
     },
     "metadata": {},
     "output_type": "display_data"
    }
   ],
   "source": [
    "store_map = gis_retail.map('Meades Ranch, KS', 4)\n",
    "store_map.basemap = 'gray'\n",
    "store_map"
   ]
  },
  {
   "cell_type": "code",
   "execution_count": 21,
   "metadata": {
    "collapsed": true
   },
   "outputs": [],
   "source": [
    "for index, row in df[df.segment != top_segment].iterrows():\n",
    "    store_map.draw(row.SHAPE, symbol={'type': 'esriSMS', 'style': 'esriSMSCircle', 'size': 4})\n",
    "for index, row in df[df.segment == top_segment].iterrows():\n",
    "    store_map.draw(row.SHAPE, symbol={'type': 'esriSMS', 'style': 'esriSMSCircle', \"color\":[0,255,0,255], \"size\":6})"
   ]
  },
  {
   "cell_type": "markdown",
   "metadata": {
    "collapsed": true
   },
   "source": [
    "# PCA"
   ]
  },
  {
   "cell_type": "code",
   "execution_count": 18,
   "metadata": {
    "collapsed": true
   },
   "outputs": [],
   "source": [
    "from sklearn.decomposition import PCA\n",
    "import matplotlib.pyplot as plt"
   ]
  },
  {
   "cell_type": "code",
   "execution_count": 41,
   "metadata": {
    "collapsed": true
   },
   "outputs": [],
   "source": [
    "pca = PCA(n_components=2)"
   ]
  },
  {
   "cell_type": "code",
   "execution_count": 50,
   "metadata": {
    "collapsed": true
   },
   "outputs": [],
   "source": [
    "df['x'] = pca.fit_transform(df[fields_independent])[:,0]\n",
    "df['y'] = pca.fit_transform(df[fields_independent])[:,1]"
   ]
  },
  {
   "cell_type": "code",
   "execution_count": 61,
   "metadata": {},
   "outputs": [
    {
     "ename": "NameError",
     "evalue": "name 'cluster' is not defined",
     "output_type": "error",
     "traceback": [
      "\u001b[0;31m---------------------------------------------------------------------------\u001b[0m",
      "\u001b[0;31mNameError\u001b[0m                                 Traceback (most recent call last)",
      "\u001b[0;32m<ipython-input-61-6b3337d6cc3b>\u001b[0m in \u001b[0;36m<module>\u001b[0;34m()\u001b[0m\n\u001b[1;32m      1\u001b[0m \u001b[0max\u001b[0m \u001b[0;34m=\u001b[0m \u001b[0mplt\u001b[0m\u001b[0;34m.\u001b[0m\u001b[0mscatter\u001b[0m\u001b[0;34m(\u001b[0m\u001b[0mdata\u001b[0m\u001b[0;34m=\u001b[0m\u001b[0mdf\u001b[0m\u001b[0;34m,\u001b[0m \u001b[0mx\u001b[0m\u001b[0;34m=\u001b[0m\u001b[0;34m'x'\u001b[0m\u001b[0;34m,\u001b[0m \u001b[0my\u001b[0m\u001b[0;34m=\u001b[0m\u001b[0;34m'y'\u001b[0m\u001b[0;34m,\u001b[0m \u001b[0mc\u001b[0m\u001b[0;34m=\u001b[0m\u001b[0;34m'segment'\u001b[0m\u001b[0;34m)\u001b[0m\u001b[0;34m\u001b[0m\u001b[0m\n\u001b[1;32m      2\u001b[0m \u001b[0;34m\u001b[0m\u001b[0m\n\u001b[0;32m----> 3\u001b[0;31m \u001b[0mcluster_centers\u001b[0m \u001b[0;34m=\u001b[0m \u001b[0mpca\u001b[0m\u001b[0;34m.\u001b[0m\u001b[0mtransform\u001b[0m\u001b[0;34m(\u001b[0m\u001b[0mcluster\u001b[0m\u001b[0;34m.\u001b[0m\u001b[0mcluster_centers_\u001b[0m\u001b[0;34m)\u001b[0m\u001b[0;34m\u001b[0m\u001b[0m\n\u001b[0m\u001b[1;32m      4\u001b[0m \u001b[0mcluster_centers\u001b[0m \u001b[0;34m=\u001b[0m \u001b[0mpd\u001b[0m\u001b[0;34m.\u001b[0m\u001b[0mDataFrame\u001b[0m\u001b[0;34m(\u001b[0m\u001b[0mcluster_centers\u001b[0m\u001b[0;34m,\u001b[0m \u001b[0mcolumns\u001b[0m\u001b[0;34m=\u001b[0m\u001b[0;34m[\u001b[0m\u001b[0;34m'x'\u001b[0m\u001b[0;34m,\u001b[0m \u001b[0;34m'y'\u001b[0m\u001b[0;34m]\u001b[0m\u001b[0;34m)\u001b[0m\u001b[0;34m\u001b[0m\u001b[0m\n\u001b[1;32m      5\u001b[0m \u001b[0mcluster_centers\u001b[0m\u001b[0;34m[\u001b[0m\u001b[0;34m'segment'\u001b[0m\u001b[0;34m]\u001b[0m \u001b[0;34m=\u001b[0m \u001b[0mrange\u001b[0m\u001b[0;34m(\u001b[0m\u001b[0;36m0\u001b[0m\u001b[0;34m,\u001b[0m \u001b[0mlen\u001b[0m\u001b[0;34m(\u001b[0m\u001b[0mcluster_centers\u001b[0m\u001b[0;34m)\u001b[0m\u001b[0;34m)\u001b[0m\u001b[0;34m\u001b[0m\u001b[0m\n",
      "\u001b[0;31mNameError\u001b[0m: name 'cluster' is not defined"
     ]
    },
    {
     "data": {
      "image/png": "[encoded data removed]",
      "text/plain": [
       "<matplotlib.figure.Figure at 0x10ec211d0>"
      ]
     },
     "metadata": {},
     "output_type": "display_data"
    }
   ],
   "source": [
    "ax = plt.scatter(data=df, x='x', y='y', c='segment')\n",
    "\n",
    "cluster_centers = pca.transform(cluster.cluster_centers_)\n",
    "cluster_centers = pd.DataFrame(cluster_centers, columns=['x', 'y'])\n",
    "cluster_centers['segment'] = range(0, len(cluster_centers))\n",
    "\n",
    "plt.plot(data=cluster_centers)\n",
    "\n",
    "plt.show()"
   ]
  },
  {
   "cell_type": "code",
   "execution_count": null,
   "metadata": {
    "collapsed": true
   },
   "outputs": [],
   "source": []
  }
 ],
 "metadata": {
  "kernelspec": {
   "display_name": "Python 3",
   "language": "python",
   "name": "python3"
  },
  "widgets": {
   "application/vnd.jupyter.widget-state+json": {
    "state": {
     "034527c5c29b46ed8a42d19d8a91cb7c": {
      "model_module": "jupyter-js-widgets",
      "model_module_version": "~2.1.4",
      "model_name": "LayoutModel",
      "state": {
       "_model_module_version": "~2.1.4",
       "_view_module_version": "~2.1.4"
      }
     },
     "043990b30ee74370a294bfea3541e687": {
      "model_module": "jupyter-js-widgets",
      "model_module_version": "*",
      "model_name": "DOMWidgetModel",
      "state": {
       "_addlayer": "",
       "_arcgis_url": "http://commteamretail.maps.arcgis.com/sharing/rest/content/items",
       "_extent": "{\"ymax\": 61.36121571300005, \"xmin\": -121.258801384, \"ymin\": 17.389215713000045, \"xmax\": -77.28680138399999}",
       "_jsextent": "{\"type\":\"extent\",\"xmin\":-15586207.235045923,\"ymin\":2702198.991291079,\"xmax\":-5704428.218340962,\"ymax\":6615774.839491064,\"spatialReference\":{\"wkid\":102100,\"latestWkid\":3857}}",
       "_model_name": "DOMWidgetModel",
       "_swipe_div": "swipeDivPWU47D",
       "_token_info": "{\"password\": \"K3mos@be\", \"tokenurl\": \"https://commteamretail.maps.arcgis.com/sharing/rest/generateToken\", \"server\": \"https://commteamretail.maps.arcgis.com/sharing/rest/\", \"username\": \"jmccune_retail\"}",
       "_view_module": "mapview",
       "_view_name": "MapView",
       "basemap": "gray",
       "center": [
        0,
        0
       ],
       "end_time": "",
       "id": "",
       "layout": "IPY_MODEL_034527c5c29b46ed8a42d19d8a91cb7c",
       "mode": "{\"symbol\": {\"type\": \"esriSMS\", \"style\": \"esriSMSCircle\", \"size\": 8}, \"attributes\": null, \"geometry\": {\"y\": 40.80850000000009, \"x\": -73.29409999999991}, \"infoTemplate\": null}",
       "start_time": "",
       "width": "100%",
       "zoom": 2
      }
     },
     "16b145d9962d4b66999e928435e39161": {
      "model_module": "jupyter-js-widgets",
      "model_module_version": "*",
      "model_name": "DOMWidgetModel",
      "state": {
       "_addlayer": "",
       "_arcgis_url": "http://commteamretail.maps.arcgis.com/sharing/rest/content/items",
       "_extent": "{\"ymax\": 61.36121571300005, \"xmin\": -121.258801384, \"ymin\": 17.389215713000045, \"xmax\": -77.28680138399999}",
       "_jsextent": "",
       "_model_name": "DOMWidgetModel",
       "_swipe_div": "swipeDivTDRFYL",
       "_token_info": "{\"password\": \"K3mos@be\", \"tokenurl\": \"https://commteamretail.maps.arcgis.com/sharing/rest/generateToken\", \"server\": \"https://commteamretail.maps.arcgis.com/sharing/rest/\", \"username\": \"jmccune_retail\"}",
       "_view_module": "mapview",
       "_view_name": "MapView",
       "basemap": "gray",
       "center": [
        0,
        0
       ],
       "end_time": "",
       "id": "",
       "layout": "IPY_MODEL_ad95a0ad42054b8284330758e7133d74",
       "mode": "navigate",
       "start_time": "",
       "width": "100%",
       "zoom": 2
      }
     },
     "23fa74f54f1d46e2a7c5d8533d0334f2": {
      "model_module": "jupyter-js-widgets",
      "model_module_version": "~2.1.4",
      "model_name": "LayoutModel",
      "state": {
       "_model_module_version": "~2.1.4",
       "_view_module_version": "~2.1.4"
      }
     },
     "26cbc76a0b124ef98b05d4eec49b7218": {
      "model_module": "jupyter-js-widgets",
      "model_module_version": "~2.1.4",
      "model_name": "LayoutModel",
      "state": {
       "_model_module_version": "~2.1.4",
       "_view_module_version": "~2.1.4"
      }
     },
     "2816869997aa4a10a2d973215d6f8e7d": {
      "model_module": "jupyter-js-widgets",
      "model_module_version": "~2.1.4",
      "model_name": "LayoutModel",
      "state": {
       "_model_module_version": "~2.1.4",
       "_view_module_version": "~2.1.4"
      }
     },
     "2d57cc34409d414aaaebc19002e3c143": {
      "model_module": "jupyter-js-widgets",
      "model_module_version": "~2.1.4",
      "model_name": "LayoutModel",
      "state": {
       "_model_module_version": "~2.1.4",
       "_view_module_version": "~2.1.4"
      }
     },
     "34d1704171034c0b95ef917174a8da8c": {
      "model_module": "jupyter-js-widgets",
      "model_module_version": "~2.1.4",
      "model_name": "LayoutModel",
      "state": {
       "_model_module_version": "~2.1.4",
       "_view_module_version": "~2.1.4"
      }
     },
     "3e366a20bdc34a25953b83318593403b": {
      "model_module": "jupyter-js-widgets",
      "model_module_version": "*",
      "model_name": "DOMWidgetModel",
      "state": {
       "_addlayer": "",
       "_arcgis_url": "http://commteamretail.maps.arcgis.com/sharing/rest/content/items",
       "_extent": "",
       "_jsextent": "",
       "_model_name": "DOMWidgetModel",
       "_swipe_div": "swipeDivPKPXIJ",
       "_token_info": "{\"password\": \"K3mos@be\", \"tokenurl\": \"https://commteamretail.maps.arcgis.com/sharing/rest/generateToken\", \"server\": \"https://commteamretail.maps.arcgis.com/sharing/rest/\", \"username\": \"jmccune_retail\"}",
       "_view_module": "mapview",
       "_view_name": "MapView",
       "basemap": "gray",
       "center": [
        0,
        0
       ],
       "end_time": "",
       "id": "",
       "layout": "IPY_MODEL_4731eeadfebe4a44a300ef6f36e39176",
       "mode": "{\"symbol\": null, \"attributes\": {\"VAL100K_CY\": 195, \"ASSCDEG_CY\": 6257, \"SALESVOL\": 45232, \"NOHS_CY\": 5840, \"VAL150K_CY\": 540, \"INDCONS_CY\": 3723, \"MEDNW_CY\": 410510, \"HINC75_CY\": 4459, \"AVGHINC_CY\": 134894, \"INDRTTR_CY\": 6614, \"NW100_CY\": 1903, \"BLACK_CY\": 9713, \"POPDENS_CY\": 2708.0, \"MARRIED_CY\": 48440, \"TOTPOP_CY\": 112700, \"BACHDEG_CY\": 15055, \"NW0_CY\": 2877, \"INDHLTH_CY\": 8972, \"INDMGMT_CY\": 3, \"VAL1M_CY\": 2011, \"AVGVAL_CY\": 544021, \"DI100_CY\": 5283, \"AMERIND_CY\": 628, \"AVGFMSZ_CY\": 3.63, \"OCCFOOD_CY\": 2508, \"OCCPROT_CY\": 1624, \"AGGNW_CY\": 45344032406, \"HINC0_CY\": 1236, \"NHSPOTH_CY\": 287, \"WIDOWED_CY\": 4539, \"VAL250K_CY\": 1955, \"INDTRAN_CY\": 2635, \"OCCFARM_CY\": 37, \"DIVINDX_CY\": 72.3, \"MEDDI_CY\": 70264, \"OCCCONS_CY\": 2765, \"NONHISP_CY\": 77052, \"INDINFO_CY\": 1319, \"HISPASN_CY\": 126, \"HISPPI_CY\": 11, \"DI35_CY\": 3909, \"NHSPASN_CY\": 7616, \"DI0_CY\": 1540, \"HISPWHT_CY\": 18702, \"HISPPOP_CY\": 35648, \"OCCMGMT_CY\": 5699, \"HINC35_CY\": 2644, \"INDEDUC_CY\": 6181, \"HISPAI_CY\": 488, \"HINC15_CY\": 1227, \"OCCHLTH_CY\": 1738, \"ASIAN_CY\": 7742, \"NHSPMLT_CY\": 1680, \"AVGHHSZ_CY\": 3.43, \"FAMGRW10CY\": 0.13, \"TOTHU_CY\": 33688, \"INDRE_CY\": 973, \"OCCSSRV_CY\": 687, \"NEVMARR_CY\": 31005, \"NHSPPI_CY\": 18, \"VAL50K_CY\": 127, \"OCCTRAN_CY\": 3220, \"HHGRW10CY\": 0.2, \"HISPMLT_CY\": 2306, \"NHSPBLK_CY\": 8220, \"OCCENT_CY\": 928, \"GQPOP_CY\": 1808, \"NW150_CY\": 3085, \"NW500_CY\": 14821, \"TOTHH_CY\": 32376, \"INDFOOD_CY\": 3118, \"HSGRAD_CY\": 18457, \"AVGNW_CY\": 1400588, \"STREET\": \"HENRY ST\", \"OCCBLDG_CY\": 2565, \"DIVORCD_CY\": 6162, \"INDPUBL_CY\": 2204, \"OCCSSCI_CY\": 326, \"GRADDEG_CY\": 11940, \"INDFIN_CY\": 3318, \"SOMEHS_CY\": 4268, \"RACE2UP_CY\": 3986, \"INDUTIL_CY\": 303, \"NW250_CY\": 5386, \"DI75_CY\": 5320, \"VAL0_CY\": 381, \"PACIFIC_CY\": 29, \"VAL750K_CY\": 3259, \"HINC200_CY\": 5276, \"INDMANU_CY\": 6073, \"OTHRACE_CY\": 12808, \"VAL300K_CY\": 5382, \"NW75_CY\": 1091, \"UNEMPRT_CY\": 5.3, \"OCCBUS_CY\": 2900, \"DI50_CY\": 7629, \"OCCCOMP_CY\": 690, \"OCCLEGL_CY\": 925, \"OCCEDUC_CY\": 3987, \"RENTER_CY\": 5576, \"SIC\": \"531102\", \"OCCADMN_CY\": 7034, \"CIVLBFR_CY\": 60562, \"INDAGRI_CY\": 113, \"UNEMP_CY\": 3194, \"INDOTSV_CY\": 2342, \"FAMHH_CY\": 26837, \"PCI_CY\": 39160, \"LOCNUM\": \"404480677\", \"NW50_CY\": 1375, \"NW15_CY\": 1094, \"DI200_CY\": 1803, \"ZIP4\": \"5423\", \"OBJECTID\": 1715, \"ZIP\": \"11725\", \"OCCHTCH_CY\": 4273, \"INDMIN_CY\": 0, \"HINC150_CY\": 4208, \"OCCARCH_CY\": 1008, \"VAL200K_CY\": 1243, \"EMP_CY\": 57367, \"HHPOP_CY\": 110893, \"DI150_CY\": 2754, \"VAL400K_CY\": 5380, \"FAMPOP_CY\": 97496, \"HINC25_CY\": 1648, \"INDADMN_CY\": 1930, \"MEDVAL_CY\": 466496, \"OCCPERS_CY\": 1711, \"AGGDI_CY\": 2903952022, \"INDWHTR_CY\": 2328, \"CITY\": \"COMMACK\", \"STATE\": \"NY\", \"SQFTCODE\": \"D\", \"VACANT_CY\": 1312, \"NHSPWHT_CY\": 59092, \"HINC50_CY\": 4654, \"VAL500K_CY\": 6328, \"MINORITYCY\": 53608, \"SMCOLL_CY\": 12004, \"HINC100_CY\": 7022, \"OCCPROD_CY\": 3911, \"NHSPAI_CY\": 140, \"INDARTS_CY\": 871, \"segment\": 3, \"GED_CY\": 1645, \"DI15_CY\": 1659, \"OWNER_CY\": 26801, \"CONAME\": \"TARGET\", \"NAICS\": \"45211101\", \"WHITE_CY\": 77794, \"AVGDI_CY\": 89697, \"HISPBLK_CY\": 1493, \"MEDHINC_CY\": 101438, \"OCCSALE_CY\": 6787, \"HISPOTH_CY\": 12522, \"DI25_CY\": 2478, \"INDTECH_CY\": 4348, \"OCCMAIN_CY\": 2044, \"POPGRW10CY\": 0.23, \"NW35_CY\": 743}, \"geometry\": {\"y\": 37.32310000000005, \"x\": -122.03619999999995}, \"infoTemplate\": null}",
       "start_time": "",
       "width": "100%",
       "zoom": 2
      }
     },
     "4731eeadfebe4a44a300ef6f36e39176": {
      "model_module": "jupyter-js-widgets",
      "model_module_version": "~2.1.4",
      "model_name": "LayoutModel",
      "state": {
       "_model_module_version": "~2.1.4",
       "_view_module_version": "~2.1.4"
      }
     },
     "4c3f60355e7f4536b8b59daeda8129ec": {
      "model_module": "jupyter-js-widgets",
      "model_module_version": "~2.1.4",
      "model_name": "LayoutModel",
      "state": {
       "_model_module_version": "~2.1.4",
       "_view_module_version": "~2.1.4"
      }
     },
     "603c8f029e5a403e8f61337e3146c571": {
      "model_module": "jupyter-js-widgets",
      "model_module_version": "~2.1.4",
      "model_name": "LayoutModel",
      "state": {
       "_model_module_version": "~2.1.4",
       "_view_module_version": "~2.1.4"
      }
     },
     "6b629374f05740f992b684ff4ca75363": {
      "model_module": "jupyter-js-widgets",
      "model_module_version": "~2.1.4",
      "model_name": "LayoutModel",
      "state": {
       "_model_module_version": "~2.1.4",
       "_view_module_version": "~2.1.4"
      }
     },
     "7027cd0cf4c2455baf5ca057e56ccad1": {
      "model_module": "jupyter-js-widgets",
      "model_module_version": "*",
      "model_name": "DOMWidgetModel",
      "state": {
       "_addlayer": "",
       "_arcgis_url": "http://commteamretail.maps.arcgis.com/sharing/rest/content/items",
       "_extent": "",
       "_jsextent": "",
       "_model_name": "DOMWidgetModel",
       "_swipe_div": "swipeDivKXF6NW",
       "_token_info": "{\"password\": \"K3mos@be\", \"tokenurl\": \"https://commteamretail.maps.arcgis.com/sharing/rest/generateToken\", \"server\": \"https://commteamretail.maps.arcgis.com/sharing/rest/\", \"username\": \"jmccune_retail\"}",
       "_view_module": "mapview",
       "_view_name": "MapView",
       "basemap": "gray",
       "center": [
        -95.304033,
        37.149383687348454
       ],
       "end_time": "",
       "id": "",
       "layout": "IPY_MODEL_87728369a13a4bda8f533496d11a6a39",
       "mode": "navigate",
       "start_time": "",
       "width": "100%",
       "zoom": 7
      }
     },
     "768b85e3d45f49c58b699ec7f419f0ad": {
      "model_module": "jupyter-js-widgets",
      "model_module_version": "*",
      "model_name": "DOMWidgetModel",
      "state": {
       "_addlayer": "",
       "_arcgis_url": "http://commteamretail.maps.arcgis.com/sharing/rest/content/items",
       "_extent": "{\"ymax\": 40.078070000000025, \"xmin\": -98.82978999999995, \"ymin\": 39.578070000000025, \"xmax\": -98.32978999999995}",
       "_jsextent": "{\"type\":\"extent\",\"xmin\":-12209074.40239577,\"ymin\":4351858.200316193,\"xmax\":-9738629.64821953,\"ymax\":5330252.162366189,\"spatialReference\":{\"wkid\":102100,\"latestWkid\":3857}}",
       "_model_name": "DOMWidgetModel",
       "_swipe_div": "swipeDivFTTTQV",
       "_token_info": "{\"password\": \"K3mos@be\", \"tokenurl\": \"https://commteamretail.maps.arcgis.com/sharing/rest/generateToken\", \"server\": \"https://commteamretail.maps.arcgis.com/sharing/rest/\", \"username\": \"jmccune_retail\"}",
       "_view_module": "mapview",
       "_view_name": "MapView",
       "basemap": "gray",
       "center": [
        0,
        0
       ],
       "end_time": "",
       "id": "",
       "layout": "IPY_MODEL_2d57cc34409d414aaaebc19002e3c143",
       "mode": "navigate",
       "start_time": "",
       "width": "100%",
       "zoom": 2
      }
     },
     "7d5d9bb989424dbb80681ecb3fac8443": {
      "model_module": "jupyter-js-widgets",
      "model_module_version": "*",
      "model_name": "DOMWidgetModel",
      "state": {
       "_addlayer": "",
       "_arcgis_url": "http://commteamretail.maps.arcgis.com/sharing/rest/content/items",
       "_extent": "{\"ymax\": 61.36121571300005, \"xmin\": -121.258801384, \"ymin\": 17.389215713000045, \"xmax\": -77.28680138399999}",
       "_jsextent": "",
       "_model_name": "DOMWidgetModel",
       "_swipe_div": "swipeDivL8GG6A",
       "_token_info": "{\"password\": \"K3mos@be\", \"tokenurl\": \"https://commteamretail.maps.arcgis.com/sharing/rest/generateToken\", \"server\": \"https://commteamretail.maps.arcgis.com/sharing/rest/\", \"username\": \"jmccune_retail\"}",
       "_view_module": "mapview",
       "_view_name": "MapView",
       "basemap": "gray",
       "center": [
        0,
        0
       ],
       "end_time": "",
       "id": "",
       "layout": "IPY_MODEL_6b629374f05740f992b684ff4ca75363",
       "mode": "{\"symbol\": {\"type\": \"esriSMS\", \"style\": \"esriSMSCircle\", \"size\": 8}, \"attributes\": {\"VAL100K_CY\": 195, \"ASSCDEG_CY\": 6257, \"SALESVOL\": 45232, \"NOHS_CY\": 5840, \"VAL150K_CY\": 540, \"INDCONS_CY\": 3723, \"MEDNW_CY\": 410510, \"HINC75_CY\": 4459, \"AVGHINC_CY\": 134894, \"INDRTTR_CY\": 6614, \"NW100_CY\": 1903, \"BLACK_CY\": 9713, \"POPDENS_CY\": 2708.0, \"MARRIED_CY\": 48440, \"TOTPOP_CY\": 112700, \"BACHDEG_CY\": 15055, \"NW0_CY\": 2877, \"INDHLTH_CY\": 8972, \"INDMGMT_CY\": 3, \"VAL1M_CY\": 2011, \"AVGVAL_CY\": 544021, \"DI100_CY\": 5283, \"AMERIND_CY\": 628, \"AVGFMSZ_CY\": 3.63, \"OCCFOOD_CY\": 2508, \"OCCPROT_CY\": 1624, \"AGGNW_CY\": 45344032406, \"HINC0_CY\": 1236, \"NHSPOTH_CY\": 287, \"WIDOWED_CY\": 4539, \"VAL250K_CY\": 1955, \"INDTRAN_CY\": 2635, \"OCCFARM_CY\": 37, \"DIVINDX_CY\": 72.3, \"MEDDI_CY\": 70264, \"OCCCONS_CY\": 2765, \"NONHISP_CY\": 77052, \"INDINFO_CY\": 1319, \"HISPASN_CY\": 126, \"HISPPI_CY\": 11, \"DI35_CY\": 3909, \"NHSPASN_CY\": 7616, \"DI0_CY\": 1540, \"HISPWHT_CY\": 18702, \"HISPPOP_CY\": 35648, \"OCCMGMT_CY\": 5699, \"HINC35_CY\": 2644, \"INDEDUC_CY\": 6181, \"HISPAI_CY\": 488, \"HINC15_CY\": 1227, \"OCCHLTH_CY\": 1738, \"ASIAN_CY\": 7742, \"NHSPMLT_CY\": 1680, \"AVGHHSZ_CY\": 3.43, \"FAMGRW10CY\": 0.13, \"TOTHU_CY\": 33688, \"INDRE_CY\": 973, \"OCCSSRV_CY\": 687, \"NEVMARR_CY\": 31005, \"NHSPPI_CY\": 18, \"VAL50K_CY\": 127, \"OCCTRAN_CY\": 3220, \"HHGRW10CY\": 0.2, \"HISPMLT_CY\": 2306, \"NHSPBLK_CY\": 8220, \"OCCENT_CY\": 928, \"GQPOP_CY\": 1808, \"NW150_CY\": 3085, \"NW500_CY\": 14821, \"TOTHH_CY\": 32376, \"INDFOOD_CY\": 3118, \"HSGRAD_CY\": 18457, \"AVGNW_CY\": 1400588, \"STREET\": \"HENRY ST\", \"OCCBLDG_CY\": 2565, \"DIVORCD_CY\": 6162, \"INDPUBL_CY\": 2204, \"OCCSSCI_CY\": 326, \"GRADDEG_CY\": 11940, \"INDFIN_CY\": 3318, \"SOMEHS_CY\": 4268, \"RACE2UP_CY\": 3986, \"INDUTIL_CY\": 303, \"NW250_CY\": 5386, \"DI75_CY\": 5320, \"VAL0_CY\": 381, \"PACIFIC_CY\": 29, \"VAL750K_CY\": 3259, \"HINC200_CY\": 5276, \"INDMANU_CY\": 6073, \"OTHRACE_CY\": 12808, \"VAL300K_CY\": 5382, \"NW75_CY\": 1091, \"UNEMPRT_CY\": 5.3, \"OCCBUS_CY\": 2900, \"DI50_CY\": 7629, \"OCCCOMP_CY\": 690, \"OCCLEGL_CY\": 925, \"OCCEDUC_CY\": 3987, \"RENTER_CY\": 5576, \"SIC\": \"531102\", \"OCCADMN_CY\": 7034, \"CIVLBFR_CY\": 60562, \"INDAGRI_CY\": 113, \"UNEMP_CY\": 3194, \"INDOTSV_CY\": 2342, \"FAMHH_CY\": 26837, \"PCI_CY\": 39160, \"LOCNUM\": \"404480677\", \"NW50_CY\": 1375, \"NW15_CY\": 1094, \"DI200_CY\": 1803, \"ZIP4\": \"5423\", \"OBJECTID\": 1715, \"ZIP\": \"11725\", \"OCCHTCH_CY\": 4273, \"INDMIN_CY\": 0, \"HINC150_CY\": 4208, \"OCCARCH_CY\": 1008, \"VAL200K_CY\": 1243, \"EMP_CY\": 57367, \"HHPOP_CY\": 110893, \"DI150_CY\": 2754, \"VAL400K_CY\": 5380, \"FAMPOP_CY\": 97496, \"HINC25_CY\": 1648, \"INDADMN_CY\": 1930, \"MEDVAL_CY\": 466496, \"OCCPERS_CY\": 1711, \"AGGDI_CY\": 2903952022, \"INDWHTR_CY\": 2328, \"CITY\": \"COMMACK\", \"STATE\": \"NY\", \"SQFTCODE\": \"D\", \"VACANT_CY\": 1312, \"NHSPWHT_CY\": 59092, \"HINC50_CY\": 4654, \"VAL500K_CY\": 6328, \"MINORITYCY\": 53608, \"SMCOLL_CY\": 12004, \"HINC100_CY\": 7022, \"OCCPROD_CY\": 3911, \"NHSPAI_CY\": 140, \"INDARTS_CY\": 871, \"segment\": 3, \"GED_CY\": 1645, \"DI15_CY\": 1659, \"OWNER_CY\": 26801, \"CONAME\": \"TARGET\", \"NAICS\": \"45211101\", \"WHITE_CY\": 77794, \"AVGDI_CY\": 89697, \"HISPBLK_CY\": 1493, \"MEDHINC_CY\": 101438, \"OCCSALE_CY\": 6787, \"HISPOTH_CY\": 12522, \"DI25_CY\": 2478, \"INDTECH_CY\": 4348, \"OCCMAIN_CY\": 2044, \"POPGRW10CY\": 0.23, \"NW35_CY\": 743}, \"geometry\": {\"y\": 4484238.960603427, \"x\": -13585007.642346086}, \"infoTemplate\": null}",
       "start_time": "",
       "width": "100%",
       "zoom": 2
      }
     },
     "8435727dc9484848b8abe076a131df51": {
      "model_module": "jupyter-js-widgets",
      "model_module_version": "*",
      "model_name": "DOMWidgetModel",
      "state": {
       "_addlayer": "",
       "_arcgis_url": "http://commteamretail.maps.arcgis.com/sharing/rest/content/items",
       "_extent": "",
       "_jsextent": "",
       "_model_name": "DOMWidgetModel",
       "_swipe_div": "swipeDivWYOWR2",
       "_token_info": "{\"username\": \"jmccune_retail\", \"password\": \"K3mos@be\", \"tokenurl\": \"https://commteamretail.maps.arcgis.com/sharing/rest/generateToken\", \"server\": \"https://commteamretail.maps.arcgis.com/sharing/rest/\"}",
       "_view_module": "mapview",
       "_view_name": "MapView",
       "basemap": "gray",
       "center": [
        -95.304033,
        37.149383687348454
       ],
       "end_time": "",
       "id": "",
       "layout": "IPY_MODEL_c1f1487114f2462fa91e2f66787ce003",
       "mode": "{\"geometry\": {\"x\": -73.29409999999991, \"y\": 40.80850000000009}, \"infoTemplate\": null, \"attributes\": null, \"symbol\": {\"type\": \"esriSMS\", \"size\": 4, \"color\": [0, 255, 0, 255], \"style\": \"esriSMSCircle\"}}",
       "start_time": "",
       "width": "100%",
       "zoom": 4
      }
     },
     "87728369a13a4bda8f533496d11a6a39": {
      "model_module": "jupyter-js-widgets",
      "model_module_version": "~2.1.4",
      "model_name": "LayoutModel",
      "state": {
       "_model_module_version": "~2.1.4",
       "_view_module_version": "~2.1.4"
      }
     },
     "8fdd2c950a344580b67bbd30791ed897": {
      "model_module": "jupyter-js-widgets",
      "model_module_version": "*",
      "model_name": "DOMWidgetModel",
      "state": {
       "_addlayer": "",
       "_arcgis_url": "http://commteamretail.maps.arcgis.com/sharing/rest/content/items",
       "_extent": "",
       "_jsextent": "",
       "_model_name": "DOMWidgetModel",
       "_swipe_div": "swipeDivWLJCEO",
       "_token_info": "{\"password\": \"K3mos@be\", \"tokenurl\": \"https://commteamretail.maps.arcgis.com/sharing/rest/generateToken\", \"server\": \"https://commteamretail.maps.arcgis.com/sharing/rest/\", \"username\": \"jmccune_retail\"}",
       "_view_module": "mapview",
       "_view_name": "MapView",
       "basemap": "gray",
       "center": [
        -95.304033,
        37.149383687348454
       ],
       "end_time": "",
       "id": "",
       "layout": "IPY_MODEL_cc0e35b6faaf4d9baf27f37ba76cc6d0",
       "mode": "navigate",
       "start_time": "",
       "width": "100%",
       "zoom": 8
      }
     },
     "98f9c211e9964058bdd6128a57c0d868": {
      "model_module": "jupyter-js-widgets",
      "model_module_version": "*",
      "model_name": "DOMWidgetModel",
      "state": {
       "_addlayer": "",
       "_arcgis_url": "http://commteamretail.maps.arcgis.com/sharing/rest/content/items",
       "_extent": "",
       "_jsextent": "",
       "_model_name": "DOMWidgetModel",
       "_swipe_div": "swipeDiv89R3FR",
       "_token_info": "{\"password\": \"K3mos@be\", \"tokenurl\": \"https://commteamretail.maps.arcgis.com/sharing/rest/generateToken\", \"server\": \"https://commteamretail.maps.arcgis.com/sharing/rest/\", \"username\": \"jmccune_retail\"}",
       "_view_module": "mapview",
       "_view_name": "MapView",
       "basemap": "gray",
       "center": [
        0,
        0
       ],
       "end_time": "",
       "id": "",
       "layout": "IPY_MODEL_db487a0edfa7485c989011a5eec1dc80",
       "mode": "{\"symbol\": null, \"attributes\": {\"VAL100K_CY\": 195, \"ASSCDEG_CY\": 6257, \"SALESVOL\": 45232, \"NOHS_CY\": 5840, \"VAL150K_CY\": 540, \"INDCONS_CY\": 3723, \"MEDNW_CY\": 410510, \"HINC75_CY\": 4459, \"AVGHINC_CY\": 134894, \"INDRTTR_CY\": 6614, \"NW100_CY\": 1903, \"BLACK_CY\": 9713, \"POPDENS_CY\": 2708.0, \"MARRIED_CY\": 48440, \"TOTPOP_CY\": 112700, \"BACHDEG_CY\": 15055, \"NW0_CY\": 2877, \"INDHLTH_CY\": 8972, \"INDMGMT_CY\": 3, \"VAL1M_CY\": 2011, \"AVGVAL_CY\": 544021, \"DI100_CY\": 5283, \"AMERIND_CY\": 628, \"AVGFMSZ_CY\": 3.63, \"OCCFOOD_CY\": 2508, \"OCCPROT_CY\": 1624, \"AGGNW_CY\": 45344032406, \"HINC0_CY\": 1236, \"NHSPOTH_CY\": 287, \"WIDOWED_CY\": 4539, \"VAL250K_CY\": 1955, \"INDTRAN_CY\": 2635, \"OCCFARM_CY\": 37, \"DIVINDX_CY\": 72.3, \"MEDDI_CY\": 70264, \"OCCCONS_CY\": 2765, \"NONHISP_CY\": 77052, \"INDINFO_CY\": 1319, \"HISPASN_CY\": 126, \"HISPPI_CY\": 11, \"DI35_CY\": 3909, \"NHSPASN_CY\": 7616, \"DI0_CY\": 1540, \"HISPWHT_CY\": 18702, \"HISPPOP_CY\": 35648, \"OCCMGMT_CY\": 5699, \"HINC35_CY\": 2644, \"INDEDUC_CY\": 6181, \"HISPAI_CY\": 488, \"HINC15_CY\": 1227, \"OCCHLTH_CY\": 1738, \"ASIAN_CY\": 7742, \"NHSPMLT_CY\": 1680, \"AVGHHSZ_CY\": 3.43, \"FAMGRW10CY\": 0.13, \"TOTHU_CY\": 33688, \"INDRE_CY\": 973, \"OCCSSRV_CY\": 687, \"NEVMARR_CY\": 31005, \"NHSPPI_CY\": 18, \"VAL50K_CY\": 127, \"OCCTRAN_CY\": 3220, \"HHGRW10CY\": 0.2, \"HISPMLT_CY\": 2306, \"NHSPBLK_CY\": 8220, \"OCCENT_CY\": 928, \"GQPOP_CY\": 1808, \"NW150_CY\": 3085, \"NW500_CY\": 14821, \"TOTHH_CY\": 32376, \"INDFOOD_CY\": 3118, \"HSGRAD_CY\": 18457, \"AVGNW_CY\": 1400588, \"STREET\": \"HENRY ST\", \"OCCBLDG_CY\": 2565, \"DIVORCD_CY\": 6162, \"INDPUBL_CY\": 2204, \"OCCSSCI_CY\": 326, \"GRADDEG_CY\": 11940, \"INDFIN_CY\": 3318, \"SOMEHS_CY\": 4268, \"RACE2UP_CY\": 3986, \"INDUTIL_CY\": 303, \"NW250_CY\": 5386, \"DI75_CY\": 5320, \"VAL0_CY\": 381, \"PACIFIC_CY\": 29, \"VAL750K_CY\": 3259, \"HINC200_CY\": 5276, \"INDMANU_CY\": 6073, \"OTHRACE_CY\": 12808, \"VAL300K_CY\": 5382, \"NW75_CY\": 1091, \"UNEMPRT_CY\": 5.3, \"OCCBUS_CY\": 2900, \"DI50_CY\": 7629, \"OCCCOMP_CY\": 690, \"OCCLEGL_CY\": 925, \"OCCEDUC_CY\": 3987, \"RENTER_CY\": 5576, \"SIC\": \"531102\", \"OCCADMN_CY\": 7034, \"CIVLBFR_CY\": 60562, \"INDAGRI_CY\": 113, \"UNEMP_CY\": 3194, \"INDOTSV_CY\": 2342, \"FAMHH_CY\": 26837, \"PCI_CY\": 39160, \"LOCNUM\": \"404480677\", \"NW50_CY\": 1375, \"NW15_CY\": 1094, \"DI200_CY\": 1803, \"ZIP4\": \"5423\", \"OBJECTID\": 1715, \"ZIP\": \"11725\", \"OCCHTCH_CY\": 4273, \"INDMIN_CY\": 0, \"HINC150_CY\": 4208, \"OCCARCH_CY\": 1008, \"VAL200K_CY\": 1243, \"EMP_CY\": 57367, \"HHPOP_CY\": 110893, \"DI150_CY\": 2754, \"VAL400K_CY\": 5380, \"FAMPOP_CY\": 97496, \"HINC25_CY\": 1648, \"INDADMN_CY\": 1930, \"MEDVAL_CY\": 466496, \"OCCPERS_CY\": 1711, \"AGGDI_CY\": 2903952022, \"INDWHTR_CY\": 2328, \"CITY\": \"COMMACK\", \"STATE\": \"NY\", \"SQFTCODE\": \"D\", \"VACANT_CY\": 1312, \"NHSPWHT_CY\": 59092, \"HINC50_CY\": 4654, \"VAL500K_CY\": 6328, \"MINORITYCY\": 53608, \"SMCOLL_CY\": 12004, \"HINC100_CY\": 7022, \"OCCPROD_CY\": 3911, \"NHSPAI_CY\": 140, \"INDARTS_CY\": 871, \"segment\": 3, \"GED_CY\": 1645, \"DI15_CY\": 1659, \"OWNER_CY\": 26801, \"CONAME\": \"TARGET\", \"NAICS\": \"45211101\", \"WHITE_CY\": 77794, \"AVGDI_CY\": 89697, \"HISPBLK_CY\": 1493, \"MEDHINC_CY\": 101438, \"OCCSALE_CY\": 6787, \"HISPOTH_CY\": 12522, \"DI25_CY\": 2478, \"INDTECH_CY\": 4348, \"OCCMAIN_CY\": 2044, \"POPGRW10CY\": 0.23, \"NW35_CY\": 743}, \"geometry\": {\"y\": 4484238.960603427, \"x\": -13585007.642346086}, \"infoTemplate\": null}",
       "start_time": "",
       "width": "100%",
       "zoom": 2
      }
     },
     "a9ad71766ab54fb1a1f27f5deb72b8ca": {
      "model_module": "jupyter-js-widgets",
      "model_module_version": "*",
      "model_name": "DOMWidgetModel",
      "state": {
       "_addlayer": "",
       "_arcgis_url": "http://commteamretail.maps.arcgis.com/sharing/rest/content/items",
       "_extent": "",
       "_jsextent": "",
       "_model_name": "DOMWidgetModel",
       "_swipe_div": "swipeDivMPCLIY",
       "_token_info": "{\"password\": \"K3mos@be\", \"tokenurl\": \"https://commteamretail.maps.arcgis.com/sharing/rest/generateToken\", \"server\": \"https://commteamretail.maps.arcgis.com/sharing/rest/\", \"username\": \"jmccune_retail\"}",
       "_view_module": "mapview",
       "_view_name": "MapView",
       "basemap": "gray",
       "center": [
        -95.304033,
        37.149383687348454
       ],
       "end_time": "",
       "id": "",
       "layout": "IPY_MODEL_2816869997aa4a10a2d973215d6f8e7d",
       "mode": "{\"symbol\": {\"type\": \"esriSMS\", \"style\": \"esriSMSCircle\", \"size\": 4}, \"attributes\": null, \"geometry\": {\"y\": 44.84110000000006, \"x\": -68.74109999999993}, \"infoTemplate\": null}",
       "start_time": "",
       "width": "100%",
       "zoom": 4
      }
     },
     "a9d36519df3c4817859048c7821742cf": {
      "model_module": "jupyter-js-widgets",
      "model_module_version": "*",
      "model_name": "DOMWidgetModel",
      "state": {
       "_addlayer": "",
       "_arcgis_url": "http://commteamretail.maps.arcgis.com/sharing/rest/content/items",
       "_extent": "{\"ymax\": 37.15038368734845, \"xmin\": -95.30503300000001, \"ymin\": 37.148383687348456, \"xmax\": -95.303033}",
       "_jsextent": "",
       "_model_name": "DOMWidgetModel",
       "_swipe_div": "swipeDivG18GCL",
       "_token_info": "{\"password\": \"K3mos@be\", \"tokenurl\": \"https://commteamretail.maps.arcgis.com/sharing/rest/generateToken\", \"server\": \"https://commteamretail.maps.arcgis.com/sharing/rest/\", \"username\": \"jmccune_retail\"}",
       "_view_module": "mapview",
       "_view_name": "MapView",
       "basemap": "gray",
       "center": [
        0,
        0
       ],
       "end_time": "",
       "id": "",
       "layout": "IPY_MODEL_d4101841e9784939ab9f45c881ca548b",
       "mode": "navigate",
       "start_time": "",
       "width": "100%",
       "zoom": 2
      }
     },
     "ad95a0ad42054b8284330758e7133d74": {
      "model_module": "jupyter-js-widgets",
      "model_module_version": "~2.1.4",
      "model_name": "LayoutModel",
      "state": {
       "_model_module_version": "~2.1.4",
       "_view_module_version": "~2.1.4"
      }
     },
     "afc3345ccf5e4ef39892261f7d5c2e21": {
      "model_module": "jupyter-js-widgets",
      "model_module_version": "*",
      "model_name": "DOMWidgetModel",
      "state": {
       "_addlayer": "",
       "_arcgis_url": "http://commteamretail.maps.arcgis.com/sharing/rest/content/items",
       "_extent": "",
       "_jsextent": "",
       "_model_name": "DOMWidgetModel",
       "_swipe_div": "swipeDiv73NYZ0",
       "_token_info": "{\"tokenurl\": \"https://commteamretail.maps.arcgis.com/sharing/rest/generateToken\", \"password\": \"K3mos@be\", \"server\": \"https://commteamretail.maps.arcgis.com/sharing/rest/\", \"username\": \"jmccune_retail\"}",
       "_view_module": "mapview",
       "_view_name": "MapView",
       "basemap": "gray",
       "center": [
        -95.304033,
        37.149383687348454
       ],
       "end_time": "",
       "id": "",
       "layout": "IPY_MODEL_23fa74f54f1d46e2a7c5d8533d0334f2",
       "mode": "{\"attributes\": null, \"symbol\": {\"size\": 4, \"color\": [0, 255, 0, 255], \"style\": \"esriSMSCircle\", \"type\": \"esriSMS\"}, \"geometry\": {\"y\": 40.80850000000009, \"x\": -73.29409999999991}, \"infoTemplate\": null}",
       "start_time": "",
       "width": "100%",
       "zoom": 4
      }
     },
     "b19f9c654cff4cd3ab5379cfd68ef1e2": {
      "model_module": "jupyter-js-widgets",
      "model_module_version": "*",
      "model_name": "DOMWidgetModel",
      "state": {
       "_addlayer": "",
       "_arcgis_url": "http://commteamretail.maps.arcgis.com/sharing/rest/content/items",
       "_extent": "",
       "_jsextent": "",
       "_model_name": "DOMWidgetModel",
       "_swipe_div": "swipeDivUALDTV",
       "_token_info": "{\"tokenurl\": \"https://commteamretail.maps.arcgis.com/sharing/rest/generateToken\", \"password\": \"K3mos@be\", \"server\": \"https://commteamretail.maps.arcgis.com/sharing/rest/\", \"username\": \"jmccune_retail\"}",
       "_view_module": "mapview",
       "_view_name": "MapView",
       "basemap": "gray",
       "center": [
        -95.304033,
        37.149383687348454
       ],
       "end_time": "",
       "id": "",
       "layout": "IPY_MODEL_603c8f029e5a403e8f61337e3146c571",
       "mode": "{\"attributes\": null, \"symbol\": {\"size\": 4, \"color\": [0, 255, 0, 255], \"style\": \"esriSMSCircle\", \"type\": \"esriSMS\"}, \"geometry\": {\"y\": 40.80850000000009, \"x\": -73.29409999999991}, \"infoTemplate\": null}",
       "start_time": "",
       "width": "100%",
       "zoom": 4
      }
     },
     "b849ccf4ab22424188b9d390c5580278": {
      "model_module": "jupyter-js-widgets",
      "model_module_version": "*",
      "model_name": "DOMWidgetModel",
      "state": {
       "_addlayer": "",
       "_arcgis_url": "http://commteamretail.maps.arcgis.com/sharing/rest/content/items",
       "_extent": "",
       "_jsextent": "",
       "_model_name": "DOMWidgetModel",
       "_swipe_div": "swipeDiv4WELDN",
       "_token_info": "{\"password\": \"K3mos@be\", \"tokenurl\": \"https://commteamretail.maps.arcgis.com/sharing/rest/generateToken\", \"server\": \"https://commteamretail.maps.arcgis.com/sharing/rest/\", \"username\": \"jmccune_retail\"}",
       "_view_module": "mapview",
       "_view_name": "MapView",
       "basemap": "gray",
       "center": [
        -95.304033,
        37.149383687348454
       ],
       "end_time": "",
       "id": "",
       "layout": "IPY_MODEL_f819ef05fe9845568dfdec5e5a1470e7",
       "mode": "navigate",
       "start_time": "",
       "width": "100%",
       "zoom": 10
      }
     },
     "b98080a348f54ca398a7d57716ad890d": {
      "model_module": "jupyter-js-widgets",
      "model_module_version": "~2.1.4",
      "model_name": "LayoutModel",
      "state": {
       "_model_module_version": "~2.1.4",
       "_view_module_version": "~2.1.4"
      }
     },
     "b9e6184349fb47e88ac9140a7c9e771c": {
      "model_module": "jupyter-js-widgets",
      "model_module_version": "*",
      "model_name": "DOMWidgetModel",
      "state": {
       "_addlayer": "",
       "_arcgis_url": "http://commteamretail.maps.arcgis.com/sharing/rest/content/items",
       "_extent": "",
       "_jsextent": "",
       "_model_name": "DOMWidgetModel",
       "_swipe_div": "swipeDivJF1TOX",
       "_token_info": "{\"password\": \"K3mos@be\", \"tokenurl\": \"https://commteamretail.maps.arcgis.com/sharing/rest/generateToken\", \"server\": \"https://commteamretail.maps.arcgis.com/sharing/rest/\", \"username\": \"jmccune_retail\"}",
       "_view_module": "mapview",
       "_view_name": "MapView",
       "basemap": "gray",
       "center": [
        -95.304033,
        37.149383687348454
       ],
       "end_time": "",
       "id": "",
       "layout": "IPY_MODEL_b98080a348f54ca398a7d57716ad890d",
       "mode": "navigate",
       "start_time": "",
       "width": "100%",
       "zoom": 3
      }
     },
     "c1f1487114f2462fa91e2f66787ce003": {
      "model_module": "jupyter-js-widgets",
      "model_module_version": "~2.1.4",
      "model_name": "LayoutModel",
      "state": {
       "_model_module_version": "~2.1.4",
       "_view_module_version": "~2.1.4"
      }
     },
     "c364bc3525f74658ad8ab5dbc9c29412": {
      "model_module": "jupyter-js-widgets",
      "model_module_version": "*",
      "model_name": "DOMWidgetModel",
      "state": {
       "_addlayer": "",
       "_arcgis_url": "http://commteamretail.maps.arcgis.com/sharing/rest/content/items",
       "_extent": "",
       "_jsextent": "",
       "_model_name": "DOMWidgetModel",
       "_swipe_div": "swipeDivL6YG50",
       "_token_info": "{\"password\": \"K3mos@be\", \"tokenurl\": \"https://commteamretail.maps.arcgis.com/sharing/rest/generateToken\", \"server\": \"https://commteamretail.maps.arcgis.com/sharing/rest/\", \"username\": \"jmccune_retail\"}",
       "_view_module": "mapview",
       "_view_name": "MapView",
       "basemap": "gray",
       "center": [
        -95.304033,
        37.149383687348454
       ],
       "end_time": "",
       "id": "",
       "layout": "IPY_MODEL_4c3f60355e7f4536b8b59daeda8129ec",
       "mode": "{\"symbol\": {\"type\": \"esriSMS\", \"style\": \"esriSMSCircle\", \"size\": 8, \"color\": [0, 255, 0, 255]}, \"attributes\": null, \"geometry\": {\"y\": 42.48030000000009, \"x\": -71.02409999999995}, \"infoTemplate\": null}",
       "start_time": "",
       "width": "100%",
       "zoom": 4
      }
     },
     "ca859c30653f4f8a94028d88012f745e": {
      "model_module": "jupyter-js-widgets",
      "model_module_version": "*",
      "model_name": "DOMWidgetModel",
      "state": {
       "_addlayer": "",
       "_arcgis_url": "http://commteamretail.maps.arcgis.com/sharing/rest/content/items",
       "_extent": "{\"ymax\": 41.10739000000007, \"xmin\": -84.27593999999995, \"ymin\": 41.08739000000008, \"xmax\": -84.25593999999994}",
       "_jsextent": "{\"type\":\"extent\",\"xmin\":-9998052.720560435,\"ymin\":4782118.918754714,\"xmax\":-8762830.343472317,\"ymax\":5271315.899779711,\"spatialReference\":{\"wkid\":102100,\"latestWkid\":3857}}",
       "_model_name": "DOMWidgetModel",
       "_swipe_div": "swipeDiv652NB0",
       "_token_info": "{\"password\": \"K3mos@be\", \"tokenurl\": \"https://commteamretail.maps.arcgis.com/sharing/rest/generateToken\", \"server\": \"https://commteamretail.maps.arcgis.com/sharing/rest/\", \"username\": \"jmccune_retail\"}",
       "_view_module": "mapview",
       "_view_name": "MapView",
       "basemap": "gray",
       "center": [
        0,
        0
       ],
       "end_time": "",
       "id": "",
       "layout": "IPY_MODEL_eb80e58f08714ddaae149a6fc0c3a5be",
       "mode": "navigate",
       "start_time": "",
       "width": "100%",
       "zoom": 2
      }
     },
     "cc0e35b6faaf4d9baf27f37ba76cc6d0": {
      "model_module": "jupyter-js-widgets",
      "model_module_version": "~2.1.4",
      "model_name": "LayoutModel",
      "state": {
       "_model_module_version": "~2.1.4",
       "_view_module_version": "~2.1.4"
      }
     },
     "d0cf3c49c85d45ff98c67967da27e6c3": {
      "model_module": "jupyter-js-widgets",
      "model_module_version": "*",
      "model_name": "DOMWidgetModel",
      "state": {
       "_addlayer": "",
       "_arcgis_url": "http://commteamretail.maps.arcgis.com/sharing/rest/content/items",
       "_extent": "",
       "_jsextent": "",
       "_model_name": "DOMWidgetModel",
       "_swipe_div": "swipeDivPFGCBC",
       "_token_info": "{\"password\": \"K3mos@be\", \"tokenurl\": \"https://commteamretail.maps.arcgis.com/sharing/rest/generateToken\", \"server\": \"https://commteamretail.maps.arcgis.com/sharing/rest/\", \"username\": \"jmccune_retail\"}",
       "_view_module": "mapview",
       "_view_name": "MapView",
       "basemap": "gray",
       "center": [
        -95.304033,
        37.149383687348454
       ],
       "end_time": "",
       "id": "",
       "layout": "IPY_MODEL_34d1704171034c0b95ef917174a8da8c",
       "mode": "{\"symbol\": {\"type\": \"esriSMS\", \"style\": \"esriSMSCircle\", \"size\": 8, \"color\": [0, 255, 0, 255]}, \"attributes\": null, \"geometry\": {\"y\": 42.48030000000009, \"x\": -71.02409999999995}, \"infoTemplate\": null}",
       "start_time": "",
       "width": "100%",
       "zoom": 4
      }
     },
     "d4101841e9784939ab9f45c881ca548b": {
      "model_module": "jupyter-js-widgets",
      "model_module_version": "~2.1.4",
      "model_name": "LayoutModel",
      "state": {
       "_model_module_version": "~2.1.4",
       "_view_module_version": "~2.1.4"
      }
     },
     "da19f64f599a438d81ded20fd2d13f48": {
      "model_module": "jupyter-js-widgets",
      "model_module_version": "~2.1.4",
      "model_name": "LayoutModel",
      "state": {
       "_model_module_version": "~2.1.4",
       "_view_module_version": "~2.1.4"
      }
     },
     "db487a0edfa7485c989011a5eec1dc80": {
      "model_module": "jupyter-js-widgets",
      "model_module_version": "~2.1.4",
      "model_name": "LayoutModel",
      "state": {
       "_model_module_version": "~2.1.4",
       "_view_module_version": "~2.1.4"
      }
     },
     "e44ff4b94ecd4a20b41619d4e32cd336": {
      "model_module": "jupyter-js-widgets",
      "model_module_version": "*",
      "model_name": "DOMWidgetModel",
      "state": {
       "_addlayer": "",
       "_arcgis_url": "http://commteamretail.maps.arcgis.com/sharing/rest/content/items",
       "_extent": "",
       "_jsextent": "",
       "_model_name": "DOMWidgetModel",
       "_swipe_div": "swipeDivYCOG3N",
       "_token_info": "{\"password\": \"K3mos@be\", \"tokenurl\": \"https://commteamretail.maps.arcgis.com/sharing/rest/generateToken\", \"server\": \"https://commteamretail.maps.arcgis.com/sharing/rest/\", \"username\": \"jmccune_retail\"}",
       "_view_module": "mapview",
       "_view_name": "MapView",
       "basemap": "gray",
       "center": [
        0,
        0
       ],
       "end_time": "",
       "id": "",
       "layout": "IPY_MODEL_26cbc76a0b124ef98b05d4eec49b7218",
       "mode": "{\"symbol\": null, \"attributes\": {\"VAL100K_CY\": 195, \"ASSCDEG_CY\": 6257, \"SALESVOL\": 45232, \"NOHS_CY\": 5840, \"VAL150K_CY\": 540, \"INDCONS_CY\": 3723, \"MEDNW_CY\": 410510, \"HINC75_CY\": 4459, \"AVGHINC_CY\": 134894, \"INDRTTR_CY\": 6614, \"NW100_CY\": 1903, \"BLACK_CY\": 9713, \"POPDENS_CY\": 2708.0, \"MARRIED_CY\": 48440, \"TOTPOP_CY\": 112700, \"BACHDEG_CY\": 15055, \"NW0_CY\": 2877, \"INDHLTH_CY\": 8972, \"INDMGMT_CY\": 3, \"VAL1M_CY\": 2011, \"AVGVAL_CY\": 544021, \"DI100_CY\": 5283, \"AMERIND_CY\": 628, \"AVGFMSZ_CY\": 3.63, \"OCCFOOD_CY\": 2508, \"OCCPROT_CY\": 1624, \"AGGNW_CY\": 45344032406, \"HINC0_CY\": 1236, \"NHSPOTH_CY\": 287, \"WIDOWED_CY\": 4539, \"VAL250K_CY\": 1955, \"INDTRAN_CY\": 2635, \"OCCFARM_CY\": 37, \"DIVINDX_CY\": 72.3, \"MEDDI_CY\": 70264, \"OCCCONS_CY\": 2765, \"NONHISP_CY\": 77052, \"INDINFO_CY\": 1319, \"HISPASN_CY\": 126, \"HISPPI_CY\": 11, \"DI35_CY\": 3909, \"NHSPASN_CY\": 7616, \"DI0_CY\": 1540, \"HISPWHT_CY\": 18702, \"HISPPOP_CY\": 35648, \"OCCMGMT_CY\": 5699, \"HINC35_CY\": 2644, \"INDEDUC_CY\": 6181, \"HISPAI_CY\": 488, \"HINC15_CY\": 1227, \"OCCHLTH_CY\": 1738, \"ASIAN_CY\": 7742, \"NHSPMLT_CY\": 1680, \"AVGHHSZ_CY\": 3.43, \"FAMGRW10CY\": 0.13, \"TOTHU_CY\": 33688, \"INDRE_CY\": 973, \"OCCSSRV_CY\": 687, \"NEVMARR_CY\": 31005, \"NHSPPI_CY\": 18, \"VAL50K_CY\": 127, \"OCCTRAN_CY\": 3220, \"HHGRW10CY\": 0.2, \"HISPMLT_CY\": 2306, \"NHSPBLK_CY\": 8220, \"OCCENT_CY\": 928, \"GQPOP_CY\": 1808, \"NW150_CY\": 3085, \"NW500_CY\": 14821, \"TOTHH_CY\": 32376, \"INDFOOD_CY\": 3118, \"HSGRAD_CY\": 18457, \"AVGNW_CY\": 1400588, \"STREET\": \"HENRY ST\", \"OCCBLDG_CY\": 2565, \"DIVORCD_CY\": 6162, \"INDPUBL_CY\": 2204, \"OCCSSCI_CY\": 326, \"GRADDEG_CY\": 11940, \"INDFIN_CY\": 3318, \"SOMEHS_CY\": 4268, \"RACE2UP_CY\": 3986, \"INDUTIL_CY\": 303, \"NW250_CY\": 5386, \"DI75_CY\": 5320, \"VAL0_CY\": 381, \"PACIFIC_CY\": 29, \"VAL750K_CY\": 3259, \"HINC200_CY\": 5276, \"INDMANU_CY\": 6073, \"OTHRACE_CY\": 12808, \"VAL300K_CY\": 5382, \"NW75_CY\": 1091, \"UNEMPRT_CY\": 5.3, \"OCCBUS_CY\": 2900, \"DI50_CY\": 7629, \"OCCCOMP_CY\": 690, \"OCCLEGL_CY\": 925, \"OCCEDUC_CY\": 3987, \"RENTER_CY\": 5576, \"SIC\": \"531102\", \"OCCADMN_CY\": 7034, \"CIVLBFR_CY\": 60562, \"INDAGRI_CY\": 113, \"UNEMP_CY\": 3194, \"INDOTSV_CY\": 2342, \"FAMHH_CY\": 26837, \"PCI_CY\": 39160, \"LOCNUM\": \"404480677\", \"NW50_CY\": 1375, \"NW15_CY\": 1094, \"DI200_CY\": 1803, \"ZIP4\": \"5423\", \"OBJECTID\": 1715, \"ZIP\": \"11725\", \"OCCHTCH_CY\": 4273, \"INDMIN_CY\": 0, \"HINC150_CY\": 4208, \"OCCARCH_CY\": 1008, \"VAL200K_CY\": 1243, \"EMP_CY\": 57367, \"HHPOP_CY\": 110893, \"DI150_CY\": 2754, \"VAL400K_CY\": 5380, \"FAMPOP_CY\": 97496, \"HINC25_CY\": 1648, \"INDADMN_CY\": 1930, \"MEDVAL_CY\": 466496, \"OCCPERS_CY\": 1711, \"AGGDI_CY\": 2903952022, \"INDWHTR_CY\": 2328, \"CITY\": \"COMMACK\", \"STATE\": \"NY\", \"SQFTCODE\": \"D\", \"VACANT_CY\": 1312, \"NHSPWHT_CY\": 59092, \"HINC50_CY\": 4654, \"VAL500K_CY\": 6328, \"MINORITYCY\": 53608, \"SMCOLL_CY\": 12004, \"HINC100_CY\": 7022, \"OCCPROD_CY\": 3911, \"NHSPAI_CY\": 140, \"INDARTS_CY\": 871, \"segment\": 3, \"GED_CY\": 1645, \"DI15_CY\": 1659, \"OWNER_CY\": 26801, \"CONAME\": \"TARGET\", \"NAICS\": \"45211101\", \"WHITE_CY\": 77794, \"AVGDI_CY\": 89697, \"HISPBLK_CY\": 1493, \"MEDHINC_CY\": 101438, \"OCCSALE_CY\": 6787, \"HISPOTH_CY\": 12522, \"DI25_CY\": 2478, \"INDTECH_CY\": 4348, \"OCCMAIN_CY\": 2044, \"POPGRW10CY\": 0.23, \"NW35_CY\": 743}, \"geometry\": {\"y\": 37.32310000000005, \"x\": -122.03619999999995}, \"infoTemplate\": null}",
       "start_time": "",
       "width": "100%",
       "zoom": 2
      }
     },
     "e5fd1c03e692465d9b6c341774846cc2": {
      "model_module": "jupyter-js-widgets",
      "model_module_version": "*",
      "model_name": "DOMWidgetModel",
      "state": {
       "_addlayer": "",
       "_arcgis_url": "http://commteamretail.maps.arcgis.com/sharing/rest/content/items",
       "_extent": "",
       "_jsextent": "",
       "_model_name": "DOMWidgetModel",
       "_swipe_div": "swipeDivFAATGE",
       "_token_info": "{\"password\": \"K3mos@be\", \"tokenurl\": \"https://commteamretail.maps.arcgis.com/sharing/rest/generateToken\", \"server\": \"https://commteamretail.maps.arcgis.com/sharing/rest/\", \"username\": \"jmccune_retail\"}",
       "_view_module": "mapview",
       "_view_name": "MapView",
       "basemap": "gray",
       "center": [
        -95.304033,
        37.149383687348454
       ],
       "end_time": "",
       "id": "",
       "layout": "IPY_MODEL_e65024fd51b24fbaa6bece061f798220",
       "mode": "navigate",
       "start_time": "",
       "width": "100%",
       "zoom": 15
      }
     },
     "e65024fd51b24fbaa6bece061f798220": {
      "model_module": "jupyter-js-widgets",
      "model_module_version": "~2.1.4",
      "model_name": "LayoutModel",
      "state": {
       "_model_module_version": "~2.1.4",
       "_view_module_version": "~2.1.4"
      }
     },
     "eb80e58f08714ddaae149a6fc0c3a5be": {
      "model_module": "jupyter-js-widgets",
      "model_module_version": "~2.1.4",
      "model_name": "LayoutModel",
      "state": {
       "_model_module_version": "~2.1.4",
       "_view_module_version": "~2.1.4"
      }
     },
     "f390769e683a4278a4aa81ae00a26c05": {
      "model_module": "jupyter-js-widgets",
      "model_module_version": "*",
      "model_name": "DOMWidgetModel",
      "state": {
       "_addlayer": "",
       "_arcgis_url": "http://commteamretail.maps.arcgis.com/sharing/rest/content/items",
       "_extent": "",
       "_jsextent": "",
       "_model_name": "DOMWidgetModel",
       "_swipe_div": "swipeDivNZXW4Y",
       "_token_info": "{\"password\": \"K3mos@be\", \"tokenurl\": \"https://commteamretail.maps.arcgis.com/sharing/rest/generateToken\", \"server\": \"https://commteamretail.maps.arcgis.com/sharing/rest/\", \"username\": \"jmccune_retail\"}",
       "_view_module": "mapview",
       "_view_name": "MapView",
       "basemap": "gray",
       "center": [
        -95.304033,
        37.149383687348454
       ],
       "end_time": "",
       "id": "",
       "layout": "IPY_MODEL_da19f64f599a438d81ded20fd2d13f48",
       "mode": "navigate",
       "start_time": "",
       "width": "100%",
       "zoom": 5
      }
     },
     "f819ef05fe9845568dfdec5e5a1470e7": {
      "model_module": "jupyter-js-widgets",
      "model_module_version": "~2.1.4",
      "model_name": "LayoutModel",
      "state": {
       "_model_module_version": "~2.1.4",
       "_view_module_version": "~2.1.4"
      }
     }
    },
    "version_major": 1,
    "version_minor": 0
   }
  }
 },
 "nbformat": 4,
 "nbformat_minor": 2
}

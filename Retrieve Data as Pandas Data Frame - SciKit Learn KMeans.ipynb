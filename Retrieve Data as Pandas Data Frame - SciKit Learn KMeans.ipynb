{
 "cells": [
  {
   "cell_type": "markdown",
   "metadata": {},
   "source": [
    "## Note: Increased IOPub\n",
    "For visualization, if you did not start this notebook with an increased data rate limit, stop the notebook, go back to the command line, and start Jupyter Notebook using the following command.\n",
    "\n",
    "`jupyter notebook --NotebookApp.iopub_data_rate_limit=10000000000`"
   ]
  },
  {
   "cell_type": "markdown",
   "metadata": {},
   "source": [
    "# Import the Python API module and Instantiate the GIS object\n",
    "\n",
    "Import the Python API"
   ]
  },
  {
   "cell_type": "code",
   "execution_count": 1,
   "metadata": {
    "collapsed": true
   },
   "outputs": [],
   "source": [
    "import arcgis\n",
    "from getpass import getpass"
   ]
  },
  {
   "cell_type": "markdown",
   "metadata": {},
   "source": [
    "Create an GIS object instance using the [account currently logged in through ArcGIS Pro](https://developers.arcgis.com/python/guide/working-with-different-authentication-schemes/#ArcGIS-Pro-user-connecting-to-the-active-portal-in-the-Pro-app)"
   ]
  },
  {
   "cell_type": "code",
   "execution_count": 2,
   "metadata": {},
   "outputs": [
    {
     "name": "stdout",
     "output_type": "stream",
     "text": [
      "Please enter your password: ········\n"
     ]
    }
   ],
   "source": [
    "#gis_retail = arcgis.gis.GIS('Pro')  # optional, use if can use ArcGIS Pro authentication\n",
    "gis_retail = arcgis.gis.GIS(\n",
    "    username='jmccune_retail',  # change this to your username \n",
    "    password=getpass('Please enter your password: ')\n",
    ")"
   ]
  },
  {
   "cell_type": "markdown",
   "metadata": {},
   "source": [
    "# Get a Feature Set, data to work with, from the Web GIS Item ID\n",
    "\n",
    "Create a [Web GIS Item](http://esri.github.io/arcgis-python-api/apidoc/html/arcgis.gis.toc.html#item) instance using the Item ID"
   ]
  },
  {
   "cell_type": "code",
   "execution_count": 3,
   "metadata": {},
   "outputs": [
    {
     "data": {
      "text/html": [
       "<div class=\"item_container\" style=\"height: auto; overflow: hidden; border: 1px solid #cfcfcf; border-radius: 2px; background: #f6fafa; line-height: 1.21429em; padding: 10px;\">\n",
       "                    <div class=\"item_left\" style=\"width: 210px; float: left;\">\n",
       "                       <a href='http://commteamretail.maps.arcgis.com/home/item.html?id=44c0b666404c41b8a14e04c34d09be1e' target='_blank'>\n",
       "                        <img src='http://static.arcgis.com/images/desktopapp.png' class=\"itemThumbnail\">\n",
       "                       </a>\n",
       "                    </div>\n",
       "\n",
       "                    <div class=\"item_right\"     style=\"float: none; width: auto; overflow: hidden;\">\n",
       "                        <a href='http://commteamretail.maps.arcgis.com/home/item.html?id=44c0b666404c41b8a14e04c34d09be1e' target='_blank'><b>targetWithDemographics</b>\n",
       "                        </a>\n",
       "                        <br/>All same stores with huge variety of demographics associated with the locations.<img src='http://commteamretail.maps.arcgis.com/home/js/jsapi/esri/css/images/item_type_icons/featureshosted16.png' style=\"vertical-align:middle;\">Feature Layer Collection by joel5174@esri.com_commteamretail\n",
       "                        <br/>Last Modified: August 14, 2017\n",
       "                        <br/>0 comments, 2 views\n",
       "                    </div>\n",
       "                </div>\n",
       "                "
      ],
      "text/plain": [
       "<Item title:\"targetWithDemographics\" type:Feature Layer Collection owner:joel5174@esri.com_commteamretail>"
      ]
     },
     "execution_count": 3,
     "metadata": {},
     "output_type": "execute_result"
    }
   ],
   "source": [
    "trade_area_itemid = '44c0b666404c41b8a14e04c34d09be1e'\n",
    "item = arcgis.gis.Item(gis=gis_retail, itemid=trade_area_itemid)\n",
    "item"
   ]
  },
  {
   "cell_type": "markdown",
   "metadata": {},
   "source": [
    "Since the item only contains one feature layer, get the first layer in the item, the [Feature Layer](http://esri.github.io/arcgis-python-api/apidoc/html/arcgis.features.toc.html#featurelayer) we need to work with."
   ]
  },
  {
   "cell_type": "code",
   "execution_count": 4,
   "metadata": {},
   "outputs": [
    {
     "data": {
      "text/plain": [
       "<FeatureLayer url:\"https://services.arcgis.com/PMTtzuTB6WiPuNSv/arcgis/rest/services/targetWithDemographics/FeatureServer/0\">"
      ]
     },
     "execution_count": 4,
     "metadata": {},
     "output_type": "execute_result"
    }
   ],
   "source": [
    "feature_layer = item.layers[0]\n",
    "feature_layer"
   ]
  },
  {
   "cell_type": "markdown",
   "metadata": {},
   "source": [
    "Now, for this initial analysis, [query](http://esri.github.io/arcgis-python-api/apidoc/html/arcgis.features.toc.html#arcgis.features.FeatureLayer.query) to return just the attributes for the eight minute trade areas as a [Feature Set](http://esri.github.io/arcgis-python-api/apidoc/html/arcgis.features.toc.html#featureset)."
   ]
  },
  {
   "cell_type": "code",
   "execution_count": 5,
   "metadata": {},
   "outputs": [],
   "source": [
    "feature_set = feature_layer.query()"
   ]
  },
  {
   "cell_type": "markdown",
   "metadata": {},
   "source": [
    "# Convert the Data into a Pandas Data Frame\n",
    "\n",
    "Take advantage of the [`df` function](http://esri.github.io/arcgis-python-api/apidoc/html/arcgis.features.toc.html#arcgis.features.FeatureSet.df) on the Feature set object returned from the query to convert the data to a [Pandas Data Frame](https://pandas.pydata.org/pandas-docs/stable/generated/pandas.DataFrame.html)."
   ]
  },
  {
   "cell_type": "code",
   "execution_count": 6,
   "metadata": {
    "scrolled": true
   },
   "outputs": [
    {
     "data": {
      "text/html": [
       "<div>\n",
       "<style>\n",
       "    .dataframe thead tr:only-child th {\n",
       "        text-align: right;\n",
       "    }\n",
       "\n",
       "    .dataframe thead th {\n",
       "        text-align: left;\n",
       "    }\n",
       "\n",
       "    .dataframe tbody tr th {\n",
       "        vertical-align: top;\n",
       "    }\n",
       "</style>\n",
       "<table border=\"1\" class=\"dataframe\">\n",
       "  <thead>\n",
       "    <tr style=\"text-align: right;\">\n",
       "      <th></th>\n",
       "      <th>OBJECTID</th>\n",
       "      <th>Target_Locations_CITY</th>\n",
       "      <th>Target_Locations_CONAME</th>\n",
       "      <th>Target_Locations_LOCNUM</th>\n",
       "      <th>Target_Locations_NAICS</th>\n",
       "      <th>Target_Locations_SALESVOL</th>\n",
       "      <th>Target_Locations_SIC</th>\n",
       "      <th>Target_Locations_SQFTCODE</th>\n",
       "      <th>Target_Locations_STATE</th>\n",
       "      <th>Target_Locations_STREET</th>\n",
       "      <th>...</th>\n",
       "      <th>overlayTemplate_VAL200K_CY</th>\n",
       "      <th>overlayTemplate_VAL250K_CY</th>\n",
       "      <th>overlayTemplate_VAL300K_CY</th>\n",
       "      <th>overlayTemplate_VAL400K_CY</th>\n",
       "      <th>overlayTemplate_VAL500K_CY</th>\n",
       "      <th>overlayTemplate_VAL50K_CY</th>\n",
       "      <th>overlayTemplate_VAL750K_CY</th>\n",
       "      <th>overlayTemplate_WHITE_CY</th>\n",
       "      <th>overlayTemplate_WIDOWED_CY</th>\n",
       "      <th>SHAPE</th>\n",
       "    </tr>\n",
       "  </thead>\n",
       "  <tbody>\n",
       "    <tr>\n",
       "      <th>0</th>\n",
       "      <td>1</td>\n",
       "      <td>SEASIDE</td>\n",
       "      <td>TARGET</td>\n",
       "      <td>666990510</td>\n",
       "      <td>45211101</td>\n",
       "      <td>35495</td>\n",
       "      <td>531102</td>\n",
       "      <td>D</td>\n",
       "      <td>CA</td>\n",
       "      <td>CALIFORNIA AVE</td>\n",
       "      <td>...</td>\n",
       "      <td>200</td>\n",
       "      <td>354</td>\n",
       "      <td>934</td>\n",
       "      <td>693</td>\n",
       "      <td>1976</td>\n",
       "      <td>81</td>\n",
       "      <td>1012</td>\n",
       "      <td>23576</td>\n",
       "      <td>1902</td>\n",
       "      <td>{'x': -13563500.716724824, 'y': 4386409.918831...</td>\n",
       "    </tr>\n",
       "    <tr>\n",
       "      <th>1</th>\n",
       "      <td>2</td>\n",
       "      <td>MARINA</td>\n",
       "      <td>TARGET</td>\n",
       "      <td>653371815</td>\n",
       "      <td>45211101</td>\n",
       "      <td>35495</td>\n",
       "      <td>531102</td>\n",
       "      <td>D</td>\n",
       "      <td>CA</td>\n",
       "      <td>GENERAL STILLWELL DR</td>\n",
       "      <td>...</td>\n",
       "      <td>137</td>\n",
       "      <td>270</td>\n",
       "      <td>1043</td>\n",
       "      <td>742</td>\n",
       "      <td>1612</td>\n",
       "      <td>81</td>\n",
       "      <td>588</td>\n",
       "      <td>21068</td>\n",
       "      <td>1500</td>\n",
       "      <td>{'x': -13559960.756917607, 'y': 4392875.237199...</td>\n",
       "    </tr>\n",
       "    <tr>\n",
       "      <th>2</th>\n",
       "      <td>3</td>\n",
       "      <td>CAPITOLA</td>\n",
       "      <td>TARGET</td>\n",
       "      <td>423468472</td>\n",
       "      <td>45211101</td>\n",
       "      <td>35495</td>\n",
       "      <td>531102</td>\n",
       "      <td>D</td>\n",
       "      <td>CA</td>\n",
       "      <td>41ST AVE</td>\n",
       "      <td>...</td>\n",
       "      <td>372</td>\n",
       "      <td>405</td>\n",
       "      <td>1015</td>\n",
       "      <td>1271</td>\n",
       "      <td>4018</td>\n",
       "      <td>261</td>\n",
       "      <td>2452</td>\n",
       "      <td>41050</td>\n",
       "      <td>2524</td>\n",
       "      <td>{'x': -13577092.826550681, 'y': 4435664.48477165}</td>\n",
       "    </tr>\n",
       "    <tr>\n",
       "      <th>3</th>\n",
       "      <td>4</td>\n",
       "      <td>WATSONVILLE</td>\n",
       "      <td>TARGET</td>\n",
       "      <td>511743478</td>\n",
       "      <td>45211101</td>\n",
       "      <td>35495</td>\n",
       "      <td>531102</td>\n",
       "      <td>D</td>\n",
       "      <td>CA</td>\n",
       "      <td>MAIN ST</td>\n",
       "      <td>...</td>\n",
       "      <td>456</td>\n",
       "      <td>449</td>\n",
       "      <td>870</td>\n",
       "      <td>982</td>\n",
       "      <td>1211</td>\n",
       "      <td>197</td>\n",
       "      <td>293</td>\n",
       "      <td>19905</td>\n",
       "      <td>1323</td>\n",
       "      <td>{'x': -13555819.671860088, 'y': 4427321.189443...</td>\n",
       "    </tr>\n",
       "    <tr>\n",
       "      <th>4</th>\n",
       "      <td>5</td>\n",
       "      <td>CUPERTINO</td>\n",
       "      <td>TARGET</td>\n",
       "      <td>404459478</td>\n",
       "      <td>45211101</td>\n",
       "      <td>52059</td>\n",
       "      <td>531102</td>\n",
       "      <td>D</td>\n",
       "      <td>CA</td>\n",
       "      <td>STEVENS CREEK BLVD</td>\n",
       "      <td>...</td>\n",
       "      <td>43</td>\n",
       "      <td>49</td>\n",
       "      <td>211</td>\n",
       "      <td>519</td>\n",
       "      <td>2823</td>\n",
       "      <td>110</td>\n",
       "      <td>7694</td>\n",
       "      <td>41689</td>\n",
       "      <td>5226</td>\n",
       "      <td>{'x': -13585007.642346086, 'y': 4484238.960603...</td>\n",
       "    </tr>\n",
       "  </tbody>\n",
       "</table>\n",
       "<p>5 rows × 161 columns</p>\n",
       "</div>"
      ],
      "text/plain": [
       "   OBJECTID Target_Locations_CITY Target_Locations_CONAME  \\\n",
       "0         1               SEASIDE                  TARGET   \n",
       "1         2                MARINA                  TARGET   \n",
       "2         3              CAPITOLA                  TARGET   \n",
       "3         4           WATSONVILLE                  TARGET   \n",
       "4         5             CUPERTINO                  TARGET   \n",
       "\n",
       "  Target_Locations_LOCNUM Target_Locations_NAICS  Target_Locations_SALESVOL  \\\n",
       "0               666990510               45211101                      35495   \n",
       "1               653371815               45211101                      35495   \n",
       "2               423468472               45211101                      35495   \n",
       "3               511743478               45211101                      35495   \n",
       "4               404459478               45211101                      52059   \n",
       "\n",
       "  Target_Locations_SIC Target_Locations_SQFTCODE Target_Locations_STATE  \\\n",
       "0               531102                         D                     CA   \n",
       "1               531102                         D                     CA   \n",
       "2               531102                         D                     CA   \n",
       "3               531102                         D                     CA   \n",
       "4               531102                         D                     CA   \n",
       "\n",
       "  Target_Locations_STREET                        ...                          \\\n",
       "0          CALIFORNIA AVE                        ...                           \n",
       "1    GENERAL STILLWELL DR                        ...                           \n",
       "2                41ST AVE                        ...                           \n",
       "3                 MAIN ST                        ...                           \n",
       "4      STEVENS CREEK BLVD                        ...                           \n",
       "\n",
       "  overlayTemplate_VAL200K_CY overlayTemplate_VAL250K_CY  \\\n",
       "0                        200                        354   \n",
       "1                        137                        270   \n",
       "2                        372                        405   \n",
       "3                        456                        449   \n",
       "4                         43                         49   \n",
       "\n",
       "   overlayTemplate_VAL300K_CY  overlayTemplate_VAL400K_CY  \\\n",
       "0                         934                         693   \n",
       "1                        1043                         742   \n",
       "2                        1015                        1271   \n",
       "3                         870                         982   \n",
       "4                         211                         519   \n",
       "\n",
       "   overlayTemplate_VAL500K_CY  overlayTemplate_VAL50K_CY  \\\n",
       "0                        1976                         81   \n",
       "1                        1612                         81   \n",
       "2                        4018                        261   \n",
       "3                        1211                        197   \n",
       "4                        2823                        110   \n",
       "\n",
       "   overlayTemplate_VAL750K_CY  overlayTemplate_WHITE_CY  \\\n",
       "0                        1012                     23576   \n",
       "1                         588                     21068   \n",
       "2                        2452                     41050   \n",
       "3                         293                     19905   \n",
       "4                        7694                     41689   \n",
       "\n",
       "   overlayTemplate_WIDOWED_CY  \\\n",
       "0                        1902   \n",
       "1                        1500   \n",
       "2                        2524   \n",
       "3                        1323   \n",
       "4                        5226   \n",
       "\n",
       "                                               SHAPE  \n",
       "0  {'x': -13563500.716724824, 'y': 4386409.918831...  \n",
       "1  {'x': -13559960.756917607, 'y': 4392875.237199...  \n",
       "2  {'x': -13577092.826550681, 'y': 4435664.48477165}  \n",
       "3  {'x': -13555819.671860088, 'y': 4427321.189443...  \n",
       "4  {'x': -13585007.642346086, 'y': 4484238.960603...  \n",
       "\n",
       "[5 rows x 161 columns]"
      ]
     },
     "execution_count": 6,
     "metadata": {},
     "output_type": "execute_result"
    }
   ],
   "source": [
    "data_frame = feature_set.df\n",
    "data_frame.head()"
   ]
  },
  {
   "cell_type": "markdown",
   "metadata": {},
   "source": [
    "# Save dependent and independent variable names as Python variables\n",
    "\n",
    "Use a quick list comprehension to create a list of field names to be used as independent variables."
   ]
  },
  {
   "cell_type": "code",
   "execution_count": 7,
   "metadata": {},
   "outputs": [
    {
     "name": "stdout",
     "output_type": "stream",
     "text": [
      "['overlayTemplate_TOTPOP_CY', 'overlayTemplate_HHPOP_CY', 'overlayTemplate_FAMPOP_CY', 'overlayTemplate_GQPOP_CY', 'overlayTemplate_POPDENS_CY', 'overlayTemplate_TOTHH_CY', 'overlayTemplate_AVGHHSZ_CY', 'overlayTemplate_FAMHH_CY', 'overlayTemplate_AVGFMSZ_CY', 'overlayTemplate_TOTHU_CY', 'overlayTemplate_OWNER_CY', 'overlayTemplate_RENTER_CY', 'overlayTemplate_VACANT_CY', 'overlayTemplate_POPGRW10CY', 'overlayTemplate_HHGRW10CY', 'overlayTemplate_FAMGRW10CY', 'overlayTemplate_NOHS_CY', 'overlayTemplate_SOMEHS_CY', 'overlayTemplate_HSGRAD_CY', 'overlayTemplate_GED_CY', 'overlayTemplate_SMCOLL_CY', 'overlayTemplate_ASSCDEG_CY', 'overlayTemplate_BACHDEG_CY', 'overlayTemplate_GRADDEG_CY', 'overlayTemplate_NEVMARR_CY', 'overlayTemplate_MARRIED_CY', 'overlayTemplate_WIDOWED_CY', 'overlayTemplate_DIVORCD_CY', 'overlayTemplate_WHITE_CY', 'overlayTemplate_BLACK_CY', 'overlayTemplate_AMERIND_CY', 'overlayTemplate_ASIAN_CY', 'overlayTemplate_PACIFIC_CY', 'overlayTemplate_OTHRACE_CY', 'overlayTemplate_RACE2UP_CY', 'overlayTemplate_HISPPOP_CY', 'overlayTemplate_HISPWHT_CY', 'overlayTemplate_HISPBLK_CY', 'overlayTemplate_HISPAI_CY', 'overlayTemplate_HISPASN_CY', 'overlayTemplate_HISPPI_CY', 'overlayTemplate_HISPOTH_CY', 'overlayTemplate_HISPMLT_CY', 'overlayTemplate_NONHISP_CY', 'overlayTemplate_NHSPWHT_CY', 'overlayTemplate_NHSPBLK_CY', 'overlayTemplate_NHSPAI_CY', 'overlayTemplate_NHSPASN_CY', 'overlayTemplate_NHSPPI_CY', 'overlayTemplate_NHSPOTH_CY', 'overlayTemplate_NHSPMLT_CY', 'overlayTemplate_MINORITYCY', 'overlayTemplate_DIVINDX_CY', 'overlayTemplate_HINC0_CY', 'overlayTemplate_HINC15_CY', 'overlayTemplate_HINC25_CY', 'overlayTemplate_HINC35_CY', 'overlayTemplate_HINC50_CY', 'overlayTemplate_HINC75_CY', 'overlayTemplate_HINC100_CY', 'overlayTemplate_HINC150_CY', 'overlayTemplate_HINC200_CY', 'overlayTemplate_MEDHINC_CY', 'overlayTemplate_AVGHINC_CY', 'overlayTemplate_PCI_CY', 'overlayTemplate_DI0_CY', 'overlayTemplate_DI15_CY', 'overlayTemplate_DI25_CY', 'overlayTemplate_DI35_CY', 'overlayTemplate_DI50_CY', 'overlayTemplate_DI75_CY', 'overlayTemplate_DI100_CY', 'overlayTemplate_DI150_CY', 'overlayTemplate_DI200_CY', 'overlayTemplate_AGGDI_CY', 'overlayTemplate_MEDDI_CY', 'overlayTemplate_AVGDI_CY', 'overlayTemplate_NW0_CY', 'overlayTemplate_NW15_CY', 'overlayTemplate_NW35_CY', 'overlayTemplate_NW50_CY', 'overlayTemplate_NW75_CY', 'overlayTemplate_NW100_CY', 'overlayTemplate_NW150_CY', 'overlayTemplate_NW250_CY', 'overlayTemplate_NW500_CY', 'overlayTemplate_AGGNW_CY', 'overlayTemplate_MEDNW_CY', 'overlayTemplate_AVGNW_CY', 'overlayTemplate_VAL0_CY', 'overlayTemplate_VAL50K_CY', 'overlayTemplate_VAL100K_CY', 'overlayTemplate_VAL150K_CY', 'overlayTemplate_VAL200K_CY', 'overlayTemplate_VAL250K_CY', 'overlayTemplate_VAL300K_CY', 'overlayTemplate_VAL400K_CY', 'overlayTemplate_VAL500K_CY', 'overlayTemplate_VAL750K_CY', 'overlayTemplate_VAL1M_CY', 'overlayTemplate_MEDVAL_CY', 'overlayTemplate_AVGVAL_CY', 'overlayTemplate_CIVLBFR_CY', 'overlayTemplate_EMP_CY', 'overlayTemplate_INDAGRI_CY', 'overlayTemplate_INDMIN_CY', 'overlayTemplate_INDCONS_CY', 'overlayTemplate_INDMANU_CY', 'overlayTemplate_INDWHTR_CY', 'overlayTemplate_INDRTTR_CY', 'overlayTemplate_INDTRAN_CY', 'overlayTemplate_INDUTIL_CY', 'overlayTemplate_INDINFO_CY', 'overlayTemplate_INDFIN_CY', 'overlayTemplate_INDRE_CY', 'overlayTemplate_INDTECH_CY', 'overlayTemplate_INDMGMT_CY', 'overlayTemplate_INDADMN_CY', 'overlayTemplate_INDEDUC_CY', 'overlayTemplate_INDHLTH_CY', 'overlayTemplate_INDARTS_CY', 'overlayTemplate_INDFOOD_CY', 'overlayTemplate_INDOTSV_CY', 'overlayTemplate_INDPUBL_CY', 'overlayTemplate_UNEMP_CY', 'overlayTemplate_UNEMPRT_CY', 'overlayTemplate_OCCMGMT_CY', 'overlayTemplate_OCCBUS_CY', 'overlayTemplate_OCCCOMP_CY', 'overlayTemplate_OCCARCH_CY', 'overlayTemplate_OCCSSCI_CY', 'overlayTemplate_OCCSSRV_CY', 'overlayTemplate_OCCLEGL_CY', 'overlayTemplate_OCCEDUC_CY', 'overlayTemplate_OCCENT_CY', 'overlayTemplate_OCCHTCH_CY', 'overlayTemplate_OCCHLTH_CY', 'overlayTemplate_OCCPROT_CY', 'overlayTemplate_OCCFOOD_CY', 'overlayTemplate_OCCBLDG_CY', 'overlayTemplate_OCCPERS_CY', 'overlayTemplate_OCCSALE_CY', 'overlayTemplate_OCCADMN_CY', 'overlayTemplate_OCCFARM_CY', 'overlayTemplate_OCCCONS_CY', 'overlayTemplate_OCCMAIN_CY', 'overlayTemplate_OCCPROD_CY', 'overlayTemplate_OCCTRAN_CY']\n"
     ]
    }
   ],
   "source": [
    "field_name_independent_list = [field['name'] for field in feature_set.fields if \n",
    "    field['type'] != 'esriFieldTypeOID' and  # we don't need the Esri object identifier field\n",
    "    field['name'].startswith('Shape_') == False and  # exclude the Esri shape fields\n",
    "    (field['type'] == 'esriFieldTypeInteger' or field['type'] == 'esriFieldTypeDouble') and  # ensure numeric, quantatative, fields are the only fields used\n",
    "    'SALESVOL' not in field['name']   # exclude the dependent variable\n",
    "]\n",
    "print(field_name_independent_list)"
   ]
  },
  {
   "cell_type": "markdown",
   "metadata": {},
   "source": [
    "Also, save the name of the dependent variable field as well."
   ]
  },
  {
   "cell_type": "code",
   "execution_count": 8,
   "metadata": {},
   "outputs": [
    {
     "data": {
      "text/plain": [
       "'Target_Locations_SALESVOL'"
      ]
     },
     "execution_count": 8,
     "metadata": {},
     "output_type": "execute_result"
    }
   ],
   "source": [
    "field_name_dependent = [field['name'] for field in feature_set.fields if 'SALESVOL' in field['name']][0]\n",
    "field_name_dependent"
   ]
  },
  {
   "cell_type": "markdown",
   "metadata": {},
   "source": [
    "# Store Segmentation Using KMeans Clustering"
   ]
  },
  {
   "cell_type": "markdown",
   "metadata": {},
   "source": [
    "Use KMeans cluster analysis from the Sci-Kit Learn package to segment the demographically similar stores together."
   ]
  },
  {
   "cell_type": "code",
   "execution_count": 9,
   "metadata": {
    "collapsed": true
   },
   "outputs": [],
   "source": [
    "from sklearn.cluster import KMeans"
   ]
  },
  {
   "cell_type": "markdown",
   "metadata": {},
   "source": [
    "Create the KMeans clusterer, specifying it to create five clusters, or segments."
   ]
  },
  {
   "cell_type": "code",
   "execution_count": 10,
   "metadata": {
    "collapsed": true
   },
   "outputs": [],
   "source": [
    "kmcluster = KMeans(n_clusters=5)"
   ]
  },
  {
   "cell_type": "markdown",
   "metadata": {},
   "source": [
    "Use the `fit_predict` method to create the clusters."
   ]
  },
  {
   "cell_type": "code",
   "execution_count": 11,
   "metadata": {
    "collapsed": true
   },
   "outputs": [],
   "source": [
    "data_frame['segment'] = kmcluster.fit_predict(data_frame[field_name_independent_list])"
   ]
  },
  {
   "cell_type": "markdown",
   "metadata": {},
   "source": [
    "Now, take a look at a few descriptive metrics to begin to understand the results."
   ]
  },
  {
   "cell_type": "code",
   "execution_count": 12,
   "metadata": {},
   "outputs": [],
   "source": [
    "df_count = data_frame.segment.value_counts().reset_index().rename(columns={'index': 'segment', 'segment': 'count'})\n",
    "df_mean = data_frame.groupby('segment').mean()[field_name_dependent].reset_index().rename(\n",
    "    columns={'segment': 'segment', field_name_dependent: 'mean_sales'})\n",
    "df_median = data_frame.groupby('segment').median()[field_name_dependent].reset_index().rename(\n",
    "    columns={'segment': 'segment', field_name_dependent: 'median_sales'})"
   ]
  },
  {
   "cell_type": "code",
   "execution_count": 24,
   "metadata": {},
   "outputs": [
    {
     "data": {
      "text/html": [
       "<div>\n",
       "<style>\n",
       "    .dataframe thead tr:only-child th {\n",
       "        text-align: right;\n",
       "    }\n",
       "\n",
       "    .dataframe thead th {\n",
       "        text-align: left;\n",
       "    }\n",
       "\n",
       "    .dataframe tbody tr th {\n",
       "        vertical-align: top;\n",
       "    }\n",
       "</style>\n",
       "<table border=\"1\" class=\"dataframe\">\n",
       "  <thead>\n",
       "    <tr style=\"text-align: right;\">\n",
       "      <th></th>\n",
       "      <th>segment</th>\n",
       "      <th>count</th>\n",
       "      <th>mean_sales</th>\n",
       "      <th>median_sales</th>\n",
       "    </tr>\n",
       "  </thead>\n",
       "  <tbody>\n",
       "    <tr>\n",
       "      <th>4</th>\n",
       "      <td>1</td>\n",
       "      <td>52</td>\n",
       "      <td>45732.500000</td>\n",
       "      <td>42130.5</td>\n",
       "    </tr>\n",
       "    <tr>\n",
       "      <th>3</th>\n",
       "      <td>3</td>\n",
       "      <td>208</td>\n",
       "      <td>40657.115385</td>\n",
       "      <td>35495.0</td>\n",
       "    </tr>\n",
       "    <tr>\n",
       "      <th>2</th>\n",
       "      <td>0</td>\n",
       "      <td>359</td>\n",
       "      <td>38073.933148</td>\n",
       "      <td>35495.0</td>\n",
       "    </tr>\n",
       "    <tr>\n",
       "      <th>1</th>\n",
       "      <td>4</td>\n",
       "      <td>532</td>\n",
       "      <td>34614.334586</td>\n",
       "      <td>33800.5</td>\n",
       "    </tr>\n",
       "    <tr>\n",
       "      <th>0</th>\n",
       "      <td>2</td>\n",
       "      <td>657</td>\n",
       "      <td>31396.975647</td>\n",
       "      <td>32245.0</td>\n",
       "    </tr>\n",
       "  </tbody>\n",
       "</table>\n",
       "</div>"
      ],
      "text/plain": [
       "   segment  count    mean_sales  median_sales\n",
       "4        1     52  45732.500000       42130.5\n",
       "3        3    208  40657.115385       35495.0\n",
       "2        0    359  38073.933148       35495.0\n",
       "1        4    532  34614.334586       33800.5\n",
       "0        2    657  31396.975647       32245.0"
      ]
     },
     "execution_count": 24,
     "metadata": {},
     "output_type": "execute_result"
    }
   ],
   "source": [
    "df_summary = df_count.join(df_mean, on='segment', rsuffix='mean').join(\n",
    "    df_median, on='segment', rsuffix='median').sort_values('mean_sales', ascending=False).drop(\n",
    "    ['segmentmean', 'segmentmedian'], axis=1)\n",
    "df_summary"
   ]
  },
  {
   "cell_type": "code",
   "execution_count": 25,
   "metadata": {},
   "outputs": [
    {
     "data": {
      "text/html": [
       "<div>\n",
       "<style>\n",
       "    .dataframe thead tr:only-child th {\n",
       "        text-align: right;\n",
       "    }\n",
       "\n",
       "    .dataframe thead th {\n",
       "        text-align: left;\n",
       "    }\n",
       "\n",
       "    .dataframe tbody tr th {\n",
       "        vertical-align: top;\n",
       "    }\n",
       "</style>\n",
       "<table border=\"1\" class=\"dataframe\">\n",
       "  <thead>\n",
       "    <tr style=\"text-align: right;\">\n",
       "      <th></th>\n",
       "      <th>OBJECTID</th>\n",
       "      <th>Target_Locations_CITY</th>\n",
       "      <th>Target_Locations_CONAME</th>\n",
       "      <th>Target_Locations_LOCNUM</th>\n",
       "      <th>Target_Locations_NAICS</th>\n",
       "      <th>Target_Locations_SALESVOL</th>\n",
       "      <th>Target_Locations_SIC</th>\n",
       "      <th>Target_Locations_SQFTCODE</th>\n",
       "      <th>Target_Locations_STATE</th>\n",
       "      <th>Target_Locations_STREET</th>\n",
       "      <th>...</th>\n",
       "      <th>overlayTemplate_VAL250K_CY</th>\n",
       "      <th>overlayTemplate_VAL300K_CY</th>\n",
       "      <th>overlayTemplate_VAL400K_CY</th>\n",
       "      <th>overlayTemplate_VAL500K_CY</th>\n",
       "      <th>overlayTemplate_VAL50K_CY</th>\n",
       "      <th>overlayTemplate_VAL750K_CY</th>\n",
       "      <th>overlayTemplate_WHITE_CY</th>\n",
       "      <th>overlayTemplate_WIDOWED_CY</th>\n",
       "      <th>SHAPE</th>\n",
       "      <th>segment</th>\n",
       "    </tr>\n",
       "  </thead>\n",
       "  <tbody>\n",
       "    <tr>\n",
       "      <th>4</th>\n",
       "      <td>5</td>\n",
       "      <td>CUPERTINO</td>\n",
       "      <td>TARGET</td>\n",
       "      <td>404459478</td>\n",
       "      <td>45211101</td>\n",
       "      <td>52059</td>\n",
       "      <td>531102</td>\n",
       "      <td>D</td>\n",
       "      <td>CA</td>\n",
       "      <td>STEVENS CREEK BLVD</td>\n",
       "      <td>...</td>\n",
       "      <td>49</td>\n",
       "      <td>211</td>\n",
       "      <td>519</td>\n",
       "      <td>2823</td>\n",
       "      <td>110</td>\n",
       "      <td>7694</td>\n",
       "      <td>41689</td>\n",
       "      <td>5226</td>\n",
       "      <td>{'x': -13585007.642346086, 'y': 4484238.960603...</td>\n",
       "      <td>1</td>\n",
       "    </tr>\n",
       "    <tr>\n",
       "      <th>5</th>\n",
       "      <td>6</td>\n",
       "      <td>SAN JOSE</td>\n",
       "      <td>TARGET</td>\n",
       "      <td>373128867</td>\n",
       "      <td>45211101</td>\n",
       "      <td>84715</td>\n",
       "      <td>531102</td>\n",
       "      <td>D</td>\n",
       "      <td>CA</td>\n",
       "      <td>SARATOGA AVE</td>\n",
       "      <td>...</td>\n",
       "      <td>84</td>\n",
       "      <td>408</td>\n",
       "      <td>1002</td>\n",
       "      <td>7996</td>\n",
       "      <td>136</td>\n",
       "      <td>10636</td>\n",
       "      <td>70131</td>\n",
       "      <td>6289</td>\n",
       "      <td>{'x': -13579942.605514992, 'y': 4479998.294713...</td>\n",
       "      <td>1</td>\n",
       "    </tr>\n",
       "    <tr>\n",
       "      <th>6</th>\n",
       "      <td>7</td>\n",
       "      <td>SUNNYVALE</td>\n",
       "      <td>TARGET</td>\n",
       "      <td>402344537</td>\n",
       "      <td>45211101</td>\n",
       "      <td>35495</td>\n",
       "      <td>531102</td>\n",
       "      <td>D</td>\n",
       "      <td>CA</td>\n",
       "      <td>W MC KINLEY AVE</td>\n",
       "      <td>...</td>\n",
       "      <td>179</td>\n",
       "      <td>874</td>\n",
       "      <td>1620</td>\n",
       "      <td>6575</td>\n",
       "      <td>351</td>\n",
       "      <td>7622</td>\n",
       "      <td>54321</td>\n",
       "      <td>4554</td>\n",
       "      <td>{'x': -13584573.496331995, 'y': 4491324.546614...</td>\n",
       "      <td>1</td>\n",
       "    </tr>\n",
       "    <tr>\n",
       "      <th>7</th>\n",
       "      <td>8</td>\n",
       "      <td>SAN JOSE</td>\n",
       "      <td>TARGET</td>\n",
       "      <td>637354200</td>\n",
       "      <td>45211101</td>\n",
       "      <td>35495</td>\n",
       "      <td>531102</td>\n",
       "      <td>D</td>\n",
       "      <td>CA</td>\n",
       "      <td>BLOSSOM HILL RD</td>\n",
       "      <td>...</td>\n",
       "      <td>730</td>\n",
       "      <td>2347</td>\n",
       "      <td>4110</td>\n",
       "      <td>16914</td>\n",
       "      <td>847</td>\n",
       "      <td>8664</td>\n",
       "      <td>95636</td>\n",
       "      <td>6032</td>\n",
       "      <td>{'x': -13565548.995355422, 'y': 4474081.01258884}</td>\n",
       "      <td>1</td>\n",
       "    </tr>\n",
       "    <tr>\n",
       "      <th>9</th>\n",
       "      <td>10</td>\n",
       "      <td>SAN JOSE</td>\n",
       "      <td>TARGET</td>\n",
       "      <td>230021602</td>\n",
       "      <td>45211101</td>\n",
       "      <td>70990</td>\n",
       "      <td>531102</td>\n",
       "      <td>D</td>\n",
       "      <td>CA</td>\n",
       "      <td>HILLSDALE AVE</td>\n",
       "      <td>...</td>\n",
       "      <td>310</td>\n",
       "      <td>994</td>\n",
       "      <td>2572</td>\n",
       "      <td>15838</td>\n",
       "      <td>284</td>\n",
       "      <td>11823</td>\n",
       "      <td>105854</td>\n",
       "      <td>6740</td>\n",
       "      <td>{'x': -13571860.810483404, 'y': 4475857.246924...</td>\n",
       "      <td>1</td>\n",
       "    </tr>\n",
       "  </tbody>\n",
       "</table>\n",
       "<p>5 rows × 162 columns</p>\n",
       "</div>"
      ],
      "text/plain": [
       "   OBJECTID Target_Locations_CITY Target_Locations_CONAME  \\\n",
       "4         5             CUPERTINO                  TARGET   \n",
       "5         6              SAN JOSE                  TARGET   \n",
       "6         7             SUNNYVALE                  TARGET   \n",
       "7         8              SAN JOSE                  TARGET   \n",
       "9        10              SAN JOSE                  TARGET   \n",
       "\n",
       "  Target_Locations_LOCNUM Target_Locations_NAICS  Target_Locations_SALESVOL  \\\n",
       "4               404459478               45211101                      52059   \n",
       "5               373128867               45211101                      84715   \n",
       "6               402344537               45211101                      35495   \n",
       "7               637354200               45211101                      35495   \n",
       "9               230021602               45211101                      70990   \n",
       "\n",
       "  Target_Locations_SIC Target_Locations_SQFTCODE Target_Locations_STATE  \\\n",
       "4               531102                         D                     CA   \n",
       "5               531102                         D                     CA   \n",
       "6               531102                         D                     CA   \n",
       "7               531102                         D                     CA   \n",
       "9               531102                         D                     CA   \n",
       "\n",
       "  Target_Locations_STREET   ...    overlayTemplate_VAL250K_CY  \\\n",
       "4      STEVENS CREEK BLVD   ...                            49   \n",
       "5            SARATOGA AVE   ...                            84   \n",
       "6         W MC KINLEY AVE   ...                           179   \n",
       "7         BLOSSOM HILL RD   ...                           730   \n",
       "9           HILLSDALE AVE   ...                           310   \n",
       "\n",
       "  overlayTemplate_VAL300K_CY  overlayTemplate_VAL400K_CY  \\\n",
       "4                        211                         519   \n",
       "5                        408                        1002   \n",
       "6                        874                        1620   \n",
       "7                       2347                        4110   \n",
       "9                        994                        2572   \n",
       "\n",
       "   overlayTemplate_VAL500K_CY  overlayTemplate_VAL50K_CY  \\\n",
       "4                        2823                        110   \n",
       "5                        7996                        136   \n",
       "6                        6575                        351   \n",
       "7                       16914                        847   \n",
       "9                       15838                        284   \n",
       "\n",
       "   overlayTemplate_VAL750K_CY  overlayTemplate_WHITE_CY  \\\n",
       "4                        7694                     41689   \n",
       "5                       10636                     70131   \n",
       "6                        7622                     54321   \n",
       "7                        8664                     95636   \n",
       "9                       11823                    105854   \n",
       "\n",
       "   overlayTemplate_WIDOWED_CY  \\\n",
       "4                        5226   \n",
       "5                        6289   \n",
       "6                        4554   \n",
       "7                        6032   \n",
       "9                        6740   \n",
       "\n",
       "                                               SHAPE  segment  \n",
       "4  {'x': -13585007.642346086, 'y': 4484238.960603...        1  \n",
       "5  {'x': -13579942.605514992, 'y': 4479998.294713...        1  \n",
       "6  {'x': -13584573.496331995, 'y': 4491324.546614...        1  \n",
       "7  {'x': -13565548.995355422, 'y': 4474081.01258884}        1  \n",
       "9  {'x': -13571860.810483404, 'y': 4475857.246924...        1  \n",
       "\n",
       "[5 rows x 162 columns]"
      ]
     },
     "execution_count": 25,
     "metadata": {},
     "output_type": "execute_result"
    }
   ],
   "source": [
    "df_top_performing = data_frame[data_frame.segment == df_summary.iloc[0].segment]\n",
    "df_top_performing.head()"
   ]
  },
  {
   "cell_type": "markdown",
   "metadata": {},
   "source": [
    "# Map Results\n",
    "\n",
    "I am trying to visualize the data results. For some stupid reason, I cannot seem to get anything to show up. Both the map and the data frame data are both in Web Mercator, so it is not the spatial reference...so I'm really confused."
   ]
  },
  {
   "cell_type": "code",
   "execution_count": 15,
   "metadata": {},
   "outputs": [],
   "source": [
    "store_map = gis_retail.map('USA')"
   ]
  },
  {
   "cell_type": "code",
   "execution_count": 16,
   "metadata": {
    "collapsed": true
   },
   "outputs": [],
   "source": [
    "top_performing_feature_set = arcgis.features.FeatureSet.from_dataframe(df_top_performing)"
   ]
  },
  {
   "cell_type": "code",
   "execution_count": 17,
   "metadata": {},
   "outputs": [],
   "source": [
    "store_map.draw(top_performing_feature_set, symbol={\"type\": \"esriSMS\",\"style\": \"esriSMSCircle\", \"size\": 8})"
   ]
  },
  {
   "cell_type": "code",
   "execution_count": 18,
   "metadata": {},
   "outputs": [
    {
     "data": {
      "application/vnd.jupyter.widget-view+json": {
       "model_id": "e035802c9d344858bd7ca3b73c42141c"
      }
     },
     "metadata": {},
     "output_type": "display_data"
    }
   ],
   "source": [
    "store_map"
   ]
  },
  {
   "cell_type": "code",
   "execution_count": null,
   "metadata": {
    "collapsed": true
   },
   "outputs": [],
   "source": []
  }
 ],
 "metadata": {
  "kernelspec": {
   "display_name": "Python 3",
   "language": "python",
   "name": "python3"
  },
  "language_info": {
   "codemirror_mode": {
    "name": "ipython",
    "version": 3
   },
   "file_extension": ".py",
   "mimetype": "text/x-python",
   "name": "python",
   "nbconvert_exporter": "python",
   "pygments_lexer": "ipython3",
   "version": "3.5.3"
  }
 },
 "nbformat": 4,
 "nbformat_minor": 2
}

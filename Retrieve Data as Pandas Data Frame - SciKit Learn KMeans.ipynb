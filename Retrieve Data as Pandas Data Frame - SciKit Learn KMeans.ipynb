{
 "cells": [
  {
   "cell_type": "markdown",
   "metadata": {},
   "source": [
    "## Note: Increased IOPub\n",
    "For visualization, if you did not start this notebook with an increased data rate limit, stop the notebook, go back to the command line, and start Jupyter Notebook using the following command.\n",
    "\n",
    "`jupyter notebook --NotebookApp.iopub_data_rate_limit=10000000000`"
   ]
  },
  {
   "cell_type": "markdown",
   "metadata": {},
   "source": [
    "# Import the Python API module and Instantiate the GIS object\n",
    "\n",
    "Import the Python API"
   ]
  },
  {
   "cell_type": "code",
   "execution_count": 1,
   "metadata": {
    "collapsed": true
   },
   "outputs": [],
   "source": [
    "import arcgis\n",
    "from getpass import getpass"
   ]
  },
  {
   "cell_type": "markdown",
   "metadata": {},
   "source": [
    "Create an GIS object instance using the [account currently logged in through ArcGIS Pro](https://developers.arcgis.com/python/guide/working-with-different-authentication-schemes/#ArcGIS-Pro-user-connecting-to-the-active-portal-in-the-Pro-app)"
   ]
  },
  {
   "cell_type": "code",
   "execution_count": 2,
   "metadata": {},
   "outputs": [
    {
     "name": "stdout",
     "output_type": "stream",
     "text": [
      "Please enter your password: ········\n"
     ]
    }
   ],
   "source": [
    "#gis_retail = arcgis.gis.GIS('Pro')  # optional, use if can use ArcGIS Pro authentication\n",
    "gis_retail = arcgis.gis.GIS(\n",
    "    username='jmccune_retail',  # change this to your username \n",
    "    password=getpass('Please enter your password: ')\n",
    ")"
   ]
  },
  {
   "cell_type": "markdown",
   "metadata": {},
   "source": [
    "# Get a Feature Set, data to work with, from the Web GIS Item ID\n",
    "\n",
    "Create a [Web GIS Item](http://esri.github.io/arcgis-python-api/apidoc/html/arcgis.gis.toc.html#item) instance using the Item ID"
   ]
  },
  {
   "cell_type": "code",
   "execution_count": 3,
   "metadata": {},
   "outputs": [
    {
     "data": {
      "text/html": [
       "<div class=\"item_container\" style=\"height: auto; overflow: hidden; border: 1px solid #cfcfcf; border-radius: 2px; background: #f6fafa; line-height: 1.21429em; padding: 10px;\">\n",
       "                    <div class=\"item_left\" style=\"width: 210px; float: left;\">\n",
       "                       <a href='http://commteamretail.maps.arcgis.com/home/item.html?id=44c0b666404c41b8a14e04c34d09be1e' target='_blank'>\n",
       "                        <img src='data:image/png;base64,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' width='200' height='133' class=\"itemThumbnail\">\n",
       "                       </a>\n",
       "                    </div>\n",
       "\n",
       "                    <div class=\"item_right\"     style=\"float: none; width: auto; overflow: hidden;\">\n",
       "                        <a href='http://commteamretail.maps.arcgis.com/home/item.html?id=44c0b666404c41b8a14e04c34d09be1e' target='_blank'><b>targetWithDemographics</b>\n",
       "                        </a>\n",
       "                        <br/>All same stores with huge variety of demographics associated with the locations.<img src='http://commteamretail.maps.arcgis.com/home/js/jsapi/esri/css/images/item_type_icons/featureshosted16.png' style=\"vertical-align:middle;\">Feature Layer Collection by joel5174@esri.com_commteamretail\n",
       "                        <br/>Last Modified: August 14, 2017\n",
       "                        <br/>0 comments, 2 views\n",
       "                    </div>\n",
       "                </div>\n",
       "                "
      ],
      "text/plain": [
       "<Item title:\"targetWithDemographics\" type:Feature Layer Collection owner:joel5174@esri.com_commteamretail>"
      ]
     },
     "execution_count": 3,
     "metadata": {},
     "output_type": "execute_result"
    }
   ],
   "source": [
    "trade_area_itemid = '44c0b666404c41b8a14e04c34d09be1e'\n",
    "item = arcgis.gis.Item(gis=gis_retail, itemid=trade_area_itemid)\n",
    "item"
   ]
  },
  {
   "cell_type": "markdown",
   "metadata": {},
   "source": [
    "Since the item only contains one feature layer, get the first layer in the item, the [Feature Layer](http://esri.github.io/arcgis-python-api/apidoc/html/arcgis.features.toc.html#featurelayer) we need to work with."
   ]
  },
  {
   "cell_type": "code",
   "execution_count": 4,
   "metadata": {},
   "outputs": [
    {
     "data": {
      "text/plain": [
       "<FeatureLayer url:\"https://services.arcgis.com/PMTtzuTB6WiPuNSv/arcgis/rest/services/targetWithDemographics/FeatureServer/0\">"
      ]
     },
     "execution_count": 4,
     "metadata": {},
     "output_type": "execute_result"
    }
   ],
   "source": [
    "feature_layer = item.layers[0]\n",
    "feature_layer"
   ]
  },
  {
   "cell_type": "markdown",
   "metadata": {},
   "source": [
    "Now, for this initial analysis, [query](http://esri.github.io/arcgis-python-api/apidoc/html/arcgis.features.toc.html#arcgis.features.FeatureLayer.query) to return just the attributes for the eight minute trade areas as a [Feature Set](http://esri.github.io/arcgis-python-api/apidoc/html/arcgis.features.toc.html#featureset)."
   ]
  },
  {
   "cell_type": "code",
   "execution_count": 5,
   "metadata": {},
   "outputs": [],
   "source": [
    "feature_set = feature_layer.query()"
   ]
  },
  {
   "cell_type": "markdown",
   "metadata": {},
   "source": [
    "# Convert the Data into a Pandas Data Frame\n",
    "\n",
    "Take advantage of the [`df` function](http://esri.github.io/arcgis-python-api/apidoc/html/arcgis.features.toc.html#arcgis.features.FeatureSet.df) on the Feature set object returned from the query to convert the data to a [Pandas Data Frame](https://pandas.pydata.org/pandas-docs/stable/generated/pandas.DataFrame.html)."
   ]
  },
  {
   "cell_type": "code",
   "execution_count": 6,
   "metadata": {
    "scrolled": true
   },
   "outputs": [
    {
     "data": {
      "text/html": [
       "<div>\n",
       "<style>\n",
       "    .dataframe thead tr:only-child th {\n",
       "        text-align: right;\n",
       "    }\n",
       "\n",
       "    .dataframe thead th {\n",
       "        text-align: left;\n",
       "    }\n",
       "\n",
       "    .dataframe tbody tr th {\n",
       "        vertical-align: top;\n",
       "    }\n",
       "</style>\n",
       "<table border=\"1\" class=\"dataframe\">\n",
       "  <thead>\n",
       "    <tr style=\"text-align: right;\">\n",
       "      <th></th>\n",
       "      <th>OBJECTID</th>\n",
       "      <th>Target_Locations_CITY</th>\n",
       "      <th>Target_Locations_CONAME</th>\n",
       "      <th>Target_Locations_LOCNUM</th>\n",
       "      <th>Target_Locations_NAICS</th>\n",
       "      <th>Target_Locations_SALESVOL</th>\n",
       "      <th>Target_Locations_SIC</th>\n",
       "      <th>Target_Locations_SQFTCODE</th>\n",
       "      <th>Target_Locations_STATE</th>\n",
       "      <th>Target_Locations_STREET</th>\n",
       "      <th>...</th>\n",
       "      <th>overlayTemplate_VAL200K_CY</th>\n",
       "      <th>overlayTemplate_VAL250K_CY</th>\n",
       "      <th>overlayTemplate_VAL300K_CY</th>\n",
       "      <th>overlayTemplate_VAL400K_CY</th>\n",
       "      <th>overlayTemplate_VAL500K_CY</th>\n",
       "      <th>overlayTemplate_VAL50K_CY</th>\n",
       "      <th>overlayTemplate_VAL750K_CY</th>\n",
       "      <th>overlayTemplate_WHITE_CY</th>\n",
       "      <th>overlayTemplate_WIDOWED_CY</th>\n",
       "      <th>SHAPE</th>\n",
       "    </tr>\n",
       "  </thead>\n",
       "  <tbody>\n",
       "    <tr>\n",
       "      <th>0</th>\n",
       "      <td>1</td>\n",
       "      <td>SEASIDE</td>\n",
       "      <td>TARGET</td>\n",
       "      <td>666990510</td>\n",
       "      <td>45211101</td>\n",
       "      <td>35495</td>\n",
       "      <td>531102</td>\n",
       "      <td>D</td>\n",
       "      <td>CA</td>\n",
       "      <td>CALIFORNIA AVE</td>\n",
       "      <td>...</td>\n",
       "      <td>200</td>\n",
       "      <td>354</td>\n",
       "      <td>934</td>\n",
       "      <td>693</td>\n",
       "      <td>1976</td>\n",
       "      <td>81</td>\n",
       "      <td>1012</td>\n",
       "      <td>23576</td>\n",
       "      <td>1902</td>\n",
       "      <td>{'x': -13563500.716724824, 'y': 4386409.918831...</td>\n",
       "    </tr>\n",
       "    <tr>\n",
       "      <th>1</th>\n",
       "      <td>2</td>\n",
       "      <td>MARINA</td>\n",
       "      <td>TARGET</td>\n",
       "      <td>653371815</td>\n",
       "      <td>45211101</td>\n",
       "      <td>35495</td>\n",
       "      <td>531102</td>\n",
       "      <td>D</td>\n",
       "      <td>CA</td>\n",
       "      <td>GENERAL STILLWELL DR</td>\n",
       "      <td>...</td>\n",
       "      <td>137</td>\n",
       "      <td>270</td>\n",
       "      <td>1043</td>\n",
       "      <td>742</td>\n",
       "      <td>1612</td>\n",
       "      <td>81</td>\n",
       "      <td>588</td>\n",
       "      <td>21068</td>\n",
       "      <td>1500</td>\n",
       "      <td>{'x': -13559960.756917607, 'y': 4392875.237199...</td>\n",
       "    </tr>\n",
       "    <tr>\n",
       "      <th>2</th>\n",
       "      <td>3</td>\n",
       "      <td>CAPITOLA</td>\n",
       "      <td>TARGET</td>\n",
       "      <td>423468472</td>\n",
       "      <td>45211101</td>\n",
       "      <td>35495</td>\n",
       "      <td>531102</td>\n",
       "      <td>D</td>\n",
       "      <td>CA</td>\n",
       "      <td>41ST AVE</td>\n",
       "      <td>...</td>\n",
       "      <td>372</td>\n",
       "      <td>405</td>\n",
       "      <td>1015</td>\n",
       "      <td>1271</td>\n",
       "      <td>4018</td>\n",
       "      <td>261</td>\n",
       "      <td>2452</td>\n",
       "      <td>41050</td>\n",
       "      <td>2524</td>\n",
       "      <td>{'x': -13577092.826550681, 'y': 4435664.48477165}</td>\n",
       "    </tr>\n",
       "    <tr>\n",
       "      <th>3</th>\n",
       "      <td>4</td>\n",
       "      <td>WATSONVILLE</td>\n",
       "      <td>TARGET</td>\n",
       "      <td>511743478</td>\n",
       "      <td>45211101</td>\n",
       "      <td>35495</td>\n",
       "      <td>531102</td>\n",
       "      <td>D</td>\n",
       "      <td>CA</td>\n",
       "      <td>MAIN ST</td>\n",
       "      <td>...</td>\n",
       "      <td>456</td>\n",
       "      <td>449</td>\n",
       "      <td>870</td>\n",
       "      <td>982</td>\n",
       "      <td>1211</td>\n",
       "      <td>197</td>\n",
       "      <td>293</td>\n",
       "      <td>19905</td>\n",
       "      <td>1323</td>\n",
       "      <td>{'x': -13555819.671860088, 'y': 4427321.189443...</td>\n",
       "    </tr>\n",
       "    <tr>\n",
       "      <th>4</th>\n",
       "      <td>5</td>\n",
       "      <td>CUPERTINO</td>\n",
       "      <td>TARGET</td>\n",
       "      <td>404459478</td>\n",
       "      <td>45211101</td>\n",
       "      <td>52059</td>\n",
       "      <td>531102</td>\n",
       "      <td>D</td>\n",
       "      <td>CA</td>\n",
       "      <td>STEVENS CREEK BLVD</td>\n",
       "      <td>...</td>\n",
       "      <td>43</td>\n",
       "      <td>49</td>\n",
       "      <td>211</td>\n",
       "      <td>519</td>\n",
       "      <td>2823</td>\n",
       "      <td>110</td>\n",
       "      <td>7694</td>\n",
       "      <td>41689</td>\n",
       "      <td>5226</td>\n",
       "      <td>{'x': -13585007.642346086, 'y': 4484238.960603...</td>\n",
       "    </tr>\n",
       "  </tbody>\n",
       "</table>\n",
       "<p>5 rows × 161 columns</p>\n",
       "</div>"
      ],
      "text/plain": [
       "   OBJECTID Target_Locations_CITY Target_Locations_CONAME  \\\n",
       "0         1               SEASIDE                  TARGET   \n",
       "1         2                MARINA                  TARGET   \n",
       "2         3              CAPITOLA                  TARGET   \n",
       "3         4           WATSONVILLE                  TARGET   \n",
       "4         5             CUPERTINO                  TARGET   \n",
       "\n",
       "  Target_Locations_LOCNUM Target_Locations_NAICS  Target_Locations_SALESVOL  \\\n",
       "0               666990510               45211101                      35495   \n",
       "1               653371815               45211101                      35495   \n",
       "2               423468472               45211101                      35495   \n",
       "3               511743478               45211101                      35495   \n",
       "4               404459478               45211101                      52059   \n",
       "\n",
       "  Target_Locations_SIC Target_Locations_SQFTCODE Target_Locations_STATE  \\\n",
       "0               531102                         D                     CA   \n",
       "1               531102                         D                     CA   \n",
       "2               531102                         D                     CA   \n",
       "3               531102                         D                     CA   \n",
       "4               531102                         D                     CA   \n",
       "\n",
       "  Target_Locations_STREET                        ...                          \\\n",
       "0          CALIFORNIA AVE                        ...                           \n",
       "1    GENERAL STILLWELL DR                        ...                           \n",
       "2                41ST AVE                        ...                           \n",
       "3                 MAIN ST                        ...                           \n",
       "4      STEVENS CREEK BLVD                        ...                           \n",
       "\n",
       "  overlayTemplate_VAL200K_CY overlayTemplate_VAL250K_CY  \\\n",
       "0                        200                        354   \n",
       "1                        137                        270   \n",
       "2                        372                        405   \n",
       "3                        456                        449   \n",
       "4                         43                         49   \n",
       "\n",
       "   overlayTemplate_VAL300K_CY  overlayTemplate_VAL400K_CY  \\\n",
       "0                         934                         693   \n",
       "1                        1043                         742   \n",
       "2                        1015                        1271   \n",
       "3                         870                         982   \n",
       "4                         211                         519   \n",
       "\n",
       "   overlayTemplate_VAL500K_CY  overlayTemplate_VAL50K_CY  \\\n",
       "0                        1976                         81   \n",
       "1                        1612                         81   \n",
       "2                        4018                        261   \n",
       "3                        1211                        197   \n",
       "4                        2823                        110   \n",
       "\n",
       "   overlayTemplate_VAL750K_CY  overlayTemplate_WHITE_CY  \\\n",
       "0                        1012                     23576   \n",
       "1                         588                     21068   \n",
       "2                        2452                     41050   \n",
       "3                         293                     19905   \n",
       "4                        7694                     41689   \n",
       "\n",
       "   overlayTemplate_WIDOWED_CY  \\\n",
       "0                        1902   \n",
       "1                        1500   \n",
       "2                        2524   \n",
       "3                        1323   \n",
       "4                        5226   \n",
       "\n",
       "                                               SHAPE  \n",
       "0  {'x': -13563500.716724824, 'y': 4386409.918831...  \n",
       "1  {'x': -13559960.756917607, 'y': 4392875.237199...  \n",
       "2  {'x': -13577092.826550681, 'y': 4435664.48477165}  \n",
       "3  {'x': -13555819.671860088, 'y': 4427321.189443...  \n",
       "4  {'x': -13585007.642346086, 'y': 4484238.960603...  \n",
       "\n",
       "[5 rows x 161 columns]"
      ]
     },
     "execution_count": 6,
     "metadata": {},
     "output_type": "execute_result"
    }
   ],
   "source": [
    "data_frame = feature_set.df\n",
    "data_frame.head()"
   ]
  },
  {
   "cell_type": "markdown",
   "metadata": {},
   "source": [
    "# Save dependent and independent variable names as Python variables\n",
    "\n",
    "Use a quick list comprehension to create a list of field names to be used as independent variables."
   ]
  },
  {
   "cell_type": "code",
   "execution_count": 7,
   "metadata": {},
   "outputs": [
    {
     "name": "stdout",
     "output_type": "stream",
     "text": [
      "['overlayTemplate_TOTPOP_CY', 'overlayTemplate_HHPOP_CY', 'overlayTemplate_FAMPOP_CY', 'overlayTemplate_GQPOP_CY', 'overlayTemplate_POPDENS_CY', 'overlayTemplate_TOTHH_CY', 'overlayTemplate_AVGHHSZ_CY', 'overlayTemplate_FAMHH_CY', 'overlayTemplate_AVGFMSZ_CY', 'overlayTemplate_TOTHU_CY', 'overlayTemplate_OWNER_CY', 'overlayTemplate_RENTER_CY', 'overlayTemplate_VACANT_CY', 'overlayTemplate_POPGRW10CY', 'overlayTemplate_HHGRW10CY', 'overlayTemplate_FAMGRW10CY', 'overlayTemplate_NOHS_CY', 'overlayTemplate_SOMEHS_CY', 'overlayTemplate_HSGRAD_CY', 'overlayTemplate_GED_CY', 'overlayTemplate_SMCOLL_CY', 'overlayTemplate_ASSCDEG_CY', 'overlayTemplate_BACHDEG_CY', 'overlayTemplate_GRADDEG_CY', 'overlayTemplate_NEVMARR_CY', 'overlayTemplate_MARRIED_CY', 'overlayTemplate_WIDOWED_CY', 'overlayTemplate_DIVORCD_CY', 'overlayTemplate_WHITE_CY', 'overlayTemplate_BLACK_CY', 'overlayTemplate_AMERIND_CY', 'overlayTemplate_ASIAN_CY', 'overlayTemplate_PACIFIC_CY', 'overlayTemplate_OTHRACE_CY', 'overlayTemplate_RACE2UP_CY', 'overlayTemplate_HISPPOP_CY', 'overlayTemplate_HISPWHT_CY', 'overlayTemplate_HISPBLK_CY', 'overlayTemplate_HISPAI_CY', 'overlayTemplate_HISPASN_CY', 'overlayTemplate_HISPPI_CY', 'overlayTemplate_HISPOTH_CY', 'overlayTemplate_HISPMLT_CY', 'overlayTemplate_NONHISP_CY', 'overlayTemplate_NHSPWHT_CY', 'overlayTemplate_NHSPBLK_CY', 'overlayTemplate_NHSPAI_CY', 'overlayTemplate_NHSPASN_CY', 'overlayTemplate_NHSPPI_CY', 'overlayTemplate_NHSPOTH_CY', 'overlayTemplate_NHSPMLT_CY', 'overlayTemplate_MINORITYCY', 'overlayTemplate_DIVINDX_CY', 'overlayTemplate_HINC0_CY', 'overlayTemplate_HINC15_CY', 'overlayTemplate_HINC25_CY', 'overlayTemplate_HINC35_CY', 'overlayTemplate_HINC50_CY', 'overlayTemplate_HINC75_CY', 'overlayTemplate_HINC100_CY', 'overlayTemplate_HINC150_CY', 'overlayTemplate_HINC200_CY', 'overlayTemplate_MEDHINC_CY', 'overlayTemplate_AVGHINC_CY', 'overlayTemplate_PCI_CY', 'overlayTemplate_DI0_CY', 'overlayTemplate_DI15_CY', 'overlayTemplate_DI25_CY', 'overlayTemplate_DI35_CY', 'overlayTemplate_DI50_CY', 'overlayTemplate_DI75_CY', 'overlayTemplate_DI100_CY', 'overlayTemplate_DI150_CY', 'overlayTemplate_DI200_CY', 'overlayTemplate_AGGDI_CY', 'overlayTemplate_MEDDI_CY', 'overlayTemplate_AVGDI_CY', 'overlayTemplate_NW0_CY', 'overlayTemplate_NW15_CY', 'overlayTemplate_NW35_CY', 'overlayTemplate_NW50_CY', 'overlayTemplate_NW75_CY', 'overlayTemplate_NW100_CY', 'overlayTemplate_NW150_CY', 'overlayTemplate_NW250_CY', 'overlayTemplate_NW500_CY', 'overlayTemplate_AGGNW_CY', 'overlayTemplate_MEDNW_CY', 'overlayTemplate_AVGNW_CY', 'overlayTemplate_VAL0_CY', 'overlayTemplate_VAL50K_CY', 'overlayTemplate_VAL100K_CY', 'overlayTemplate_VAL150K_CY', 'overlayTemplate_VAL200K_CY', 'overlayTemplate_VAL250K_CY', 'overlayTemplate_VAL300K_CY', 'overlayTemplate_VAL400K_CY', 'overlayTemplate_VAL500K_CY', 'overlayTemplate_VAL750K_CY', 'overlayTemplate_VAL1M_CY', 'overlayTemplate_MEDVAL_CY', 'overlayTemplate_AVGVAL_CY', 'overlayTemplate_CIVLBFR_CY', 'overlayTemplate_EMP_CY', 'overlayTemplate_INDAGRI_CY', 'overlayTemplate_INDMIN_CY', 'overlayTemplate_INDCONS_CY', 'overlayTemplate_INDMANU_CY', 'overlayTemplate_INDWHTR_CY', 'overlayTemplate_INDRTTR_CY', 'overlayTemplate_INDTRAN_CY', 'overlayTemplate_INDUTIL_CY', 'overlayTemplate_INDINFO_CY', 'overlayTemplate_INDFIN_CY', 'overlayTemplate_INDRE_CY', 'overlayTemplate_INDTECH_CY', 'overlayTemplate_INDMGMT_CY', 'overlayTemplate_INDADMN_CY', 'overlayTemplate_INDEDUC_CY', 'overlayTemplate_INDHLTH_CY', 'overlayTemplate_INDARTS_CY', 'overlayTemplate_INDFOOD_CY', 'overlayTemplate_INDOTSV_CY', 'overlayTemplate_INDPUBL_CY', 'overlayTemplate_UNEMP_CY', 'overlayTemplate_UNEMPRT_CY', 'overlayTemplate_OCCMGMT_CY', 'overlayTemplate_OCCBUS_CY', 'overlayTemplate_OCCCOMP_CY', 'overlayTemplate_OCCARCH_CY', 'overlayTemplate_OCCSSCI_CY', 'overlayTemplate_OCCSSRV_CY', 'overlayTemplate_OCCLEGL_CY', 'overlayTemplate_OCCEDUC_CY', 'overlayTemplate_OCCENT_CY', 'overlayTemplate_OCCHTCH_CY', 'overlayTemplate_OCCHLTH_CY', 'overlayTemplate_OCCPROT_CY', 'overlayTemplate_OCCFOOD_CY', 'overlayTemplate_OCCBLDG_CY', 'overlayTemplate_OCCPERS_CY', 'overlayTemplate_OCCSALE_CY', 'overlayTemplate_OCCADMN_CY', 'overlayTemplate_OCCFARM_CY', 'overlayTemplate_OCCCONS_CY', 'overlayTemplate_OCCMAIN_CY', 'overlayTemplate_OCCPROD_CY', 'overlayTemplate_OCCTRAN_CY']\n"
     ]
    }
   ],
   "source": [
    "field_name_independent_list = [field['name'] for field in feature_set.fields if \n",
    "    field['type'] != 'esriFieldTypeOID' and  # we don't need the Esri object identifier field\n",
    "    field['name'].startswith('Shape_') == False and  # exclude the Esri shape fields\n",
    "    (field['type'] == 'esriFieldTypeInteger' or field['type'] == 'esriFieldTypeDouble') and  # ensure numeric, quantatative, fields are the only fields used\n",
    "    'SALESVOL' not in field['name']   # exclude the dependent variable\n",
    "]\n",
    "print(field_name_independent_list)"
   ]
  },
  {
   "cell_type": "markdown",
   "metadata": {},
   "source": [
    "Also, save the name of the dependent variable field as well."
   ]
  },
  {
   "cell_type": "code",
   "execution_count": 8,
   "metadata": {},
   "outputs": [
    {
     "data": {
      "text/plain": [
       "'Target_Locations_SALESVOL'"
      ]
     },
     "execution_count": 8,
     "metadata": {},
     "output_type": "execute_result"
    }
   ],
   "source": [
    "field_name_dependent = [field['name'] for field in feature_set.fields if 'SALESVOL' in field['name']][0]\n",
    "field_name_dependent"
   ]
  },
  {
   "cell_type": "markdown",
   "metadata": {},
   "source": [
    "# Store Segmentation Using KMeans Clustering"
   ]
  },
  {
   "cell_type": "markdown",
   "metadata": {},
   "source": [
    "Use KMeans cluster analysis from the Sci-Kit Learn package to segment the demographically similar stores together."
   ]
  },
  {
   "cell_type": "code",
   "execution_count": 9,
   "metadata": {
    "collapsed": true
   },
   "outputs": [],
   "source": [
    "from sklearn.cluster import KMeans"
   ]
  },
  {
   "cell_type": "markdown",
   "metadata": {},
   "source": [
    "Create the KMeans clusterer, specifying it to create five clusters, or segments."
   ]
  },
  {
   "cell_type": "code",
   "execution_count": 10,
   "metadata": {
    "collapsed": true
   },
   "outputs": [],
   "source": [
    "kmcluster = KMeans(n_clusters=5)"
   ]
  },
  {
   "cell_type": "markdown",
   "metadata": {},
   "source": [
    "Use the `fit_predict` method to create the clusters."
   ]
  },
  {
   "cell_type": "code",
   "execution_count": 11,
   "metadata": {
    "collapsed": true
   },
   "outputs": [],
   "source": [
    "data_frame['segment'] = kmcluster.fit_predict(data_frame[field_name_independent_list])"
   ]
  },
  {
   "cell_type": "markdown",
   "metadata": {},
   "source": [
    "Now, take a look at a few descriptive metrics to begin to understand the results."
   ]
  },
  {
   "cell_type": "code",
   "execution_count": 12,
   "metadata": {},
   "outputs": [],
   "source": [
    "df_count = data_frame.segment.value_counts().reset_index().rename(columns={'index': 'segment', 'segment': 'count'})\n",
    "df_mean = data_frame.groupby('segment').mean()[field_name_dependent].reset_index().rename(\n",
    "    columns={'segment': 'segment', field_name_dependent: 'mean_sales'})\n",
    "df_median = data_frame.groupby('segment').median()[field_name_dependent].reset_index().rename(\n",
    "    columns={'segment': 'segment', field_name_dependent: 'median_sales'})"
   ]
  },
  {
   "cell_type": "code",
   "execution_count": 13,
   "metadata": {},
   "outputs": [
    {
     "data": {
      "text/html": [
       "<div>\n",
       "<style>\n",
       "    .dataframe thead tr:only-child th {\n",
       "        text-align: right;\n",
       "    }\n",
       "\n",
       "    .dataframe thead th {\n",
       "        text-align: left;\n",
       "    }\n",
       "\n",
       "    .dataframe tbody tr th {\n",
       "        vertical-align: top;\n",
       "    }\n",
       "</style>\n",
       "<table border=\"1\" class=\"dataframe\">\n",
       "  <thead>\n",
       "    <tr style=\"text-align: right;\">\n",
       "      <th></th>\n",
       "      <th>segment</th>\n",
       "      <th>count</th>\n",
       "      <th>mean_sales</th>\n",
       "      <th>median_sales</th>\n",
       "    </tr>\n",
       "  </thead>\n",
       "  <tbody>\n",
       "    <tr>\n",
       "      <th>4</th>\n",
       "      <td>3</td>\n",
       "      <td>52</td>\n",
       "      <td>45732.500000</td>\n",
       "      <td>42130.5</td>\n",
       "    </tr>\n",
       "    <tr>\n",
       "      <th>3</th>\n",
       "      <td>2</td>\n",
       "      <td>208</td>\n",
       "      <td>40657.115385</td>\n",
       "      <td>35495.0</td>\n",
       "    </tr>\n",
       "    <tr>\n",
       "      <th>2</th>\n",
       "      <td>0</td>\n",
       "      <td>360</td>\n",
       "      <td>38065.166667</td>\n",
       "      <td>35495.0</td>\n",
       "    </tr>\n",
       "    <tr>\n",
       "      <th>1</th>\n",
       "      <td>4</td>\n",
       "      <td>536</td>\n",
       "      <td>34590.748134</td>\n",
       "      <td>33751.0</td>\n",
       "    </tr>\n",
       "    <tr>\n",
       "      <th>0</th>\n",
       "      <td>1</td>\n",
       "      <td>652</td>\n",
       "      <td>31391.226994</td>\n",
       "      <td>32268.0</td>\n",
       "    </tr>\n",
       "  </tbody>\n",
       "</table>\n",
       "</div>"
      ],
      "text/plain": [
       "   segment  count    mean_sales  median_sales\n",
       "4        3     52  45732.500000       42130.5\n",
       "3        2    208  40657.115385       35495.0\n",
       "2        0    360  38065.166667       35495.0\n",
       "1        4    536  34590.748134       33751.0\n",
       "0        1    652  31391.226994       32268.0"
      ]
     },
     "execution_count": 13,
     "metadata": {},
     "output_type": "execute_result"
    }
   ],
   "source": [
    "df_summary = df_count.join(df_mean, on='segment', rsuffix='mean').join(\n",
    "    df_median, on='segment', rsuffix='median').sort_values('mean_sales', ascending=False).drop(\n",
    "    ['segmentmean', 'segmentmedian'], axis=1)\n",
    "df_summary"
   ]
  },
  {
   "cell_type": "code",
   "execution_count": 14,
   "metadata": {},
   "outputs": [
    {
     "data": {
      "text/html": [
       "<div>\n",
       "<style>\n",
       "    .dataframe thead tr:only-child th {\n",
       "        text-align: right;\n",
       "    }\n",
       "\n",
       "    .dataframe thead th {\n",
       "        text-align: left;\n",
       "    }\n",
       "\n",
       "    .dataframe tbody tr th {\n",
       "        vertical-align: top;\n",
       "    }\n",
       "</style>\n",
       "<table border=\"1\" class=\"dataframe\">\n",
       "  <thead>\n",
       "    <tr style=\"text-align: right;\">\n",
       "      <th></th>\n",
       "      <th>OBJECTID</th>\n",
       "      <th>Target_Locations_CITY</th>\n",
       "      <th>Target_Locations_CONAME</th>\n",
       "      <th>Target_Locations_LOCNUM</th>\n",
       "      <th>Target_Locations_NAICS</th>\n",
       "      <th>Target_Locations_SALESVOL</th>\n",
       "      <th>Target_Locations_SIC</th>\n",
       "      <th>Target_Locations_SQFTCODE</th>\n",
       "      <th>Target_Locations_STATE</th>\n",
       "      <th>Target_Locations_STREET</th>\n",
       "      <th>...</th>\n",
       "      <th>overlayTemplate_VAL250K_CY</th>\n",
       "      <th>overlayTemplate_VAL300K_CY</th>\n",
       "      <th>overlayTemplate_VAL400K_CY</th>\n",
       "      <th>overlayTemplate_VAL500K_CY</th>\n",
       "      <th>overlayTemplate_VAL50K_CY</th>\n",
       "      <th>overlayTemplate_VAL750K_CY</th>\n",
       "      <th>overlayTemplate_WHITE_CY</th>\n",
       "      <th>overlayTemplate_WIDOWED_CY</th>\n",
       "      <th>SHAPE</th>\n",
       "      <th>segment</th>\n",
       "    </tr>\n",
       "  </thead>\n",
       "  <tbody>\n",
       "    <tr>\n",
       "      <th>8</th>\n",
       "      <td>9</td>\n",
       "      <td>SAN JOSE</td>\n",
       "      <td>TARGET</td>\n",
       "      <td>435039879</td>\n",
       "      <td>45211101</td>\n",
       "      <td>35495</td>\n",
       "      <td>531102</td>\n",
       "      <td>D</td>\n",
       "      <td>CA</td>\n",
       "      <td>COTTLE RD</td>\n",
       "      <td>...</td>\n",
       "      <td>765</td>\n",
       "      <td>2517</td>\n",
       "      <td>4531</td>\n",
       "      <td>12939</td>\n",
       "      <td>862</td>\n",
       "      <td>2895</td>\n",
       "      <td>60248</td>\n",
       "      <td>3932</td>\n",
       "      <td>{'x': -13559148.12463481, 'y': 4473997.103413295}</td>\n",
       "      <td>2</td>\n",
       "    </tr>\n",
       "    <tr>\n",
       "      <th>10</th>\n",
       "      <td>11</td>\n",
       "      <td>SANTA CLARA</td>\n",
       "      <td>TARGET</td>\n",
       "      <td>706082503</td>\n",
       "      <td>45211101</td>\n",
       "      <td>35495</td>\n",
       "      <td>531102</td>\n",
       "      <td>D</td>\n",
       "      <td>CA</td>\n",
       "      <td>EL CAMINO REAL</td>\n",
       "      <td>...</td>\n",
       "      <td>234</td>\n",
       "      <td>1024</td>\n",
       "      <td>2219</td>\n",
       "      <td>11352</td>\n",
       "      <td>143</td>\n",
       "      <td>5843</td>\n",
       "      <td>64144</td>\n",
       "      <td>4600</td>\n",
       "      <td>{'x': -13576591.888842113, 'y': 4488327.293081...</td>\n",
       "      <td>2</td>\n",
       "    </tr>\n",
       "    <tr>\n",
       "      <th>13</th>\n",
       "      <td>14</td>\n",
       "      <td>SAN JOSE</td>\n",
       "      <td>TARGET</td>\n",
       "      <td>230020265</td>\n",
       "      <td>45211101</td>\n",
       "      <td>59158</td>\n",
       "      <td>531102</td>\n",
       "      <td>D</td>\n",
       "      <td>CA</td>\n",
       "      <td>SILVER CREEK RD</td>\n",
       "      <td>...</td>\n",
       "      <td>1079</td>\n",
       "      <td>3609</td>\n",
       "      <td>4905</td>\n",
       "      <td>9288</td>\n",
       "      <td>951</td>\n",
       "      <td>2819</td>\n",
       "      <td>45850</td>\n",
       "      <td>6138</td>\n",
       "      <td>{'x': -13560116.604204714, 'y': 4482083.425111...</td>\n",
       "      <td>2</td>\n",
       "    </tr>\n",
       "    <tr>\n",
       "      <th>19</th>\n",
       "      <td>20</td>\n",
       "      <td>SAN BRUNO</td>\n",
       "      <td>TARGET</td>\n",
       "      <td>988513198</td>\n",
       "      <td>45211101</td>\n",
       "      <td>118317</td>\n",
       "      <td>531102</td>\n",
       "      <td>D</td>\n",
       "      <td>CA</td>\n",
       "      <td>EL CAMINO REAL</td>\n",
       "      <td>...</td>\n",
       "      <td>485</td>\n",
       "      <td>1276</td>\n",
       "      <td>1917</td>\n",
       "      <td>9866</td>\n",
       "      <td>129</td>\n",
       "      <td>5783</td>\n",
       "      <td>43606</td>\n",
       "      <td>6359</td>\n",
       "      <td>{'x': -13627620.743421752, 'y': 4528258.185799...</td>\n",
       "      <td>2</td>\n",
       "    </tr>\n",
       "    <tr>\n",
       "      <th>21</th>\n",
       "      <td>22</td>\n",
       "      <td>FOSTER CITY</td>\n",
       "      <td>TARGET</td>\n",
       "      <td>974408171</td>\n",
       "      <td>45211101</td>\n",
       "      <td>47327</td>\n",
       "      <td>531102</td>\n",
       "      <td>C</td>\n",
       "      <td>CA</td>\n",
       "      <td>BRIDGEPOINTE PKWY</td>\n",
       "      <td>...</td>\n",
       "      <td>140</td>\n",
       "      <td>539</td>\n",
       "      <td>1035</td>\n",
       "      <td>6319</td>\n",
       "      <td>77</td>\n",
       "      <td>5222</td>\n",
       "      <td>42560</td>\n",
       "      <td>3881</td>\n",
       "      <td>{'x': -13612570.348266501, 'y': 4517495.816248...</td>\n",
       "      <td>2</td>\n",
       "    </tr>\n",
       "  </tbody>\n",
       "</table>\n",
       "<p>5 rows × 162 columns</p>\n",
       "</div>"
      ],
      "text/plain": [
       "    OBJECTID Target_Locations_CITY Target_Locations_CONAME  \\\n",
       "8          9              SAN JOSE                  TARGET   \n",
       "10        11           SANTA CLARA                  TARGET   \n",
       "13        14              SAN JOSE                  TARGET   \n",
       "19        20             SAN BRUNO                  TARGET   \n",
       "21        22           FOSTER CITY                  TARGET   \n",
       "\n",
       "   Target_Locations_LOCNUM Target_Locations_NAICS  Target_Locations_SALESVOL  \\\n",
       "8                435039879               45211101                      35495   \n",
       "10               706082503               45211101                      35495   \n",
       "13               230020265               45211101                      59158   \n",
       "19               988513198               45211101                     118317   \n",
       "21               974408171               45211101                      47327   \n",
       "\n",
       "   Target_Locations_SIC Target_Locations_SQFTCODE Target_Locations_STATE  \\\n",
       "8                531102                         D                     CA   \n",
       "10               531102                         D                     CA   \n",
       "13               531102                         D                     CA   \n",
       "19               531102                         D                     CA   \n",
       "21               531102                         C                     CA   \n",
       "\n",
       "   Target_Locations_STREET   ...    overlayTemplate_VAL250K_CY  \\\n",
       "8                COTTLE RD   ...                           765   \n",
       "10          EL CAMINO REAL   ...                           234   \n",
       "13         SILVER CREEK RD   ...                          1079   \n",
       "19          EL CAMINO REAL   ...                           485   \n",
       "21       BRIDGEPOINTE PKWY   ...                           140   \n",
       "\n",
       "   overlayTemplate_VAL300K_CY  overlayTemplate_VAL400K_CY  \\\n",
       "8                        2517                        4531   \n",
       "10                       1024                        2219   \n",
       "13                       3609                        4905   \n",
       "19                       1276                        1917   \n",
       "21                        539                        1035   \n",
       "\n",
       "    overlayTemplate_VAL500K_CY  overlayTemplate_VAL50K_CY  \\\n",
       "8                        12939                        862   \n",
       "10                       11352                        143   \n",
       "13                        9288                        951   \n",
       "19                        9866                        129   \n",
       "21                        6319                         77   \n",
       "\n",
       "    overlayTemplate_VAL750K_CY  overlayTemplate_WHITE_CY  \\\n",
       "8                         2895                     60248   \n",
       "10                        5843                     64144   \n",
       "13                        2819                     45850   \n",
       "19                        5783                     43606   \n",
       "21                        5222                     42560   \n",
       "\n",
       "    overlayTemplate_WIDOWED_CY  \\\n",
       "8                         3932   \n",
       "10                        4600   \n",
       "13                        6138   \n",
       "19                        6359   \n",
       "21                        3881   \n",
       "\n",
       "                                                SHAPE  segment  \n",
       "8   {'x': -13559148.12463481, 'y': 4473997.103413295}        2  \n",
       "10  {'x': -13576591.888842113, 'y': 4488327.293081...        2  \n",
       "13  {'x': -13560116.604204714, 'y': 4482083.425111...        2  \n",
       "19  {'x': -13627620.743421752, 'y': 4528258.185799...        2  \n",
       "21  {'x': -13612570.348266501, 'y': 4517495.816248...        2  \n",
       "\n",
       "[5 rows x 162 columns]"
      ]
     },
     "execution_count": 14,
     "metadata": {},
     "output_type": "execute_result"
    }
   ],
   "source": [
    "df_top_performing = data_frame[data_frame.segment == 2]\n",
    "df_top_performing.head()"
   ]
  },
  {
   "cell_type": "markdown",
   "metadata": {},
   "source": [
    "# Map Results\n",
    "\n",
    "I am trying to visualize the data results. For some stupid reason, I cannot seem to get anything to show up. Both the map and the data frame data are both in Web Mercator, so it is not the spatial reference...so I'm really confused."
   ]
  },
  {
   "cell_type": "code",
   "execution_count": 15,
   "metadata": {},
   "outputs": [],
   "source": [
    "store_map = gis_retail.map('USA')"
   ]
  },
  {
   "cell_type": "code",
   "execution_count": 16,
   "metadata": {
    "collapsed": true
   },
   "outputs": [],
   "source": [
    "top_performing_feature_set = arcgis.features.FeatureSet.from_dataframe(df_top_performing)"
   ]
  },
  {
   "cell_type": "code",
   "execution_count": 19,
   "metadata": {},
   "outputs": [],
   "source": [
    "store_map.draw(top_performing_feature_set, symbol={\"type\": \"esriSMS\",\"style\": \"esriSMSCircle\", \"size\": 8})"
   ]
  },
  {
   "cell_type": "code",
   "execution_count": 20,
   "metadata": {},
   "outputs": [
    {
     "data": {
      "application/vnd.jupyter.widget-view+json": {
       "model_id": "7fdadfcc0cf04c4fa4267dc09afb2c40"
      }
     },
     "metadata": {},
     "output_type": "display_data"
    }
   ],
   "source": [
    "store_map"
   ]
  },
  {
   "cell_type": "code",
   "execution_count": null,
   "metadata": {
    "collapsed": true
   },
   "outputs": [],
   "source": []
  }
 ],
 "metadata": {
  "kernelspec": {
   "display_name": "Python 3",
   "language": "python",
   "name": "python3"
  },
  "language_info": {
   "codemirror_mode": {
    "name": "ipython",
    "version": 3
   },
   "file_extension": ".py",
   "mimetype": "text/x-python",
   "name": "python",
   "nbconvert_exporter": "python",
   "pygments_lexer": "ipython3",
   "version": "3.5.3"
  }
 },
 "nbformat": 4,
 "nbformat_minor": 2
}

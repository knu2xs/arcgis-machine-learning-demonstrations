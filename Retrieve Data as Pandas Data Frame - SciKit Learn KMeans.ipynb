{
 "cells": [
  {
   "cell_type": "markdown",
   "metadata": {},
   "source": [
    "## Note: Increased IOPub\n",
    "For visualization, if you did not start this notebook with an increased data rate limit, stop the notebook, go back to the command line, and start Jupyter Notebook using the following command.\n",
    "\n",
    "`jupyter notebook --NotebookApp.iopub_data_rate_limit=10000000000`"
   ]
  },
  {
   "cell_type": "markdown",
   "metadata": {},
   "source": [
    "# Import the Python API module and Instantiate the GIS object\n",
    "\n",
    "Import the Python API"
   ]
  },
  {
   "cell_type": "code",
   "execution_count": 1,
   "metadata": {
    "collapsed": true
   },
   "outputs": [],
   "source": [
    "import arcgis\n",
    "from getpass import getpass"
   ]
  },
  {
   "cell_type": "markdown",
   "metadata": {},
   "source": [
    "Create an GIS object instance using the [account currently logged in through ArcGIS Pro](https://developers.arcgis.com/python/guide/working-with-different-authentication-schemes/#ArcGIS-Pro-user-connecting-to-the-active-portal-in-the-Pro-app)"
   ]
  },
  {
   "cell_type": "code",
   "execution_count": 2,
   "metadata": {},
   "outputs": [
    {
     "name": "stdout",
     "output_type": "stream",
     "text": [
      "Please enter your password: ········\n"
     ]
    }
   ],
   "source": [
    "#gis_retail = arcgis.gis.GIS('Pro')  # optional, use if can use ArcGIS Pro authentication\n",
    "gis_retail = arcgis.gis.GIS(\n",
    "    username='jmccune_retail',  # change this to your username \n",
    "    password=getpass('Please enter your password: ')\n",
    ")"
   ]
  },
  {
   "cell_type": "markdown",
   "metadata": {},
   "source": [
    "# Get a Data Frame, data to work with, from the Web GIS Item ID\n",
    "\n",
    "Create a [Web GIS Item](http://esri.github.io/arcgis-python-api/apidoc/html/arcgis.gis.toc.html#item) instance using the Item ID"
   ]
  },
  {
   "cell_type": "code",
   "execution_count": 3,
   "metadata": {},
   "outputs": [
    {
     "data": {
      "text/html": [
       "<div class=\"item_container\" style=\"height: auto; overflow: hidden; border: 1px solid #cfcfcf; border-radius: 2px; background: #f6fafa; line-height: 1.21429em; padding: 10px;\">\n",
       "                    <div class=\"item_left\" style=\"width: 210px; float: left;\">\n",
       "                       <a href='http://commteamretail.maps.arcgis.com/home/item.html?id=44c0b666404c41b8a14e04c34d09be1e' target='_blank'>\n",
       "                        <img src='http://static.arcgis.com/images/desktopapp.png' class=\"itemThumbnail\">\n",
       "                       </a>\n",
       "                    </div>\n",
       "\n",
       "                    <div class=\"item_right\"     style=\"float: none; width: auto; overflow: hidden;\">\n",
       "                        <a href='http://commteamretail.maps.arcgis.com/home/item.html?id=44c0b666404c41b8a14e04c34d09be1e' target='_blank'><b>targetWithDemographics</b>\n",
       "                        </a>\n",
       "                        <br/>All same stores with huge variety of demographics associated with the locations.<img src='http://commteamretail.maps.arcgis.com/home/js/jsapi/esri/css/images/item_type_icons/featureshosted16.png' style=\"vertical-align:middle;\">Feature Layer Collection by joel5174@esri.com_commteamretail\n",
       "                        <br/>Last Modified: August 14, 2017\n",
       "                        <br/>0 comments, 4 views\n",
       "                    </div>\n",
       "                </div>\n",
       "                "
      ],
      "text/plain": [
       "<Item title:\"targetWithDemographics\" type:Feature Layer Collection owner:joel5174@esri.com_commteamretail>"
      ]
     },
     "execution_count": 3,
     "metadata": {},
     "output_type": "execute_result"
    }
   ],
   "source": [
    "trade_area_itemid = '44c0b666404c41b8a14e04c34d09be1e'\n",
    "item = arcgis.gis.Item(gis=gis_retail, itemid=trade_area_itemid)\n",
    "item"
   ]
  },
  {
   "cell_type": "markdown",
   "metadata": {},
   "source": [
    "Since the item only contains one feature layer, get the first layer in the item, the [Feature Layer](http://esri.github.io/arcgis-python-api/apidoc/html/arcgis.features.toc.html#featurelayer) we need to work with."
   ]
  },
  {
   "cell_type": "code",
   "execution_count": 4,
   "metadata": {},
   "outputs": [
    {
     "data": {
      "text/plain": [
       "<FeatureLayer url:\"https://services.arcgis.com/PMTtzuTB6WiPuNSv/arcgis/rest/services/targetWithDemographics/FeatureServer/0\">"
      ]
     },
     "execution_count": 4,
     "metadata": {},
     "output_type": "execute_result"
    }
   ],
   "source": [
    "feature_layer = item.layers[0]\n",
    "feature_layer"
   ]
  },
  {
   "cell_type": "markdown",
   "metadata": {},
   "source": [
    "Use [query](http://esri.github.io/arcgis-python-api/apidoc/html/arcgis.features.toc.html#arcgis.features.FeatureLayer.query) to return the data as a [Feature Set](http://esri.github.io/arcgis-python-api/apidoc/html/arcgis.features.toc.html#featureset)."
   ]
  },
  {
   "cell_type": "code",
   "execution_count": 5,
   "metadata": {
    "collapsed": true
   },
   "outputs": [],
   "source": [
    "feature_set = feature_layer.query()"
   ]
  },
  {
   "cell_type": "markdown",
   "metadata": {},
   "source": [
    "Take advantage of the [`df` function](http://esri.github.io/arcgis-python-api/apidoc/html/arcgis.features.toc.html#arcgis.features.FeatureSet.df) on the Feature set object returned from the query to convert the data to a [Pandas Data Frame](https://pandas.pydata.org/pandas-docs/stable/generated/pandas.DataFrame.html)."
   ]
  },
  {
   "cell_type": "code",
   "execution_count": 6,
   "metadata": {
    "scrolled": true
   },
   "outputs": [
    {
     "data": {
      "text/html": [
       "<div>\n",
       "<style>\n",
       "    .dataframe thead tr:only-child th {\n",
       "        text-align: right;\n",
       "    }\n",
       "\n",
       "    .dataframe thead th {\n",
       "        text-align: left;\n",
       "    }\n",
       "\n",
       "    .dataframe tbody tr th {\n",
       "        vertical-align: top;\n",
       "    }\n",
       "</style>\n",
       "<table border=\"1\" class=\"dataframe\">\n",
       "  <thead>\n",
       "    <tr style=\"text-align: right;\">\n",
       "      <th></th>\n",
       "      <th>OBJECTID</th>\n",
       "      <th>Target_Locations_CITY</th>\n",
       "      <th>Target_Locations_CONAME</th>\n",
       "      <th>Target_Locations_LOCNUM</th>\n",
       "      <th>Target_Locations_NAICS</th>\n",
       "      <th>Target_Locations_SALESVOL</th>\n",
       "      <th>Target_Locations_SIC</th>\n",
       "      <th>Target_Locations_SQFTCODE</th>\n",
       "      <th>Target_Locations_STATE</th>\n",
       "      <th>Target_Locations_STREET</th>\n",
       "      <th>...</th>\n",
       "      <th>overlayTemplate_VAL200K_CY</th>\n",
       "      <th>overlayTemplate_VAL250K_CY</th>\n",
       "      <th>overlayTemplate_VAL300K_CY</th>\n",
       "      <th>overlayTemplate_VAL400K_CY</th>\n",
       "      <th>overlayTemplate_VAL500K_CY</th>\n",
       "      <th>overlayTemplate_VAL50K_CY</th>\n",
       "      <th>overlayTemplate_VAL750K_CY</th>\n",
       "      <th>overlayTemplate_WHITE_CY</th>\n",
       "      <th>overlayTemplate_WIDOWED_CY</th>\n",
       "      <th>SHAPE</th>\n",
       "    </tr>\n",
       "  </thead>\n",
       "  <tbody>\n",
       "    <tr>\n",
       "      <th>0</th>\n",
       "      <td>1</td>\n",
       "      <td>SEASIDE</td>\n",
       "      <td>TARGET</td>\n",
       "      <td>666990510</td>\n",
       "      <td>45211101</td>\n",
       "      <td>35495</td>\n",
       "      <td>531102</td>\n",
       "      <td>D</td>\n",
       "      <td>CA</td>\n",
       "      <td>CALIFORNIA AVE</td>\n",
       "      <td>...</td>\n",
       "      <td>200</td>\n",
       "      <td>354</td>\n",
       "      <td>934</td>\n",
       "      <td>693</td>\n",
       "      <td>1976</td>\n",
       "      <td>81</td>\n",
       "      <td>1012</td>\n",
       "      <td>23576</td>\n",
       "      <td>1902</td>\n",
       "      <td>{'y': 4386409.918831829, 'x': -13563500.716724...</td>\n",
       "    </tr>\n",
       "    <tr>\n",
       "      <th>1</th>\n",
       "      <td>2</td>\n",
       "      <td>MARINA</td>\n",
       "      <td>TARGET</td>\n",
       "      <td>653371815</td>\n",
       "      <td>45211101</td>\n",
       "      <td>35495</td>\n",
       "      <td>531102</td>\n",
       "      <td>D</td>\n",
       "      <td>CA</td>\n",
       "      <td>GENERAL STILLWELL DR</td>\n",
       "      <td>...</td>\n",
       "      <td>137</td>\n",
       "      <td>270</td>\n",
       "      <td>1043</td>\n",
       "      <td>742</td>\n",
       "      <td>1612</td>\n",
       "      <td>81</td>\n",
       "      <td>588</td>\n",
       "      <td>21068</td>\n",
       "      <td>1500</td>\n",
       "      <td>{'y': 4392875.237199519, 'x': -13559960.756917...</td>\n",
       "    </tr>\n",
       "    <tr>\n",
       "      <th>2</th>\n",
       "      <td>3</td>\n",
       "      <td>CAPITOLA</td>\n",
       "      <td>TARGET</td>\n",
       "      <td>423468472</td>\n",
       "      <td>45211101</td>\n",
       "      <td>35495</td>\n",
       "      <td>531102</td>\n",
       "      <td>D</td>\n",
       "      <td>CA</td>\n",
       "      <td>41ST AVE</td>\n",
       "      <td>...</td>\n",
       "      <td>372</td>\n",
       "      <td>405</td>\n",
       "      <td>1015</td>\n",
       "      <td>1271</td>\n",
       "      <td>4018</td>\n",
       "      <td>261</td>\n",
       "      <td>2452</td>\n",
       "      <td>41050</td>\n",
       "      <td>2524</td>\n",
       "      <td>{'y': 4435664.48477165, 'x': -13577092.826550681}</td>\n",
       "    </tr>\n",
       "    <tr>\n",
       "      <th>3</th>\n",
       "      <td>4</td>\n",
       "      <td>WATSONVILLE</td>\n",
       "      <td>TARGET</td>\n",
       "      <td>511743478</td>\n",
       "      <td>45211101</td>\n",
       "      <td>35495</td>\n",
       "      <td>531102</td>\n",
       "      <td>D</td>\n",
       "      <td>CA</td>\n",
       "      <td>MAIN ST</td>\n",
       "      <td>...</td>\n",
       "      <td>456</td>\n",
       "      <td>449</td>\n",
       "      <td>870</td>\n",
       "      <td>982</td>\n",
       "      <td>1211</td>\n",
       "      <td>197</td>\n",
       "      <td>293</td>\n",
       "      <td>19905</td>\n",
       "      <td>1323</td>\n",
       "      <td>{'y': 4427321.189443219, 'x': -13555819.671860...</td>\n",
       "    </tr>\n",
       "    <tr>\n",
       "      <th>4</th>\n",
       "      <td>5</td>\n",
       "      <td>CUPERTINO</td>\n",
       "      <td>TARGET</td>\n",
       "      <td>404459478</td>\n",
       "      <td>45211101</td>\n",
       "      <td>52059</td>\n",
       "      <td>531102</td>\n",
       "      <td>D</td>\n",
       "      <td>CA</td>\n",
       "      <td>STEVENS CREEK BLVD</td>\n",
       "      <td>...</td>\n",
       "      <td>43</td>\n",
       "      <td>49</td>\n",
       "      <td>211</td>\n",
       "      <td>519</td>\n",
       "      <td>2823</td>\n",
       "      <td>110</td>\n",
       "      <td>7694</td>\n",
       "      <td>41689</td>\n",
       "      <td>5226</td>\n",
       "      <td>{'y': 4484238.960603427, 'x': -13585007.642346...</td>\n",
       "    </tr>\n",
       "  </tbody>\n",
       "</table>\n",
       "<p>5 rows × 161 columns</p>\n",
       "</div>"
      ],
      "text/plain": [
       "   OBJECTID Target_Locations_CITY Target_Locations_CONAME  \\\n",
       "0         1               SEASIDE                  TARGET   \n",
       "1         2                MARINA                  TARGET   \n",
       "2         3              CAPITOLA                  TARGET   \n",
       "3         4           WATSONVILLE                  TARGET   \n",
       "4         5             CUPERTINO                  TARGET   \n",
       "\n",
       "  Target_Locations_LOCNUM Target_Locations_NAICS  Target_Locations_SALESVOL  \\\n",
       "0               666990510               45211101                      35495   \n",
       "1               653371815               45211101                      35495   \n",
       "2               423468472               45211101                      35495   \n",
       "3               511743478               45211101                      35495   \n",
       "4               404459478               45211101                      52059   \n",
       "\n",
       "  Target_Locations_SIC Target_Locations_SQFTCODE Target_Locations_STATE  \\\n",
       "0               531102                         D                     CA   \n",
       "1               531102                         D                     CA   \n",
       "2               531102                         D                     CA   \n",
       "3               531102                         D                     CA   \n",
       "4               531102                         D                     CA   \n",
       "\n",
       "  Target_Locations_STREET                        ...                          \\\n",
       "0          CALIFORNIA AVE                        ...                           \n",
       "1    GENERAL STILLWELL DR                        ...                           \n",
       "2                41ST AVE                        ...                           \n",
       "3                 MAIN ST                        ...                           \n",
       "4      STEVENS CREEK BLVD                        ...                           \n",
       "\n",
       "  overlayTemplate_VAL200K_CY overlayTemplate_VAL250K_CY  \\\n",
       "0                        200                        354   \n",
       "1                        137                        270   \n",
       "2                        372                        405   \n",
       "3                        456                        449   \n",
       "4                         43                         49   \n",
       "\n",
       "   overlayTemplate_VAL300K_CY  overlayTemplate_VAL400K_CY  \\\n",
       "0                         934                         693   \n",
       "1                        1043                         742   \n",
       "2                        1015                        1271   \n",
       "3                         870                         982   \n",
       "4                         211                         519   \n",
       "\n",
       "   overlayTemplate_VAL500K_CY  overlayTemplate_VAL50K_CY  \\\n",
       "0                        1976                         81   \n",
       "1                        1612                         81   \n",
       "2                        4018                        261   \n",
       "3                        1211                        197   \n",
       "4                        2823                        110   \n",
       "\n",
       "   overlayTemplate_VAL750K_CY  overlayTemplate_WHITE_CY  \\\n",
       "0                        1012                     23576   \n",
       "1                         588                     21068   \n",
       "2                        2452                     41050   \n",
       "3                         293                     19905   \n",
       "4                        7694                     41689   \n",
       "\n",
       "   overlayTemplate_WIDOWED_CY  \\\n",
       "0                        1902   \n",
       "1                        1500   \n",
       "2                        2524   \n",
       "3                        1323   \n",
       "4                        5226   \n",
       "\n",
       "                                               SHAPE  \n",
       "0  {'y': 4386409.918831829, 'x': -13563500.716724...  \n",
       "1  {'y': 4392875.237199519, 'x': -13559960.756917...  \n",
       "2  {'y': 4435664.48477165, 'x': -13577092.826550681}  \n",
       "3  {'y': 4427321.189443219, 'x': -13555819.671860...  \n",
       "4  {'y': 4484238.960603427, 'x': -13585007.642346...  \n",
       "\n",
       "[5 rows x 161 columns]"
      ]
     },
     "execution_count": 6,
     "metadata": {},
     "output_type": "execute_result"
    }
   ],
   "source": [
    "df = feature_set.df\n",
    "df.head()"
   ]
  },
  {
   "cell_type": "markdown",
   "metadata": {},
   "source": [
    "Because I am neurotic, and hate the prefixes added to the field names from the join when preparing the data in ArcMap, we are cleaning them up a little here."
   ]
  },
  {
   "cell_type": "code",
   "execution_count": 7,
   "metadata": {},
   "outputs": [
    {
     "data": {
      "text/html": [
       "<div>\n",
       "<style>\n",
       "    .dataframe thead tr:only-child th {\n",
       "        text-align: right;\n",
       "    }\n",
       "\n",
       "    .dataframe thead th {\n",
       "        text-align: left;\n",
       "    }\n",
       "\n",
       "    .dataframe tbody tr th {\n",
       "        vertical-align: top;\n",
       "    }\n",
       "</style>\n",
       "<table border=\"1\" class=\"dataframe\">\n",
       "  <thead>\n",
       "    <tr style=\"text-align: right;\">\n",
       "      <th></th>\n",
       "      <th>OBJECTID</th>\n",
       "      <th>CITY</th>\n",
       "      <th>CONAME</th>\n",
       "      <th>LOCNUM</th>\n",
       "      <th>NAICS</th>\n",
       "      <th>SALESVOL</th>\n",
       "      <th>SIC</th>\n",
       "      <th>SQFTCODE</th>\n",
       "      <th>STATE</th>\n",
       "      <th>STREET</th>\n",
       "      <th>...</th>\n",
       "      <th>VAL200K_CY</th>\n",
       "      <th>VAL250K_CY</th>\n",
       "      <th>VAL300K_CY</th>\n",
       "      <th>VAL400K_CY</th>\n",
       "      <th>VAL500K_CY</th>\n",
       "      <th>VAL50K_CY</th>\n",
       "      <th>VAL750K_CY</th>\n",
       "      <th>WHITE_CY</th>\n",
       "      <th>WIDOWED_CY</th>\n",
       "      <th>SHAPE</th>\n",
       "    </tr>\n",
       "  </thead>\n",
       "  <tbody>\n",
       "    <tr>\n",
       "      <th>0</th>\n",
       "      <td>1</td>\n",
       "      <td>SEASIDE</td>\n",
       "      <td>TARGET</td>\n",
       "      <td>666990510</td>\n",
       "      <td>45211101</td>\n",
       "      <td>35495</td>\n",
       "      <td>531102</td>\n",
       "      <td>D</td>\n",
       "      <td>CA</td>\n",
       "      <td>CALIFORNIA AVE</td>\n",
       "      <td>...</td>\n",
       "      <td>200</td>\n",
       "      <td>354</td>\n",
       "      <td>934</td>\n",
       "      <td>693</td>\n",
       "      <td>1976</td>\n",
       "      <td>81</td>\n",
       "      <td>1012</td>\n",
       "      <td>23576</td>\n",
       "      <td>1902</td>\n",
       "      <td>{'y': 4386409.918831829, 'x': -13563500.716724...</td>\n",
       "    </tr>\n",
       "    <tr>\n",
       "      <th>1</th>\n",
       "      <td>2</td>\n",
       "      <td>MARINA</td>\n",
       "      <td>TARGET</td>\n",
       "      <td>653371815</td>\n",
       "      <td>45211101</td>\n",
       "      <td>35495</td>\n",
       "      <td>531102</td>\n",
       "      <td>D</td>\n",
       "      <td>CA</td>\n",
       "      <td>GENERAL STILLWELL DR</td>\n",
       "      <td>...</td>\n",
       "      <td>137</td>\n",
       "      <td>270</td>\n",
       "      <td>1043</td>\n",
       "      <td>742</td>\n",
       "      <td>1612</td>\n",
       "      <td>81</td>\n",
       "      <td>588</td>\n",
       "      <td>21068</td>\n",
       "      <td>1500</td>\n",
       "      <td>{'y': 4392875.237199519, 'x': -13559960.756917...</td>\n",
       "    </tr>\n",
       "    <tr>\n",
       "      <th>2</th>\n",
       "      <td>3</td>\n",
       "      <td>CAPITOLA</td>\n",
       "      <td>TARGET</td>\n",
       "      <td>423468472</td>\n",
       "      <td>45211101</td>\n",
       "      <td>35495</td>\n",
       "      <td>531102</td>\n",
       "      <td>D</td>\n",
       "      <td>CA</td>\n",
       "      <td>41ST AVE</td>\n",
       "      <td>...</td>\n",
       "      <td>372</td>\n",
       "      <td>405</td>\n",
       "      <td>1015</td>\n",
       "      <td>1271</td>\n",
       "      <td>4018</td>\n",
       "      <td>261</td>\n",
       "      <td>2452</td>\n",
       "      <td>41050</td>\n",
       "      <td>2524</td>\n",
       "      <td>{'y': 4435664.48477165, 'x': -13577092.826550681}</td>\n",
       "    </tr>\n",
       "    <tr>\n",
       "      <th>3</th>\n",
       "      <td>4</td>\n",
       "      <td>WATSONVILLE</td>\n",
       "      <td>TARGET</td>\n",
       "      <td>511743478</td>\n",
       "      <td>45211101</td>\n",
       "      <td>35495</td>\n",
       "      <td>531102</td>\n",
       "      <td>D</td>\n",
       "      <td>CA</td>\n",
       "      <td>MAIN ST</td>\n",
       "      <td>...</td>\n",
       "      <td>456</td>\n",
       "      <td>449</td>\n",
       "      <td>870</td>\n",
       "      <td>982</td>\n",
       "      <td>1211</td>\n",
       "      <td>197</td>\n",
       "      <td>293</td>\n",
       "      <td>19905</td>\n",
       "      <td>1323</td>\n",
       "      <td>{'y': 4427321.189443219, 'x': -13555819.671860...</td>\n",
       "    </tr>\n",
       "    <tr>\n",
       "      <th>4</th>\n",
       "      <td>5</td>\n",
       "      <td>CUPERTINO</td>\n",
       "      <td>TARGET</td>\n",
       "      <td>404459478</td>\n",
       "      <td>45211101</td>\n",
       "      <td>52059</td>\n",
       "      <td>531102</td>\n",
       "      <td>D</td>\n",
       "      <td>CA</td>\n",
       "      <td>STEVENS CREEK BLVD</td>\n",
       "      <td>...</td>\n",
       "      <td>43</td>\n",
       "      <td>49</td>\n",
       "      <td>211</td>\n",
       "      <td>519</td>\n",
       "      <td>2823</td>\n",
       "      <td>110</td>\n",
       "      <td>7694</td>\n",
       "      <td>41689</td>\n",
       "      <td>5226</td>\n",
       "      <td>{'y': 4484238.960603427, 'x': -13585007.642346...</td>\n",
       "    </tr>\n",
       "  </tbody>\n",
       "</table>\n",
       "<p>5 rows × 161 columns</p>\n",
       "</div>"
      ],
      "text/plain": [
       "   OBJECTID         CITY  CONAME     LOCNUM     NAICS  SALESVOL     SIC  \\\n",
       "0         1      SEASIDE  TARGET  666990510  45211101     35495  531102   \n",
       "1         2       MARINA  TARGET  653371815  45211101     35495  531102   \n",
       "2         3     CAPITOLA  TARGET  423468472  45211101     35495  531102   \n",
       "3         4  WATSONVILLE  TARGET  511743478  45211101     35495  531102   \n",
       "4         5    CUPERTINO  TARGET  404459478  45211101     52059  531102   \n",
       "\n",
       "  SQFTCODE STATE                STREET  \\\n",
       "0        D    CA        CALIFORNIA AVE   \n",
       "1        D    CA  GENERAL STILLWELL DR   \n",
       "2        D    CA              41ST AVE   \n",
       "3        D    CA               MAIN ST   \n",
       "4        D    CA    STEVENS CREEK BLVD   \n",
       "\n",
       "                         ...                         VAL200K_CY VAL250K_CY  \\\n",
       "0                        ...                                200        354   \n",
       "1                        ...                                137        270   \n",
       "2                        ...                                372        405   \n",
       "3                        ...                                456        449   \n",
       "4                        ...                                 43         49   \n",
       "\n",
       "   VAL300K_CY  VAL400K_CY  VAL500K_CY  VAL50K_CY  VAL750K_CY  WHITE_CY  \\\n",
       "0         934         693        1976         81        1012     23576   \n",
       "1        1043         742        1612         81         588     21068   \n",
       "2        1015        1271        4018        261        2452     41050   \n",
       "3         870         982        1211        197         293     19905   \n",
       "4         211         519        2823        110        7694     41689   \n",
       "\n",
       "   WIDOWED_CY                                              SHAPE  \n",
       "0        1902  {'y': 4386409.918831829, 'x': -13563500.716724...  \n",
       "1        1500  {'y': 4392875.237199519, 'x': -13559960.756917...  \n",
       "2        2524  {'y': 4435664.48477165, 'x': -13577092.826550681}  \n",
       "3        1323  {'y': 4427321.189443219, 'x': -13555819.671860...  \n",
       "4        5226  {'y': 4484238.960603427, 'x': -13585007.642346...  \n",
       "\n",
       "[5 rows x 161 columns]"
      ]
     },
     "execution_count": 7,
     "metadata": {},
     "output_type": "execute_result"
    }
   ],
   "source": [
    "df.columns = [field.replace('Target_Locations_', '').replace('overlayTemplate_', '') for field in df.columns]\n",
    "df.head()"
   ]
  },
  {
   "cell_type": "markdown",
   "metadata": {},
   "source": [
    "# Store Segmentation Using KMeans Clustering"
   ]
  },
  {
   "cell_type": "markdown",
   "metadata": {},
   "source": [
    "Use KMeans cluster analysis from the Sci-Kit Learn package to segment the demographically similar stores together."
   ]
  },
  {
   "cell_type": "code",
   "execution_count": 21,
   "metadata": {
    "collapsed": true
   },
   "outputs": [],
   "source": [
    "from sklearn.cluster import KMeans\n",
    "import pandas as pd\n",
    "import numpy as np\n",
    "\n",
    "%matplotlib inline"
   ]
  },
  {
   "cell_type": "markdown",
   "metadata": {},
   "source": [
    "Create the KMeans clusterer, specifying it to create five clusters, or segments."
   ]
  },
  {
   "cell_type": "code",
   "execution_count": 22,
   "metadata": {
    "collapsed": true
   },
   "outputs": [],
   "source": [
    "km = KMeans(n_clusters=5)"
   ]
  },
  {
   "cell_type": "markdown",
   "metadata": {},
   "source": [
    "Use the `fit_predict` method to create the clusters using just the numeric fields - not including the OID and sales fields."
   ]
  },
  {
   "cell_type": "code",
   "execution_count": 23,
   "metadata": {},
   "outputs": [],
   "source": [
    "df_independent = df.select_dtypes(include=[np.number]).drop(['OBJECTID', 'SALESVOL'], axis=1)\n",
    "fields_independent = df_independent.columns  # save for later\n",
    "field_name_dependent = 'SALESVOL' # keep track of this as well"
   ]
  },
  {
   "cell_type": "code",
   "execution_count": 24,
   "metadata": {
    "collapsed": true
   },
   "outputs": [],
   "source": [
    "df['segment'] = km.fit_predict(df.select_dtypes(include=[np.number]).drop(['OBJECTID', 'SALESVOL'], axis=1))"
   ]
  },
  {
   "cell_type": "markdown",
   "metadata": {},
   "source": [
    "# Investigate the Results\n",
    "\n",
    "Now, take a look at a few descriptive metrics to begin to understand the results - initially by creating a data frame with the segments, mean sales for each segment, median sales for each segment, and the median sales for each segment."
   ]
  },
  {
   "cell_type": "code",
   "execution_count": 25,
   "metadata": {},
   "outputs": [],
   "source": [
    "df_count = df.segment.value_counts().reset_index().rename(columns={'index': 'segment', 'segment': 'count'})\n",
    "df_mean = df.groupby('segment').mean()[field_name_dependent].reset_index().rename(\n",
    "    columns={'segment': 'segment', field_name_dependent: 'mean_sales'})\n",
    "df_median = df.groupby('segment').median()[field_name_dependent].reset_index().rename(\n",
    "    columns={'segment': 'segment', field_name_dependent: 'median_sales'})"
   ]
  },
  {
   "cell_type": "code",
   "execution_count": 26,
   "metadata": {},
   "outputs": [
    {
     "name": "stdout",
     "output_type": "stream",
     "text": [
      "Sales Mean: 35147.10\n",
      "Sales Standard Deviation: 17891.99\n"
     ]
    },
    {
     "data": {
      "text/html": [
       "<div>\n",
       "<style>\n",
       "    .dataframe thead tr:only-child th {\n",
       "        text-align: right;\n",
       "    }\n",
       "\n",
       "    .dataframe thead th {\n",
       "        text-align: left;\n",
       "    }\n",
       "\n",
       "    .dataframe tbody tr th {\n",
       "        vertical-align: top;\n",
       "    }\n",
       "</style>\n",
       "<table border=\"1\" class=\"dataframe\">\n",
       "  <thead>\n",
       "    <tr style=\"text-align: right;\">\n",
       "      <th></th>\n",
       "      <th>segment</th>\n",
       "      <th>count</th>\n",
       "      <th>mean_sales</th>\n",
       "      <th>median_sales</th>\n",
       "      <th>mean_sales_zscore</th>\n",
       "    </tr>\n",
       "  </thead>\n",
       "  <tbody>\n",
       "    <tr>\n",
       "      <th>4</th>\n",
       "      <td>3</td>\n",
       "      <td>60</td>\n",
       "      <td>45022.900000</td>\n",
       "      <td>43313.5</td>\n",
       "      <td>0.552121</td>\n",
       "    </tr>\n",
       "    <tr>\n",
       "      <th>3</th>\n",
       "      <td>0</td>\n",
       "      <td>206</td>\n",
       "      <td>40630.970874</td>\n",
       "      <td>35495.0</td>\n",
       "      <td>0.306584</td>\n",
       "    </tr>\n",
       "    <tr>\n",
       "      <th>2</th>\n",
       "      <td>2</td>\n",
       "      <td>358</td>\n",
       "      <td>38072.988827</td>\n",
       "      <td>35495.0</td>\n",
       "      <td>0.163576</td>\n",
       "    </tr>\n",
       "    <tr>\n",
       "      <th>1</th>\n",
       "      <td>4</td>\n",
       "      <td>534</td>\n",
       "      <td>34568.792135</td>\n",
       "      <td>33751.0</td>\n",
       "      <td>-0.032331</td>\n",
       "    </tr>\n",
       "    <tr>\n",
       "      <th>0</th>\n",
       "      <td>1</td>\n",
       "      <td>650</td>\n",
       "      <td>31361.126154</td>\n",
       "      <td>32268.0</td>\n",
       "      <td>-0.211660</td>\n",
       "    </tr>\n",
       "  </tbody>\n",
       "</table>\n",
       "</div>"
      ],
      "text/plain": [
       "   segment  count    mean_sales  median_sales  mean_sales_zscore\n",
       "4        3     60  45022.900000       43313.5           0.552121\n",
       "3        0    206  40630.970874       35495.0           0.306584\n",
       "2        2    358  38072.988827       35495.0           0.163576\n",
       "1        4    534  34568.792135       33751.0          -0.032331\n",
       "0        1    650  31361.126154       32268.0          -0.211660"
      ]
     },
     "execution_count": 26,
     "metadata": {},
     "output_type": "execute_result"
    }
   ],
   "source": [
    "df_summary = pd.merge(df_count, df_mean)\n",
    "df_summary = pd.merge(df_summary, df_median)\n",
    "df_summary = df_summary.sort_values('mean_sales', ascending=False)\n",
    "df_summary['mean_sales_zscore'] = df_summary.apply(lambda row: (row.mean_sales - df.SALESVOL.mean()) / df.SALESVOL.std(ddof=0), axis=1)\n",
    "print('Sales Mean: {:.2f}\\nSales Standard Deviation: {:.2f}'.format(df.SALESVOL.mean(), df.SALESVOL.std()))\n",
    "df_summary"
   ]
  },
  {
   "cell_type": "markdown",
   "metadata": {},
   "source": [
    "Now, using data from this data frame, visualize the means of each segment against the mean, and one-half standard deviation above and below the mean."
   ]
  },
  {
   "cell_type": "code",
   "execution_count": 27,
   "metadata": {},
   "outputs": [
    {
     "data": {
      "text/plain": [
       "<matplotlib.lines.Line2D at 0x10e37cc88>"
      ]
     },
     "execution_count": 27,
     "metadata": {},
     "output_type": "execute_result"
    },
    {
     "data": {
      "image/png": "[encoded data removed]",
      "text/plain": [
       "<matplotlib.figure.Figure at 0x10e2cc128>"
      ]
     },
     "metadata": {},
     "output_type": "display_data"
    }
   ],
   "source": [
    "ax = df_summary.sort_values('mean_sales').plot.bar(y='mean_sales', x='segment', figsize=(15, 8))\n",
    "ax.set_ylabel('mean sales')\n",
    "ax.set_title('Mean Sales by KMeans Segment')\n",
    "\n",
    "ax.axhline(y=df.SALESVOL.mean(), color='r') # add the mean for reference\n",
    "ax.axhline(y=df.SALESVOL.mean() - df.SALESVOL.std() * 0.5, color='g')\n",
    "ax.axhline(y=df.SALESVOL.mean() + df.SALESVOL.std() * 0.5, color='g')"
   ]
  },
  {
   "cell_type": "markdown",
   "metadata": {},
   "source": [
    "Get a data frame of the respective segment feature coefficients."
   ]
  },
  {
   "cell_type": "markdown",
   "metadata": {},
   "source": [
    "# Map Results"
   ]
  },
  {
   "cell_type": "markdown",
   "metadata": {},
   "source": [
    "For mapping, for the sake of discussion, we are focusing on the top performing stores - the 51 stores in the top segment."
   ]
  },
  {
   "cell_type": "code",
   "execution_count": 28,
   "metadata": {},
   "outputs": [
    {
     "data": {
      "text/plain": [
       "3.0"
      ]
     },
     "execution_count": 28,
     "metadata": {},
     "output_type": "execute_result"
    }
   ],
   "source": [
    "top_segment = df_summary.iloc[0].segment\n",
    "top_segment"
   ]
  },
  {
   "cell_type": "code",
   "execution_count": 29,
   "metadata": {},
   "outputs": [
    {
     "data": {
      "text/html": [
       "<div>\n",
       "<style>\n",
       "    .dataframe thead tr:only-child th {\n",
       "        text-align: right;\n",
       "    }\n",
       "\n",
       "    .dataframe thead th {\n",
       "        text-align: left;\n",
       "    }\n",
       "\n",
       "    .dataframe tbody tr th {\n",
       "        vertical-align: top;\n",
       "    }\n",
       "</style>\n",
       "<table border=\"1\" class=\"dataframe\">\n",
       "  <thead>\n",
       "    <tr style=\"text-align: right;\">\n",
       "      <th></th>\n",
       "      <th>OBJECTID</th>\n",
       "      <th>CITY</th>\n",
       "      <th>CONAME</th>\n",
       "      <th>LOCNUM</th>\n",
       "      <th>NAICS</th>\n",
       "      <th>SALESVOL</th>\n",
       "      <th>SIC</th>\n",
       "      <th>SQFTCODE</th>\n",
       "      <th>STATE</th>\n",
       "      <th>STREET</th>\n",
       "      <th>...</th>\n",
       "      <th>VAL250K_CY</th>\n",
       "      <th>VAL300K_CY</th>\n",
       "      <th>VAL400K_CY</th>\n",
       "      <th>VAL500K_CY</th>\n",
       "      <th>VAL50K_CY</th>\n",
       "      <th>VAL750K_CY</th>\n",
       "      <th>WHITE_CY</th>\n",
       "      <th>WIDOWED_CY</th>\n",
       "      <th>SHAPE</th>\n",
       "      <th>segment</th>\n",
       "    </tr>\n",
       "  </thead>\n",
       "  <tbody>\n",
       "    <tr>\n",
       "      <th>4</th>\n",
       "      <td>5</td>\n",
       "      <td>CUPERTINO</td>\n",
       "      <td>TARGET</td>\n",
       "      <td>404459478</td>\n",
       "      <td>45211101</td>\n",
       "      <td>52059</td>\n",
       "      <td>531102</td>\n",
       "      <td>D</td>\n",
       "      <td>CA</td>\n",
       "      <td>STEVENS CREEK BLVD</td>\n",
       "      <td>...</td>\n",
       "      <td>49</td>\n",
       "      <td>211</td>\n",
       "      <td>519</td>\n",
       "      <td>2823</td>\n",
       "      <td>110</td>\n",
       "      <td>7694</td>\n",
       "      <td>41689</td>\n",
       "      <td>5226</td>\n",
       "      <td>{'y': 4484238.960603427, 'x': -13585007.642346...</td>\n",
       "      <td>3</td>\n",
       "    </tr>\n",
       "    <tr>\n",
       "      <th>5</th>\n",
       "      <td>6</td>\n",
       "      <td>SAN JOSE</td>\n",
       "      <td>TARGET</td>\n",
       "      <td>373128867</td>\n",
       "      <td>45211101</td>\n",
       "      <td>84715</td>\n",
       "      <td>531102</td>\n",
       "      <td>D</td>\n",
       "      <td>CA</td>\n",
       "      <td>SARATOGA AVE</td>\n",
       "      <td>...</td>\n",
       "      <td>84</td>\n",
       "      <td>408</td>\n",
       "      <td>1002</td>\n",
       "      <td>7996</td>\n",
       "      <td>136</td>\n",
       "      <td>10636</td>\n",
       "      <td>70131</td>\n",
       "      <td>6289</td>\n",
       "      <td>{'y': 4479998.294713166, 'x': -13579942.605514...</td>\n",
       "      <td>3</td>\n",
       "    </tr>\n",
       "    <tr>\n",
       "      <th>6</th>\n",
       "      <td>7</td>\n",
       "      <td>SUNNYVALE</td>\n",
       "      <td>TARGET</td>\n",
       "      <td>402344537</td>\n",
       "      <td>45211101</td>\n",
       "      <td>35495</td>\n",
       "      <td>531102</td>\n",
       "      <td>D</td>\n",
       "      <td>CA</td>\n",
       "      <td>W MC KINLEY AVE</td>\n",
       "      <td>...</td>\n",
       "      <td>179</td>\n",
       "      <td>874</td>\n",
       "      <td>1620</td>\n",
       "      <td>6575</td>\n",
       "      <td>351</td>\n",
       "      <td>7622</td>\n",
       "      <td>54321</td>\n",
       "      <td>4554</td>\n",
       "      <td>{'y': 4491324.546614874, 'x': -13584573.496331...</td>\n",
       "      <td>3</td>\n",
       "    </tr>\n",
       "    <tr>\n",
       "      <th>7</th>\n",
       "      <td>8</td>\n",
       "      <td>SAN JOSE</td>\n",
       "      <td>TARGET</td>\n",
       "      <td>637354200</td>\n",
       "      <td>45211101</td>\n",
       "      <td>35495</td>\n",
       "      <td>531102</td>\n",
       "      <td>D</td>\n",
       "      <td>CA</td>\n",
       "      <td>BLOSSOM HILL RD</td>\n",
       "      <td>...</td>\n",
       "      <td>730</td>\n",
       "      <td>2347</td>\n",
       "      <td>4110</td>\n",
       "      <td>16914</td>\n",
       "      <td>847</td>\n",
       "      <td>8664</td>\n",
       "      <td>95636</td>\n",
       "      <td>6032</td>\n",
       "      <td>{'y': 4474081.01258884, 'x': -13565548.995355422}</td>\n",
       "      <td>3</td>\n",
       "    </tr>\n",
       "    <tr>\n",
       "      <th>9</th>\n",
       "      <td>10</td>\n",
       "      <td>SAN JOSE</td>\n",
       "      <td>TARGET</td>\n",
       "      <td>230021602</td>\n",
       "      <td>45211101</td>\n",
       "      <td>70990</td>\n",
       "      <td>531102</td>\n",
       "      <td>D</td>\n",
       "      <td>CA</td>\n",
       "      <td>HILLSDALE AVE</td>\n",
       "      <td>...</td>\n",
       "      <td>310</td>\n",
       "      <td>994</td>\n",
       "      <td>2572</td>\n",
       "      <td>15838</td>\n",
       "      <td>284</td>\n",
       "      <td>11823</td>\n",
       "      <td>105854</td>\n",
       "      <td>6740</td>\n",
       "      <td>{'y': 4475857.246924702, 'x': -13571860.810483...</td>\n",
       "      <td>3</td>\n",
       "    </tr>\n",
       "  </tbody>\n",
       "</table>\n",
       "<p>5 rows × 162 columns</p>\n",
       "</div>"
      ],
      "text/plain": [
       "   OBJECTID       CITY  CONAME     LOCNUM     NAICS  SALESVOL     SIC  \\\n",
       "4         5  CUPERTINO  TARGET  404459478  45211101     52059  531102   \n",
       "5         6   SAN JOSE  TARGET  373128867  45211101     84715  531102   \n",
       "6         7  SUNNYVALE  TARGET  402344537  45211101     35495  531102   \n",
       "7         8   SAN JOSE  TARGET  637354200  45211101     35495  531102   \n",
       "9        10   SAN JOSE  TARGET  230021602  45211101     70990  531102   \n",
       "\n",
       "  SQFTCODE STATE              STREET   ...    VAL250K_CY VAL300K_CY  \\\n",
       "4        D    CA  STEVENS CREEK BLVD   ...            49        211   \n",
       "5        D    CA        SARATOGA AVE   ...            84        408   \n",
       "6        D    CA     W MC KINLEY AVE   ...           179        874   \n",
       "7        D    CA     BLOSSOM HILL RD   ...           730       2347   \n",
       "9        D    CA       HILLSDALE AVE   ...           310        994   \n",
       "\n",
       "   VAL400K_CY  VAL500K_CY  VAL50K_CY  VAL750K_CY  WHITE_CY  WIDOWED_CY  \\\n",
       "4         519        2823        110        7694     41689        5226   \n",
       "5        1002        7996        136       10636     70131        6289   \n",
       "6        1620        6575        351        7622     54321        4554   \n",
       "7        4110       16914        847        8664     95636        6032   \n",
       "9        2572       15838        284       11823    105854        6740   \n",
       "\n",
       "                                               SHAPE  segment  \n",
       "4  {'y': 4484238.960603427, 'x': -13585007.642346...        3  \n",
       "5  {'y': 4479998.294713166, 'x': -13579942.605514...        3  \n",
       "6  {'y': 4491324.546614874, 'x': -13584573.496331...        3  \n",
       "7  {'y': 4474081.01258884, 'x': -13565548.995355422}        3  \n",
       "9  {'y': 4475857.246924702, 'x': -13571860.810483...        3  \n",
       "\n",
       "[5 rows x 162 columns]"
      ]
     },
     "execution_count": 29,
     "metadata": {},
     "output_type": "execute_result"
    }
   ],
   "source": [
    "df_top_performing = df[df.segment == top_segment]\n",
    "df_top_performing.head()"
   ]
  },
  {
   "cell_type": "markdown",
   "metadata": {},
   "source": [
    "I am trying to visualize the data results using two methods. First is creating a map widget, creating a feauture set from the data frame, and adding the feature set to the map widget. Second is using the plot method of the data frame to create the map widget with the data. Incidentally, neither actually works - so I am really confused."
   ]
  },
  {
   "cell_type": "code",
   "execution_count": 30,
   "metadata": {
    "collapsed": true
   },
   "outputs": [],
   "source": [
    "# create a map widget\n",
    "store_map = gis_retail.map('USA')"
   ]
  },
  {
   "cell_type": "code",
   "execution_count": 31,
   "metadata": {
    "collapsed": true
   },
   "outputs": [],
   "source": [
    "# create a feature set from the data frame\n",
    "top_performing_feature_set = arcgis.features.FeatureSet.from_dataframe(df_top_performing)"
   ]
  },
  {
   "cell_type": "code",
   "execution_count": 32,
   "metadata": {
    "collapsed": true
   },
   "outputs": [],
   "source": [
    "# draw the features on the map\n",
    "store_map.draw(top_performing_feature_set, symbol={\"type\": \"esriSMS\",\"style\": \"esriSMSCircle\", \"size\": 8})"
   ]
  },
  {
   "cell_type": "code",
   "execution_count": 33,
   "metadata": {},
   "outputs": [
    {
     "data": {
      "application/vnd.jupyter.widget-view+json": {
       "model_id": "7d5d9bb989424dbb80681ecb3fac8443"
      }
     },
     "metadata": {},
     "output_type": "display_data"
    }
   ],
   "source": [
    "# switch to the light gray basemap and show the map\n",
    "store_map.basemap = 'gray'\n",
    "store_map"
   ]
  },
  {
   "cell_type": "code",
   "execution_count": 34,
   "metadata": {},
   "outputs": [
    {
     "data": {
      "application/vnd.jupyter.widget-view+json": {
       "model_id": "98f9c211e9964058bdd6128a57c0d868"
      }
     },
     "metadata": {},
     "output_type": "display_data"
    }
   ],
   "source": [
    "# use the plot method and see what happens...nothing...wonderful\n",
    "alt_map = df_top_performing.plot()\n",
    "alt_map.basemap = 'gray'\n",
    "alt_map"
   ]
  },
  {
   "cell_type": "markdown",
   "metadata": {
    "collapsed": true
   },
   "source": [
    "# PCA"
   ]
  },
  {
   "cell_type": "code",
   "execution_count": 40,
   "metadata": {
    "collapsed": true
   },
   "outputs": [],
   "source": [
    "from sklearn.decomposition import PCA\n",
    "import matplotlib.pyplot as plt"
   ]
  },
  {
   "cell_type": "code",
   "execution_count": 41,
   "metadata": {
    "collapsed": true
   },
   "outputs": [],
   "source": [
    "pca = PCA(n_components=2)"
   ]
  },
  {
   "cell_type": "code",
   "execution_count": 42,
   "metadata": {
    "collapsed": true
   },
   "outputs": [],
   "source": [
    "df['x'] = pca.fit_transform(df[fields_independent])[:,0]"
   ]
  },
  {
   "cell_type": "code",
   "execution_count": 43,
   "metadata": {
    "collapsed": true
   },
   "outputs": [],
   "source": [
    "df['y'] = pca.fit_transform(df[fields_independent])[:,1]"
   ]
  },
  {
   "cell_type": "code",
   "execution_count": 44,
   "metadata": {},
   "outputs": [
    {
     "data": {
      "image/png": "[encoded data removed]",
      "text/plain": [
       "<matplotlib.figure.Figure at 0x10e5f4630>"
      ]
     },
     "metadata": {},
     "output_type": "display_data"
    }
   ],
   "source": [
    "ax = plt.scatter(data=df, x='x', y='y', c='segment')\n",
    "plt.show()"
   ]
  },
  {
   "cell_type": "code",
   "execution_count": null,
   "metadata": {
    "collapsed": true
   },
   "outputs": [],
   "source": []
  }
 ],
 "metadata": {
  "kernelspec": {
   "display_name": "Python 3",
   "language": "python",
   "name": "python3"
  },
  "language_info": {
   "codemirror_mode": {
    "name": "ipython",
    "version": 3
   },
   "file_extension": ".py",
   "mimetype": "text/x-python",
   "name": "python",
   "nbconvert_exporter": "python",
   "pygments_lexer": "ipython3",
   "version": "3.5.3"
  }
 },
 "nbformat": 4,
 "nbformat_minor": 2
}

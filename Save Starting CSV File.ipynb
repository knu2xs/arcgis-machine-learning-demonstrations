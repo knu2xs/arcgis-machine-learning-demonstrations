{
 "cells": [
  {
   "cell_type": "code",
   "execution_count": 2,
   "metadata": {
    "collapsed": true
   },
   "outputs": [],
   "source": [
    "import arcgis\n",
    "from getpass import getpass\n",
    "import pandas as pd"
   ]
  },
  {
   "cell_type": "code",
   "execution_count": 3,
   "metadata": {},
   "outputs": [
    {
     "name": "stdout",
     "output_type": "stream",
     "text": [
      "Please enter the headless password: ········\n"
     ]
    }
   ],
   "source": [
    "gis_coldbrew = arcgis.gis.GIS(\n",
    "    url='http://portal.coldbrew.esri.com/portal',\n",
    "    username='headless', \n",
    "    password=getpass('Please enter the headless password: ')\n",
    ")"
   ]
  },
  {
   "cell_type": "code",
   "execution_count": 4,
   "metadata": {},
   "outputs": [
    {
     "data": {
      "text/html": [
       "<div>\n",
       "<style>\n",
       "    .dataframe thead tr:only-child th {\n",
       "        text-align: right;\n",
       "    }\n",
       "\n",
       "    .dataframe thead th {\n",
       "        text-align: left;\n",
       "    }\n",
       "\n",
       "    .dataframe tbody tr th {\n",
       "        vertical-align: top;\n",
       "    }\n",
       "</style>\n",
       "<table border=\"1\" class=\"dataframe\">\n",
       "  <thead>\n",
       "    <tr style=\"text-align: right;\">\n",
       "      <th></th>\n",
       "      <th>Target_Locations_LOCNUM</th>\n",
       "      <th>Target_Locations_SALESVOL</th>\n",
       "      <th>SHAPE</th>\n",
       "    </tr>\n",
       "    <tr>\n",
       "      <th>OBJECTID</th>\n",
       "      <th></th>\n",
       "      <th></th>\n",
       "      <th></th>\n",
       "    </tr>\n",
       "  </thead>\n",
       "  <tbody>\n",
       "    <tr>\n",
       "      <th>1</th>\n",
       "      <td>666990510</td>\n",
       "      <td>35495</td>\n",
       "      <td>{'y': 36.62100000000007, 'x': -121.84299999999...</td>\n",
       "    </tr>\n",
       "    <tr>\n",
       "      <th>2</th>\n",
       "      <td>653371815</td>\n",
       "      <td>35495</td>\n",
       "      <td>{'y': 36.66760000000007, 'x': -121.81120000000...</td>\n",
       "    </tr>\n",
       "    <tr>\n",
       "      <th>3</th>\n",
       "      <td>423468472</td>\n",
       "      <td>35495</td>\n",
       "      <td>{'y': 36.9753000000001, 'x': -121.96509999999991}</td>\n",
       "    </tr>\n",
       "    <tr>\n",
       "      <th>4</th>\n",
       "      <td>511743478</td>\n",
       "      <td>35495</td>\n",
       "      <td>{'y': 36.91540000000002, 'x': -121.77399999999...</td>\n",
       "    </tr>\n",
       "    <tr>\n",
       "      <th>5</th>\n",
       "      <td>404459478</td>\n",
       "      <td>52059</td>\n",
       "      <td>{'y': 37.32310000000005, 'x': -122.03619999999...</td>\n",
       "    </tr>\n",
       "  </tbody>\n",
       "</table>\n",
       "</div>"
      ],
      "text/plain": [
       "         Target_Locations_LOCNUM  Target_Locations_SALESVOL  \\\n",
       "OBJECTID                                                      \n",
       "1                      666990510                      35495   \n",
       "2                      653371815                      35495   \n",
       "3                      423468472                      35495   \n",
       "4                      511743478                      35495   \n",
       "5                      404459478                      52059   \n",
       "\n",
       "                                                      SHAPE  \n",
       "OBJECTID                                                     \n",
       "1         {'y': 36.62100000000007, 'x': -121.84299999999...  \n",
       "2         {'y': 36.66760000000007, 'x': -121.81120000000...  \n",
       "3         {'y': 36.9753000000001, 'x': -121.96509999999991}  \n",
       "4         {'y': 36.91540000000002, 'x': -121.77399999999...  \n",
       "5         {'y': 37.32310000000005, 'x': -122.03619999999...  "
      ]
     },
     "execution_count": 4,
     "metadata": {},
     "output_type": "execute_result"
    }
   ],
   "source": [
    "store_item_id = 'beb8077b083448b5b2c69fc3bdfa3126'\n",
    "sdf = arcgis.gis.Item(gis_coldbrew, store_item_id).layers[0].query(\n",
    "    out_fields='OBJECTID, Target_Locations_LOCNUM, Target_Locations_SALESVOL, SHAPE').df.set_index('OBJECTID')\n",
    "sdf.head()"
   ]
  },
  {
   "cell_type": "code",
   "execution_count": 5,
   "metadata": {},
   "outputs": [
    {
     "data": {
      "text/html": [
       "<div>\n",
       "<style>\n",
       "    .dataframe thead tr:only-child th {\n",
       "        text-align: right;\n",
       "    }\n",
       "\n",
       "    .dataframe thead th {\n",
       "        text-align: left;\n",
       "    }\n",
       "\n",
       "    .dataframe tbody tr th {\n",
       "        vertical-align: top;\n",
       "    }\n",
       "</style>\n",
       "<table border=\"1\" class=\"dataframe\">\n",
       "  <thead>\n",
       "    <tr style=\"text-align: right;\">\n",
       "      <th></th>\n",
       "      <th>LOCNUM</th>\n",
       "      <th>SALESVOL</th>\n",
       "      <th>SHAPE</th>\n",
       "    </tr>\n",
       "    <tr>\n",
       "      <th>OBJECTID</th>\n",
       "      <th></th>\n",
       "      <th></th>\n",
       "      <th></th>\n",
       "    </tr>\n",
       "  </thead>\n",
       "  <tbody>\n",
       "    <tr>\n",
       "      <th>1</th>\n",
       "      <td>666990510</td>\n",
       "      <td>35495</td>\n",
       "      <td>{'y': 36.62100000000007, 'x': -121.84299999999...</td>\n",
       "    </tr>\n",
       "    <tr>\n",
       "      <th>2</th>\n",
       "      <td>653371815</td>\n",
       "      <td>35495</td>\n",
       "      <td>{'y': 36.66760000000007, 'x': -121.81120000000...</td>\n",
       "    </tr>\n",
       "    <tr>\n",
       "      <th>3</th>\n",
       "      <td>423468472</td>\n",
       "      <td>35495</td>\n",
       "      <td>{'y': 36.9753000000001, 'x': -121.96509999999991}</td>\n",
       "    </tr>\n",
       "    <tr>\n",
       "      <th>4</th>\n",
       "      <td>511743478</td>\n",
       "      <td>35495</td>\n",
       "      <td>{'y': 36.91540000000002, 'x': -121.77399999999...</td>\n",
       "    </tr>\n",
       "    <tr>\n",
       "      <th>5</th>\n",
       "      <td>404459478</td>\n",
       "      <td>52059</td>\n",
       "      <td>{'y': 37.32310000000005, 'x': -122.03619999999...</td>\n",
       "    </tr>\n",
       "  </tbody>\n",
       "</table>\n",
       "</div>"
      ],
      "text/plain": [
       "             LOCNUM  SALESVOL  \\\n",
       "OBJECTID                        \n",
       "1         666990510     35495   \n",
       "2         653371815     35495   \n",
       "3         423468472     35495   \n",
       "4         511743478     35495   \n",
       "5         404459478     52059   \n",
       "\n",
       "                                                      SHAPE  \n",
       "OBJECTID                                                     \n",
       "1         {'y': 36.62100000000007, 'x': -121.84299999999...  \n",
       "2         {'y': 36.66760000000007, 'x': -121.81120000000...  \n",
       "3         {'y': 36.9753000000001, 'x': -121.96509999999991}  \n",
       "4         {'y': 36.91540000000002, 'x': -121.77399999999...  \n",
       "5         {'y': 37.32310000000005, 'x': -122.03619999999...  "
      ]
     },
     "execution_count": 5,
     "metadata": {},
     "output_type": "execute_result"
    }
   ],
   "source": [
    "sdf = sdf.rename(columns={'Target_Locations_LOCNUM': 'LOCNUM', 'Target_Locations_SALESVOL': 'SALESVOL'})\n",
    "sdf.head()"
   ]
  },
  {
   "cell_type": "code",
   "execution_count": 6,
   "metadata": {
    "collapsed": true
   },
   "outputs": [],
   "source": [
    "sdf.to_csv('./store_locations_shp.csv')"
   ]
  },
  {
   "cell_type": "code",
   "execution_count": 6,
   "metadata": {},
   "outputs": [
    {
     "data": {
      "text/html": [
       "<div>\n",
       "<style>\n",
       "    .dataframe thead tr:only-child th {\n",
       "        text-align: right;\n",
       "    }\n",
       "\n",
       "    .dataframe thead th {\n",
       "        text-align: left;\n",
       "    }\n",
       "\n",
       "    .dataframe tbody tr th {\n",
       "        vertical-align: top;\n",
       "    }\n",
       "</style>\n",
       "<table border=\"1\" class=\"dataframe\">\n",
       "  <thead>\n",
       "    <tr style=\"text-align: right;\">\n",
       "      <th></th>\n",
       "      <th>LOCNUM</th>\n",
       "      <th>SALESVOL</th>\n",
       "      <th>X</th>\n",
       "      <th>Y</th>\n",
       "    </tr>\n",
       "    <tr>\n",
       "      <th>OBJECTID</th>\n",
       "      <th></th>\n",
       "      <th></th>\n",
       "      <th></th>\n",
       "      <th></th>\n",
       "    </tr>\n",
       "  </thead>\n",
       "  <tbody>\n",
       "    <tr>\n",
       "      <th>1</th>\n",
       "      <td>666990510</td>\n",
       "      <td>35495</td>\n",
       "      <td>-121.8430</td>\n",
       "      <td>36.6210</td>\n",
       "    </tr>\n",
       "    <tr>\n",
       "      <th>2</th>\n",
       "      <td>653371815</td>\n",
       "      <td>35495</td>\n",
       "      <td>-121.8112</td>\n",
       "      <td>36.6676</td>\n",
       "    </tr>\n",
       "    <tr>\n",
       "      <th>3</th>\n",
       "      <td>423468472</td>\n",
       "      <td>35495</td>\n",
       "      <td>-121.9651</td>\n",
       "      <td>36.9753</td>\n",
       "    </tr>\n",
       "    <tr>\n",
       "      <th>4</th>\n",
       "      <td>511743478</td>\n",
       "      <td>35495</td>\n",
       "      <td>-121.7740</td>\n",
       "      <td>36.9154</td>\n",
       "    </tr>\n",
       "    <tr>\n",
       "      <th>5</th>\n",
       "      <td>404459478</td>\n",
       "      <td>52059</td>\n",
       "      <td>-122.0362</td>\n",
       "      <td>37.3231</td>\n",
       "    </tr>\n",
       "  </tbody>\n",
       "</table>\n",
       "</div>"
      ],
      "text/plain": [
       "             LOCNUM  SALESVOL         X        Y\n",
       "OBJECTID                                        \n",
       "1         666990510     35495 -121.8430  36.6210\n",
       "2         653371815     35495 -121.8112  36.6676\n",
       "3         423468472     35495 -121.9651  36.9753\n",
       "4         511743478     35495 -121.7740  36.9154\n",
       "5         404459478     52059 -122.0362  37.3231"
      ]
     },
     "execution_count": 6,
     "metadata": {},
     "output_type": "execute_result"
    }
   ],
   "source": [
    "sdf['X'] = sdf.apply(lambda row: row.SHAPE['x'], axis=1)\n",
    "sdf['Y'] = sdf.apply(lambda row: row.SHAPE['y'], axis=1)\n",
    "sdf = sdf.drop('SHAPE', axis=1)\n",
    "sdf.head()"
   ]
  },
  {
   "cell_type": "code",
   "execution_count": 7,
   "metadata": {
    "collapsed": true
   },
   "outputs": [],
   "source": [
    "sdf.to_csv('./store_locations.csv')"
   ]
  },
  {
   "cell_type": "code",
   "execution_count": null,
   "metadata": {
    "collapsed": true
   },
   "outputs": [],
   "source": []
  }
 ],
 "metadata": {
  "kernelspec": {
   "display_name": "Python 3",
   "language": "python",
   "name": "python3"
  },
  "language_info": {
   "codemirror_mode": {
    "name": "ipython",
    "version": 3
   },
   "file_extension": ".py",
   "mimetype": "text/x-python",
   "name": "python",
   "nbconvert_exporter": "python",
   "pygments_lexer": "ipython3",
   "version": "3.5.3"
  },
  "widgets": {
   "application/vnd.jupyter.widget-state+json": {
    "state": {
     "05abe89dae14469bb3a51a5f88fa3892": {
      "model_module": "jupyter-js-widgets",
      "model_module_version": "*",
      "model_name": "DOMWidgetModel",
      "state": {
       "_addlayer": "",
       "_arcgis_url": "http://portal.coldbrew.esri.com/portal/sharing/rest/content/items",
       "_extent": "",
       "_jsextent": "",
       "_model_name": "DOMWidgetModel",
       "_swipe_div": "swipeDiv5B6ULV",
       "_token_info": "{\"server\": \"https://portal.coldbrew.esri.com/portal/sharing/rest/\", \"password\": \"Esri3801\", \"tokenurl\": \"https://portal.coldbrew.esri.com/portal/sharing/rest/generateToken\", \"username\": \"headless\"}",
       "_view_module": "mapview",
       "_view_name": "MapView",
       "basemap": "topo",
       "center": [
        0,
        0
       ],
       "end_time": "",
       "id": "",
       "layout": "IPY_MODEL_e29172a8a80a42babfba7cfe75b06f6f",
       "mode": "{\"symbol\": null, \"infoTemplate\": null, \"geometry\": {\"x\": -13563500.716724824, \"y\": 4386409.918831829}, \"attributes\": {\"LOCNUM\": \"404476359\", \"SALESVOL\": 32229}}",
       "start_time": "",
       "width": "100%",
       "zoom": 2
      }
     },
     "14ba1c75fa5b4cd8bc894f9f4e0a83c2": {
      "model_module": "jupyter-js-widgets",
      "model_module_version": "*",
      "model_name": "DOMWidgetModel",
      "state": {
       "_addlayer": "",
       "_arcgis_url": "http://portal.coldbrew.esri.com/portal/sharing/rest/content/items",
       "_extent": "",
       "_jsextent": "",
       "_model_name": "DOMWidgetModel",
       "_swipe_div": "swipeDivT5B0VE",
       "_token_info": "{\"password\": \"Esri3801\", \"username\": \"headless\", \"server\": \"https://portal.coldbrew.esri.com/portal/sharing/rest/\", \"tokenurl\": \"https://portal.coldbrew.esri.com/portal/sharing/rest/generateToken\"}",
       "_view_module": "mapview",
       "_view_name": "MapView",
       "basemap": "topo",
       "center": [
        0,
        0
       ],
       "end_time": "",
       "id": "",
       "layout": "IPY_MODEL_9f74b31b3633482ebf8f69b540b320f1",
       "mode": "{\"geometry\": {\"x\": -13563500.716724824, \"y\": 4386409.918831829}, \"infoTemplate\": null, \"attributes\": {\"SALESVOL\": 32229, \"LOCNUM\": \"404476359\"}, \"symbol\": null}",
       "start_time": "",
       "width": "100%",
       "zoom": 2
      }
     },
     "2c97a89d44c140b79743641c34942c6c": {
      "model_module": "jupyter-js-widgets",
      "model_module_version": "*",
      "model_name": "DOMWidgetModel",
      "state": {
       "_addlayer": "",
       "_arcgis_url": "http://portal.coldbrew.esri.com/portal/sharing/rest/content/items",
       "_extent": "",
       "_jsextent": "",
       "_model_name": "DOMWidgetModel",
       "_swipe_div": "swipeDiv2A0VPE",
       "_token_info": "{\"password\": \"Esri3801\", \"username\": \"headless\", \"server\": \"https://portal.coldbrew.esri.com/portal/sharing/rest/\", \"tokenurl\": \"https://portal.coldbrew.esri.com/portal/sharing/rest/generateToken\"}",
       "_view_module": "mapview",
       "_view_name": "MapView",
       "basemap": "gray",
       "center": [
        0,
        0
       ],
       "end_time": "",
       "id": "",
       "layout": "IPY_MODEL_eddf34a5fd9046e884eafd585ba6bf73",
       "mode": "{\"geometry\": {\"x\": -13563500.716724824, \"y\": 4386409.918831829}, \"infoTemplate\": null, \"attributes\": {\"SALESVOL\": 32229, \"LOCNUM\": \"404476359\"}, \"symbol\": null}",
       "start_time": "",
       "width": "100%",
       "zoom": 2
      }
     },
     "404e3b491f454359a05a229a6d06ac87": {
      "model_module": "jupyter-js-widgets",
      "model_module_version": "~2.1.4",
      "model_name": "LayoutModel",
      "state": {
       "_model_module_version": "~2.1.4",
       "_view_module_version": "~2.1.4"
      }
     },
     "4a63cf70b1d24d09833c409bc92ed9d6": {
      "model_module": "jupyter-js-widgets",
      "model_module_version": "~2.1.4",
      "model_name": "LayoutModel",
      "state": {
       "_model_module_version": "~2.1.4",
       "_view_module_version": "~2.1.4"
      }
     },
     "5d95a1de47c94d4daf5d166a32366228": {
      "model_module": "jupyter-js-widgets",
      "model_module_version": "*",
      "model_name": "DOMWidgetModel",
      "state": {
       "_addlayer": "",
       "_arcgis_url": "http://portal.coldbrew.esri.com/portal/sharing/rest/content/items",
       "_extent": "",
       "_jsextent": "",
       "_model_name": "DOMWidgetModel",
       "_swipe_div": "swipeDiv39HVCF",
       "_token_info": "{\"server\": \"https://portal.coldbrew.esri.com/portal/sharing/rest/\", \"password\": \"Esri3801\", \"tokenurl\": \"https://portal.coldbrew.esri.com/portal/sharing/rest/generateToken\", \"username\": \"headless\"}",
       "_view_module": "mapview",
       "_view_name": "MapView",
       "basemap": "topo",
       "center": [
        0,
        0
       ],
       "end_time": "",
       "id": "",
       "layout": "IPY_MODEL_4a63cf70b1d24d09833c409bc92ed9d6",
       "mode": "{\"symbol\": null, \"infoTemplate\": null, \"geometry\": {\"x\": -13563500.716724824, \"y\": 4386409.918831829}, \"attributes\": {\"LOCNUM\": \"404476359\", \"SALESVOL\": 32229}}",
       "start_time": "",
       "width": "100%",
       "zoom": 2
      }
     },
     "7d45761366b0457ebda96cea5f0fc9d1": {
      "model_module": "jupyter-js-widgets",
      "model_module_version": "*",
      "model_name": "DOMWidgetModel",
      "state": {
       "_addlayer": "",
       "_arcgis_url": "http://portal.coldbrew.esri.com/portal/sharing/rest/content/items",
       "_extent": "",
       "_jsextent": "{\"type\":\"extent\",\"xmin\":-13564199.923356047,\"ymin\":4385839.4148660945,\"xmax\":-13561787.379650733,\"ymax\":4386794.8777196845,\"spatialReference\":{\"wkid\":102100,\"latestWkid\":3857}}",
       "_model_name": "DOMWidgetModel",
       "_swipe_div": "swipeDiv492DVH",
       "_token_info": "{\"password\": \"Esri3801\", \"username\": \"headless\", \"server\": \"https://portal.coldbrew.esri.com/portal/sharing/rest/\", \"tokenurl\": \"https://portal.coldbrew.esri.com/portal/sharing/rest/generateToken\"}",
       "_view_module": "mapview",
       "_view_name": "MapView",
       "basemap": "gray",
       "center": [
        0,
        0
       ],
       "end_time": "",
       "id": "",
       "layout": "IPY_MODEL_404e3b491f454359a05a229a6d06ac87",
       "mode": "{\"geometry\": {\"x\": -121.84299999999993, \"y\": 36.62100000000007}, \"infoTemplate\": null, \"attributes\": {\"SALESVOL\": 32229, \"LOCNUM\": \"404476359\"}, \"symbol\": null}",
       "start_time": "",
       "width": "100%",
       "zoom": 2
      }
     },
     "824d95b558e641ada37d80b6143a9307": {
      "model_module": "jupyter-js-widgets",
      "model_module_version": "~2.1.4",
      "model_name": "LayoutModel",
      "state": {
       "_model_module_version": "~2.1.4",
       "_view_module_version": "~2.1.4"
      }
     },
     "9f74b31b3633482ebf8f69b540b320f1": {
      "model_module": "jupyter-js-widgets",
      "model_module_version": "~2.1.4",
      "model_name": "LayoutModel",
      "state": {
       "_model_module_version": "~2.1.4",
       "_view_module_version": "~2.1.4"
      }
     },
     "e29172a8a80a42babfba7cfe75b06f6f": {
      "model_module": "jupyter-js-widgets",
      "model_module_version": "~2.1.4",
      "model_name": "LayoutModel",
      "state": {
       "_model_module_version": "~2.1.4",
       "_view_module_version": "~2.1.4"
      }
     },
     "e6f3693926aa4fdfbb7611a1fa315c37": {
      "model_module": "jupyter-js-widgets",
      "model_module_version": "*",
      "model_name": "DOMWidgetModel",
      "state": {
       "_addlayer": "",
       "_arcgis_url": "http://portal.coldbrew.esri.com/portal/sharing/rest/content/items",
       "_extent": "",
       "_jsextent": "",
       "_model_name": "DOMWidgetModel",
       "_swipe_div": "swipeDivO4BLRI",
       "_token_info": "{\"password\": \"Esri3801\", \"username\": \"headless\", \"server\": \"https://portal.coldbrew.esri.com/portal/sharing/rest/\", \"tokenurl\": \"https://portal.coldbrew.esri.com/portal/sharing/rest/generateToken\"}",
       "_view_module": "mapview",
       "_view_name": "MapView",
       "basemap": "topo",
       "center": [
        0,
        0
       ],
       "end_time": "",
       "id": "",
       "layout": "IPY_MODEL_824d95b558e641ada37d80b6143a9307",
       "mode": "{\"geometry\": {\"x\": -13563500.716724824, \"y\": 4386409.918831829}, \"infoTemplate\": null, \"attributes\": {\"SALESVOL\": 32229, \"LOCNUM\": \"404476359\"}, \"symbol\": null}",
       "start_time": "",
       "width": "100%",
       "zoom": 2
      }
     },
     "ec820fa166d84255a97974034aa3045f": {
      "model_module": "jupyter-js-widgets",
      "model_module_version": "*",
      "model_name": "DOMWidgetModel",
      "state": {
       "_addlayer": "",
       "_arcgis_url": "http://portal.coldbrew.esri.com/portal/sharing/rest/content/items",
       "_extent": "",
       "_jsextent": "",
       "_model_name": "DOMWidgetModel",
       "_swipe_div": "swipeDivM2IH96",
       "_token_info": "{\"password\": \"Esri3801\", \"username\": \"headless\", \"server\": \"https://portal.coldbrew.esri.com/portal/sharing/rest/\", \"tokenurl\": \"https://portal.coldbrew.esri.com/portal/sharing/rest/generateToken\"}",
       "_view_module": "mapview",
       "_view_name": "MapView",
       "basemap": "topo",
       "center": [
        0,
        0
       ],
       "end_time": "",
       "id": "",
       "layout": "IPY_MODEL_f9aff1c04f154ea998cf7c9088b5fe24",
       "mode": "{\"geometry\": {\"x\": -13563500.716724824, \"y\": 4386409.918831829}, \"infoTemplate\": null, \"attributes\": {\"SALESVOL\": 32229, \"LOCNUM\": \"404476359\"}, \"symbol\": null}",
       "start_time": "",
       "width": "100%",
       "zoom": 2
      }
     },
     "eddf34a5fd9046e884eafd585ba6bf73": {
      "model_module": "jupyter-js-widgets",
      "model_module_version": "~2.1.4",
      "model_name": "LayoutModel",
      "state": {
       "_model_module_version": "~2.1.4",
       "_view_module_version": "~2.1.4"
      }
     },
     "f9aff1c04f154ea998cf7c9088b5fe24": {
      "model_module": "jupyter-js-widgets",
      "model_module_version": "~2.1.4",
      "model_name": "LayoutModel",
      "state": {
       "_model_module_version": "~2.1.4",
       "_view_module_version": "~2.1.4"
      }
     }
    },
    "version_major": 1,
    "version_minor": 0
   }
  }
 },
 "nbformat": 4,
 "nbformat_minor": 2
}
